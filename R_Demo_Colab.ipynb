{
  "nbformat": 4,
  "nbformat_minor": 0,
  "metadata": {
    "colab": {
      "provenance": [],
      "authorship_tag": "ABX9TyMNiL/2BnQN07c3N/dUfGiF",
      "include_colab_link": true
    },
    "kernelspec": {
      "name": "ir",
      "display_name": "R"
    },
    "language_info": {
      "name": "R"
    }
  },
  "cells": [
    {
      "cell_type": "markdown",
      "metadata": {
        "id": "view-in-github",
        "colab_type": "text"
      },
      "source": [
        "<a href=\"https://colab.research.google.com/github/Cann-Emma/R/blob/main/R_Demo_Colab.ipynb\" target=\"_parent\"><img src=\"https://colab.research.google.com/assets/colab-badge.svg\" alt=\"Open In Colab\"/></a>"
      ]
    },
    {
      "cell_type": "markdown",
      "source": [
        "# PRE-POWER ANALYSIS"
      ],
      "metadata": {
        "id": "Fv_otDQqyB8I"
      }
    },
    {
      "cell_type": "code",
      "source": [
        "pwr.anova.test(k= 3, n= NULL, f= .14, power = .80)\n",
        "# to get a large effect size(R2= .14) and 80% power, I need 165 participants per each group. Having three groups, N= 495"
      ],
      "metadata": {
        "colab": {
          "base_uri": "https://localhost:8080/",
          "height": 191
        },
        "id": "H4GPTDbIn5AE",
        "outputId": "64bae04a-076f-4219-cb3a-fd34da384c93"
      },
      "execution_count": 48,
      "outputs": [
        {
          "output_type": "display_data",
          "data": {
            "text/plain": [
              "\n",
              "     Balanced one-way analysis of variance power calculation \n",
              "\n",
              "              k = 3\n",
              "              n = 164.8579\n",
              "              f = 0.14\n",
              "      sig.level = 0.05\n",
              "          power = 0.8\n",
              "\n",
              "NOTE: n is number in each group\n"
            ]
          },
          "metadata": {}
        }
      ]
    },
    {
      "cell_type": "markdown",
      "source": [
        "# LOADING PACKAGES AND DATASET"
      ],
      "metadata": {
        "id": "OvrJioe8yKTD"
      }
    },
    {
      "cell_type": "code",
      "source": [
        "print(R.version.string)"
      ],
      "metadata": {
        "colab": {
          "base_uri": "https://localhost:8080/"
        },
        "id": "xnNDIGTBkhBj",
        "outputId": "3b3bd125-f6e2-40d7-a348-2b855c0bccec"
      },
      "execution_count": 16,
      "outputs": [
        {
          "output_type": "stream",
          "name": "stdout",
          "text": [
            "[1] \"R version 4.3.1 (2023-06-16)\"\n"
          ]
        }
      ]
    },
    {
      "cell_type": "code",
      "source": [
        "print(installed.packages())\n",
        "install.packages('dplyr')\n",
        "install.packages('psych')\n",
        "install.packages('car')\n",
        "install.packages('pwr')\n",
        "install.packages('ggplot2')"
      ],
      "metadata": {
        "id": "84oDT-JZlAE8"
      },
      "execution_count": null,
      "outputs": []
    },
    {
      "cell_type": "code",
      "source": [
        "library(dplyr)\n",
        "library(psych)\n",
        "library(car)\n",
        "library(emmeans)\n",
        "library(pwr)\n",
        "library(ggplot2)"
      ],
      "metadata": {
        "colab": {
          "base_uri": "https://localhost:8080/"
        },
        "id": "Db2Dh66RnWBz",
        "outputId": "829e2f53-c5f3-41a1-e006-9b7c8c289858"
      },
      "execution_count": 50,
      "outputs": [
        {
          "output_type": "stream",
          "name": "stderr",
          "text": [
            "\n",
            "Attaching package: ‘ggplot2’\n",
            "\n",
            "\n",
            "The following objects are masked from ‘package:psych’:\n",
            "\n",
            "    %+%, alpha\n",
            "\n",
            "\n"
          ]
        }
      ]
    },
    {
      "cell_type": "code",
      "source": [
        "install.packages('emmeans')"
      ],
      "metadata": {
        "id": "2j4Vitj4nLMO"
      },
      "execution_count": null,
      "outputs": []
    },
    {
      "cell_type": "code",
      "execution_count": 44,
      "metadata": {
        "id": "c-OE_DQKhcA7"
      },
      "outputs": [],
      "source": [
        "Analysis= read.csv('Exp_2_Analysis_Data.csv')"
      ]
    },
    {
      "cell_type": "markdown",
      "source": [
        "# DATA SUMMARY"
      ],
      "metadata": {
        "id": "MeQQP-mbype_"
      }
    },
    {
      "cell_type": "code",
      "source": [
        "# What is the mean for each group?\n",
        "round(mean(Analysis$Long.Mask.Time...5.Second..Group), 2)\n",
        "round(mean(Analysis$Medium.Mask.Time...3.Second..Group), 2)\n",
        "round(mean(Analysis$Short.Mask.Time...1.Second..Group), 2)"
      ],
      "metadata": {
        "colab": {
          "base_uri": "https://localhost:8080/",
          "height": 69
        },
        "id": "3ehdFtIkiNKo",
        "outputId": "b6879c18-0109-4814-aaed-d21c18a5436d"
      },
      "execution_count": 45,
      "outputs": [
        {
          "output_type": "display_data",
          "data": {
            "text/html": [
              "19.61"
            ],
            "text/markdown": "19.61",
            "text/latex": "19.61",
            "text/plain": [
              "[1] 19.61"
            ]
          },
          "metadata": {}
        },
        {
          "output_type": "display_data",
          "data": {
            "text/html": [
              "15.98"
            ],
            "text/markdown": "15.98",
            "text/latex": "15.98",
            "text/plain": [
              "[1] 15.98"
            ]
          },
          "metadata": {}
        },
        {
          "output_type": "display_data",
          "data": {
            "text/html": [
              "11.92"
            ],
            "text/markdown": "11.92",
            "text/latex": "11.92",
            "text/plain": [
              "[1] 11.92"
            ]
          },
          "metadata": {}
        }
      ]
    },
    {
      "cell_type": "code",
      "source": [
        "describe(Analysis)\n",
        "# The three means seem to vary."
      ],
      "metadata": {
        "colab": {
          "base_uri": "https://localhost:8080/",
          "height": 212
        },
        "id": "jZJ2IV3Dn5Ho",
        "outputId": "f1582680-0db4-480e-8ea8-b42cb2040441"
      },
      "execution_count": 46,
      "outputs": [
        {
          "output_type": "display_data",
          "data": {
            "text/html": [
              "<table class=\"dataframe\">\n",
              "<caption>A psych: 3 × 13</caption>\n",
              "<thead>\n",
              "\t<tr><th></th><th scope=col>vars</th><th scope=col>n</th><th scope=col>mean</th><th scope=col>sd</th><th scope=col>median</th><th scope=col>trimmed</th><th scope=col>mad</th><th scope=col>min</th><th scope=col>max</th><th scope=col>range</th><th scope=col>skew</th><th scope=col>kurtosis</th><th scope=col>se</th></tr>\n",
              "\t<tr><th></th><th scope=col>&lt;int&gt;</th><th scope=col>&lt;dbl&gt;</th><th scope=col>&lt;dbl&gt;</th><th scope=col>&lt;dbl&gt;</th><th scope=col>&lt;dbl&gt;</th><th scope=col>&lt;dbl&gt;</th><th scope=col>&lt;dbl&gt;</th><th scope=col>&lt;dbl&gt;</th><th scope=col>&lt;dbl&gt;</th><th scope=col>&lt;dbl&gt;</th><th scope=col>&lt;dbl&gt;</th><th scope=col>&lt;dbl&gt;</th><th scope=col>&lt;dbl&gt;</th></tr>\n",
              "</thead>\n",
              "<tbody>\n",
              "\t<tr><th scope=row>Short.Mask.Time...1.Second..Group</th><td>1</td><td>264</td><td>11.91868</td><td>6.094232</td><td>10.4278</td><td>11.06732</td><td>4.449876</td><td>3.0070</td><td>48.7378</td><td>45.7308</td><td>2.0037375</td><td>6.4299011</td><td>0.3750741</td></tr>\n",
              "\t<tr><th scope=row>Medium.Mask.Time...3.Second..Group</th><td>2</td><td>264</td><td>15.97856</td><td>7.206691</td><td>14.3839</td><td>15.19544</td><td>6.603352</td><td>4.8070</td><td>45.7216</td><td>40.9146</td><td>1.1390673</td><td>1.6538749</td><td>0.4435412</td></tr>\n",
              "\t<tr><th scope=row>Long.Mask.Time...5.Second..Group</th><td>3</td><td>264</td><td>19.60788</td><td>8.762287</td><td>18.2209</td><td>18.80879</td><td>8.627694</td><td>4.3324</td><td>50.8850</td><td>46.5526</td><td>0.8379457</td><td>0.6340245</td><td>0.5392815</td></tr>\n",
              "</tbody>\n",
              "</table>\n"
            ],
            "text/markdown": "\nA psych: 3 × 13\n\n| <!--/--> | vars &lt;int&gt; | n &lt;dbl&gt; | mean &lt;dbl&gt; | sd &lt;dbl&gt; | median &lt;dbl&gt; | trimmed &lt;dbl&gt; | mad &lt;dbl&gt; | min &lt;dbl&gt; | max &lt;dbl&gt; | range &lt;dbl&gt; | skew &lt;dbl&gt; | kurtosis &lt;dbl&gt; | se &lt;dbl&gt; |\n|---|---|---|---|---|---|---|---|---|---|---|---|---|---|\n| Short.Mask.Time...1.Second..Group | 1 | 264 | 11.91868 | 6.094232 | 10.4278 | 11.06732 | 4.449876 | 3.0070 | 48.7378 | 45.7308 | 2.0037375 | 6.4299011 | 0.3750741 |\n| Medium.Mask.Time...3.Second..Group | 2 | 264 | 15.97856 | 7.206691 | 14.3839 | 15.19544 | 6.603352 | 4.8070 | 45.7216 | 40.9146 | 1.1390673 | 1.6538749 | 0.4435412 |\n| Long.Mask.Time...5.Second..Group | 3 | 264 | 19.60788 | 8.762287 | 18.2209 | 18.80879 | 8.627694 | 4.3324 | 50.8850 | 46.5526 | 0.8379457 | 0.6340245 | 0.5392815 |\n\n",
            "text/latex": "A psych: 3 × 13\n\\begin{tabular}{r|lllllllllllll}\n  & vars & n & mean & sd & median & trimmed & mad & min & max & range & skew & kurtosis & se\\\\\n  & <int> & <dbl> & <dbl> & <dbl> & <dbl> & <dbl> & <dbl> & <dbl> & <dbl> & <dbl> & <dbl> & <dbl> & <dbl>\\\\\n\\hline\n\tShort.Mask.Time...1.Second..Group & 1 & 264 & 11.91868 & 6.094232 & 10.4278 & 11.06732 & 4.449876 & 3.0070 & 48.7378 & 45.7308 & 2.0037375 & 6.4299011 & 0.3750741\\\\\n\tMedium.Mask.Time...3.Second..Group & 2 & 264 & 15.97856 & 7.206691 & 14.3839 & 15.19544 & 6.603352 & 4.8070 & 45.7216 & 40.9146 & 1.1390673 & 1.6538749 & 0.4435412\\\\\n\tLong.Mask.Time...5.Second..Group & 3 & 264 & 19.60788 & 8.762287 & 18.2209 & 18.80879 & 8.627694 & 4.3324 & 50.8850 & 46.5526 & 0.8379457 & 0.6340245 & 0.5392815\\\\\n\\end{tabular}\n",
            "text/plain": [
              "                                   vars n   mean     sd       median  trimmed \n",
              "Short.Mask.Time...1.Second..Group  1    264 11.91868 6.094232 10.4278 11.06732\n",
              "Medium.Mask.Time...3.Second..Group 2    264 15.97856 7.206691 14.3839 15.19544\n",
              "Long.Mask.Time...5.Second..Group   3    264 19.60788 8.762287 18.2209 18.80879\n",
              "                                   mad      min    max     range   skew     \n",
              "Short.Mask.Time...1.Second..Group  4.449876 3.0070 48.7378 45.7308 2.0037375\n",
              "Medium.Mask.Time...3.Second..Group 6.603352 4.8070 45.7216 40.9146 1.1390673\n",
              "Long.Mask.Time...5.Second..Group   8.627694 4.3324 50.8850 46.5526 0.8379457\n",
              "                                   kurtosis  se       \n",
              "Short.Mask.Time...1.Second..Group  6.4299011 0.3750741\n",
              "Medium.Mask.Time...3.Second..Group 1.6538749 0.4435412\n",
              "Long.Mask.Time...5.Second..Group   0.6340245 0.5392815"
            ]
          },
          "metadata": {}
        }
      ]
    },
    {
      "cell_type": "markdown",
      "source": [
        "# DATA VISUALIZATION"
      ],
      "metadata": {
        "id": "zgu0QR_Sxp92"
      }
    },
    {
      "cell_type": "code",
      "source": [
        "ggplot(Analysis)+geom_histogram(aes(x= Long.Mask.Time...5.Second..Group), colour= 'black', fill= 'green', binwidth= 5)+ggtitle(' Response Time Distribution(Long Mask)')+xlab('Response Time')+ theme_bw()+theme(panel.grid= element_blank())"
      ],
      "metadata": {
        "colab": {
          "base_uri": "https://localhost:8080/",
          "height": 437
        },
        "id": "FkgdVr5gn4oM",
        "outputId": "774140d5-f4f0-456f-d6f8-2d4154367079"
      },
      "execution_count": 59,
      "outputs": [
        {
          "output_type": "display_data",
          "data": {
            "text/plain": [
              "plot without title"
            ],
            "image/png": "[encoded data removed]"
          },
          "metadata": {
            "image/png": {
              "width": 420,
              "height": 420
            }
          }
        }
      ]
    },
    {
      "cell_type": "code",
      "source": [
        "ggplot(Analysis)+geom_histogram(aes(x= Medium.Mask.Time...3.Second..Group), colour= 'black', fill= 'blue', binwidth= 5)+ggtitle('Response Time Distribution(Medium Mask)')+xlab('Response Time')+theme_bw()+theme(panel.grid= element_blank())"
      ],
      "metadata": {
        "colab": {
          "base_uri": "https://localhost:8080/",
          "height": 437
        },
        "id": "OH7L6ACJn4gT",
        "outputId": "1aba98fc-9fd0-4ece-93ad-2e3b6cbe96ed"
      },
      "execution_count": 58,
      "outputs": [
        {
          "output_type": "display_data",
          "data": {
            "text/plain": [
              "plot without title"
            ],
            "image/png": "[encoded data removed]"
          },
          "metadata": {
            "image/png": {
              "width": 420,
              "height": 420
            }
          }
        }
      ]
    },
    {
      "cell_type": "code",
      "source": [
        "ggplot(Analysis)+geom_histogram(aes(x= Short.Mask.Time...1.Second..Group), colour= 'black', fill= 'red', binwidth= 5)+ggtitle('Response Time Distribution(Short Mask)')+xlab('Response Time')+theme_bw()+theme(panel.grid= element_blank())"
      ],
      "metadata": {
        "colab": {
          "base_uri": "https://localhost:8080/",
          "height": 437
        },
        "id": "IBMfS_mluDlV",
        "outputId": "4917360b-cd0e-4217-dedc-1ec74d4c9980"
      },
      "execution_count": 57,
      "outputs": [
        {
          "output_type": "display_data",
          "data": {
            "text/plain": [
              "plot without title"
            ],
            "image/png": "[encoded data removed]"
          },
          "metadata": {
            "image/png": {
              "width": 420,
              "height": 420
            }
          }
        }
      ]
    },
    {
      "cell_type": "markdown",
      "source": [
        "#STATISTICAL ASSUMPTION TEST"
      ],
      "metadata": {
        "id": "6HohLL3wxzgn"
      }
    },
    {
      "cell_type": "code",
      "source": [
        "# Shapiro Wilk Test for Normality\n",
        "shapiro.test(Analysis$Long.Mask.Time...5.Second..Group)\n",
        "shapiro.test(Analysis$Medium.Mask.Time...3.Second..Group)\n",
        "shapiro.test(Analysis$Short.Mask.Time...1.Second..Group)\n",
        "\n",
        "#The results support the graphs. Seeing ad the p-values are significant for the Shapiro Wil Test, the three groups are not normally distributed"
      ],
      "metadata": {
        "colab": {
          "base_uri": "https://localhost:8080/",
          "height": 277
        },
        "id": "onzb9VIwvAVY",
        "outputId": "c20bff8c-c78c-4f36-820b-5e40aacd7cee"
      },
      "execution_count": 62,
      "outputs": [
        {
          "output_type": "display_data",
          "data": {
            "text/plain": [
              "\n",
              "\tShapiro-Wilk normality test\n",
              "\n",
              "data:  Analysis$Long.Mask.Time...5.Second..Group\n",
              "W = 0.95176, p-value = 1.159e-07\n"
            ]
          },
          "metadata": {}
        },
        {
          "output_type": "display_data",
          "data": {
            "text/plain": [
              "\n",
              "\tShapiro-Wilk normality test\n",
              "\n",
              "data:  Analysis$Medium.Mask.Time...3.Second..Group\n",
              "W = 0.92392, p-value = 2.267e-10\n"
            ]
          },
          "metadata": {}
        },
        {
          "output_type": "display_data",
          "data": {
            "text/plain": [
              "\n",
              "\tShapiro-Wilk normality test\n",
              "\n",
              "data:  Analysis$Short.Mask.Time...1.Second..Group\n",
              "W = 0.8449, p-value = 1.438e-15\n"
            ]
          },
          "metadata": {}
        }
      ]
    }
  ]
}