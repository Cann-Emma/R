{
  "nbformat": 4,
  "nbformat_minor": 0,
  "metadata": {
    "colab": {
      "provenance": [],
      "authorship_tag": "ABX9TyMCdNRylKf6JdgByXgik3PX",
      "include_colab_link": true
    },
    "kernelspec": {
      "name": "ir",
      "display_name": "R"
    },
    "language_info": {
      "name": "R"
    }
  },
  "cells": [
    {
      "cell_type": "markdown",
      "metadata": {
        "id": "view-in-github",
        "colab_type": "text"
      },
      "source": [
        "<a href=\"https://colab.research.google.com/github/Cann-Emma/R/blob/main/Traditional_Wrangling.ipynb\" target=\"_parent\"><img src=\"https://colab.research.google.com/assets/colab-badge.svg\" alt=\"Open In Colab\"/></a>"
      ]
    },
    {
      "cell_type": "markdown",
      "source": [
        "# TRADITIONAL WRANGLING\n",
        "Data Description\n",
        "\n",
        "*   Age: Age in years.\n",
        "\n",
        "*   Sex : Coded M for males and F for females.\n",
        "\n",
        "*   Own.Home: H = Yes; U = No or unknown.\n",
        "\n",
        "*   Children: Counts of number of children.\n",
        "*   Other.Gifts: Counts of other gifts donated.\n",
        "\n",
        "\n",
        "*   Income. Income levels of donors: 1= Lowest, 7=Highest\n",
        "\n",
        "\n",
        "*   Time.Between.Gifts: Time between gifts, in months\n",
        "\n",
        "\n",
        "*   Smallest.Gift, Largest.Gift, Current.Gift. All in dollars\n",
        "\n",
        "\n"
      ],
      "metadata": {
        "id": "e_M6-5FuKNnD"
      }
    },
    {
      "cell_type": "code",
      "execution_count": 7,
      "metadata": {
        "id": "lAn1fNcVAIsO"
      },
      "outputs": [],
      "source": [
        "PVA= read.csv('PVA (1).csv')"
      ]
    },
    {
      "cell_type": "code",
      "source": [
        "# Adding a new column\n",
        "PVA_dat= PVA\n",
        "PVA_dat$diff.in.gifts= PVA_dat$Largest.Gift-PVA_dat$Smallest.Gift\n",
        "head(PVA_dat)"
      ],
      "metadata": {
        "colab": {
          "base_uri": "https://localhost:8080/",
          "height": 286
        },
        "id": "Mtlgjf8ZBBIF",
        "outputId": "d8642e51-17f8-4830-cf20-d56547cb3f59"
      },
      "execution_count": 20,
      "outputs": [
        {
          "output_type": "display_data",
          "data": {
            "text/html": [
              "<table class=\"dataframe\">\n",
              "<caption>A data.frame: 6 × 11</caption>\n",
              "<thead>\n",
              "\t<tr><th></th><th scope=col>Age</th><th scope=col>Own.Home</th><th scope=col>Sex</th><th scope=col>Children</th><th scope=col>Income</th><th scope=col>Smallest.Gift</th><th scope=col>Largest.Gift</th><th scope=col>Current.Gift</th><th scope=col>Other.Gifts</th><th scope=col>Time.Between.Gifts</th><th scope=col>diff.in.gifts</th></tr>\n",
              "\t<tr><th></th><th scope=col>&lt;int&gt;</th><th scope=col>&lt;chr&gt;</th><th scope=col>&lt;chr&gt;</th><th scope=col>&lt;int&gt;</th><th scope=col>&lt;int&gt;</th><th scope=col>&lt;dbl&gt;</th><th scope=col>&lt;dbl&gt;</th><th scope=col>&lt;dbl&gt;</th><th scope=col>&lt;int&gt;</th><th scope=col>&lt;int&gt;</th><th scope=col>&lt;dbl&gt;</th></tr>\n",
              "</thead>\n",
              "<tbody>\n",
              "\t<tr><th scope=row>1</th><td>64</td><td>H</td><td>F</td><td>0</td><td>1</td><td> 3</td><td>300</td><td>200</td><td> 0</td><td> 3</td><td>297</td></tr>\n",
              "\t<tr><th scope=row>2</th><td>91</td><td>U</td><td>M</td><td>0</td><td>1</td><td>25</td><td> 50</td><td>200</td><td> 1</td><td>13</td><td> 25</td></tr>\n",
              "\t<tr><th scope=row>3</th><td>82</td><td>H</td><td>M</td><td>0</td><td>5</td><td> 2</td><td>250</td><td>200</td><td>42</td><td> 6</td><td>248</td></tr>\n",
              "\t<tr><th scope=row>4</th><td>61</td><td>H</td><td>F</td><td>0</td><td>1</td><td>20</td><td> 25</td><td>200</td><td> 0</td><td> 5</td><td>  5</td></tr>\n",
              "\t<tr><th scope=row>5</th><td>71</td><td>U</td><td>M</td><td>0</td><td>5</td><td>25</td><td> 25</td><td>150</td><td> 2</td><td> 5</td><td>  0</td></tr>\n",
              "\t<tr><th scope=row>6</th><td>90</td><td>U</td><td>F</td><td>0</td><td>1</td><td> 5</td><td>133</td><td>102</td><td> 0</td><td> 5</td><td>128</td></tr>\n",
              "</tbody>\n",
              "</table>\n"
            ],
            "text/markdown": "\nA data.frame: 6 × 11\n\n| <!--/--> | Age &lt;int&gt; | Own.Home &lt;chr&gt; | Sex &lt;chr&gt; | Children &lt;int&gt; | Income &lt;int&gt; | Smallest.Gift &lt;dbl&gt; | Largest.Gift &lt;dbl&gt; | Current.Gift &lt;dbl&gt; | Other.Gifts &lt;int&gt; | Time.Between.Gifts &lt;int&gt; | diff.in.gifts &lt;dbl&gt; |\n|---|---|---|---|---|---|---|---|---|---|---|---|\n| 1 | 64 | H | F | 0 | 1 |  3 | 300 | 200 |  0 |  3 | 297 |\n| 2 | 91 | U | M | 0 | 1 | 25 |  50 | 200 |  1 | 13 |  25 |\n| 3 | 82 | H | M | 0 | 5 |  2 | 250 | 200 | 42 |  6 | 248 |\n| 4 | 61 | H | F | 0 | 1 | 20 |  25 | 200 |  0 |  5 |   5 |\n| 5 | 71 | U | M | 0 | 5 | 25 |  25 | 150 |  2 |  5 |   0 |\n| 6 | 90 | U | F | 0 | 1 |  5 | 133 | 102 |  0 |  5 | 128 |\n\n",
            "text/latex": "A data.frame: 6 × 11\n\\begin{tabular}{r|lllllllllll}\n  & Age & Own.Home & Sex & Children & Income & Smallest.Gift & Largest.Gift & Current.Gift & Other.Gifts & Time.Between.Gifts & diff.in.gifts\\\\\n  & <int> & <chr> & <chr> & <int> & <int> & <dbl> & <dbl> & <dbl> & <int> & <int> & <dbl>\\\\\n\\hline\n\t1 & 64 & H & F & 0 & 1 &  3 & 300 & 200 &  0 &  3 & 297\\\\\n\t2 & 91 & U & M & 0 & 1 & 25 &  50 & 200 &  1 & 13 &  25\\\\\n\t3 & 82 & H & M & 0 & 5 &  2 & 250 & 200 & 42 &  6 & 248\\\\\n\t4 & 61 & H & F & 0 & 1 & 20 &  25 & 200 &  0 &  5 &   5\\\\\n\t5 & 71 & U & M & 0 & 5 & 25 &  25 & 150 &  2 &  5 &   0\\\\\n\t6 & 90 & U & F & 0 & 1 &  5 & 133 & 102 &  0 &  5 & 128\\\\\n\\end{tabular}\n",
            "text/plain": [
              "  Age Own.Home Sex Children Income Smallest.Gift Largest.Gift Current.Gift\n",
              "1 64  H        F   0        1       3            300          200         \n",
              "2 91  U        M   0        1      25             50          200         \n",
              "3 82  H        M   0        5       2            250          200         \n",
              "4 61  H        F   0        1      20             25          200         \n",
              "5 71  U        M   0        5      25             25          150         \n",
              "6 90  U        F   0        1       5            133          102         \n",
              "  Other.Gifts Time.Between.Gifts diff.in.gifts\n",
              "1  0           3                 297          \n",
              "2  1          13                  25          \n",
              "3 42           6                 248          \n",
              "4  0           5                   5          \n",
              "5  2           5                   0          \n",
              "6  0           5                 128          "
            ]
          },
          "metadata": {}
        }
      ]
    },
    {
      "cell_type": "code",
      "source": [
        "# Renaming\n",
        "names(PVA_dat)[c(5, 8)]= c('income_level', 'current_gift')\n",
        "head(PVA_dat)"
      ],
      "metadata": {
        "colab": {
          "base_uri": "https://localhost:8080/",
          "height": 286
        },
        "id": "9DCeLiNSBBR_",
        "outputId": "ab27b173-704c-413b-a44a-00b662801013"
      },
      "execution_count": 22,
      "outputs": [
        {
          "output_type": "display_data",
          "data": {
            "text/html": [
              "<table class=\"dataframe\">\n",
              "<caption>A data.frame: 6 × 11</caption>\n",
              "<thead>\n",
              "\t<tr><th></th><th scope=col>Age</th><th scope=col>Own.Home</th><th scope=col>Sex</th><th scope=col>Children</th><th scope=col>income_level</th><th scope=col>Smallest.Gift</th><th scope=col>Largest.Gift</th><th scope=col>current_gift</th><th scope=col>Other.Gifts</th><th scope=col>Time.Between.Gifts</th><th scope=col>diff.in.gifts</th></tr>\n",
              "\t<tr><th></th><th scope=col>&lt;int&gt;</th><th scope=col>&lt;chr&gt;</th><th scope=col>&lt;chr&gt;</th><th scope=col>&lt;int&gt;</th><th scope=col>&lt;int&gt;</th><th scope=col>&lt;dbl&gt;</th><th scope=col>&lt;dbl&gt;</th><th scope=col>&lt;dbl&gt;</th><th scope=col>&lt;int&gt;</th><th scope=col>&lt;int&gt;</th><th scope=col>&lt;dbl&gt;</th></tr>\n",
              "</thead>\n",
              "<tbody>\n",
              "\t<tr><th scope=row>1</th><td>64</td><td>H</td><td>F</td><td>0</td><td>1</td><td> 3</td><td>300</td><td>200</td><td> 0</td><td> 3</td><td>297</td></tr>\n",
              "\t<tr><th scope=row>2</th><td>91</td><td>U</td><td>M</td><td>0</td><td>1</td><td>25</td><td> 50</td><td>200</td><td> 1</td><td>13</td><td> 25</td></tr>\n",
              "\t<tr><th scope=row>3</th><td>82</td><td>H</td><td>M</td><td>0</td><td>5</td><td> 2</td><td>250</td><td>200</td><td>42</td><td> 6</td><td>248</td></tr>\n",
              "\t<tr><th scope=row>4</th><td>61</td><td>H</td><td>F</td><td>0</td><td>1</td><td>20</td><td> 25</td><td>200</td><td> 0</td><td> 5</td><td>  5</td></tr>\n",
              "\t<tr><th scope=row>5</th><td>71</td><td>U</td><td>M</td><td>0</td><td>5</td><td>25</td><td> 25</td><td>150</td><td> 2</td><td> 5</td><td>  0</td></tr>\n",
              "\t<tr><th scope=row>6</th><td>90</td><td>U</td><td>F</td><td>0</td><td>1</td><td> 5</td><td>133</td><td>102</td><td> 0</td><td> 5</td><td>128</td></tr>\n",
              "</tbody>\n",
              "</table>\n"
            ],
            "text/markdown": "\nA data.frame: 6 × 11\n\n| <!--/--> | Age &lt;int&gt; | Own.Home &lt;chr&gt; | Sex &lt;chr&gt; | Children &lt;int&gt; | income_level &lt;int&gt; | Smallest.Gift &lt;dbl&gt; | Largest.Gift &lt;dbl&gt; | current_gift &lt;dbl&gt; | Other.Gifts &lt;int&gt; | Time.Between.Gifts &lt;int&gt; | diff.in.gifts &lt;dbl&gt; |\n|---|---|---|---|---|---|---|---|---|---|---|---|\n| 1 | 64 | H | F | 0 | 1 |  3 | 300 | 200 |  0 |  3 | 297 |\n| 2 | 91 | U | M | 0 | 1 | 25 |  50 | 200 |  1 | 13 |  25 |\n| 3 | 82 | H | M | 0 | 5 |  2 | 250 | 200 | 42 |  6 | 248 |\n| 4 | 61 | H | F | 0 | 1 | 20 |  25 | 200 |  0 |  5 |   5 |\n| 5 | 71 | U | M | 0 | 5 | 25 |  25 | 150 |  2 |  5 |   0 |\n| 6 | 90 | U | F | 0 | 1 |  5 | 133 | 102 |  0 |  5 | 128 |\n\n",
            "text/latex": "A data.frame: 6 × 11\n\\begin{tabular}{r|lllllllllll}\n  & Age & Own.Home & Sex & Children & income\\_level & Smallest.Gift & Largest.Gift & current\\_gift & Other.Gifts & Time.Between.Gifts & diff.in.gifts\\\\\n  & <int> & <chr> & <chr> & <int> & <int> & <dbl> & <dbl> & <dbl> & <int> & <int> & <dbl>\\\\\n\\hline\n\t1 & 64 & H & F & 0 & 1 &  3 & 300 & 200 &  0 &  3 & 297\\\\\n\t2 & 91 & U & M & 0 & 1 & 25 &  50 & 200 &  1 & 13 &  25\\\\\n\t3 & 82 & H & M & 0 & 5 &  2 & 250 & 200 & 42 &  6 & 248\\\\\n\t4 & 61 & H & F & 0 & 1 & 20 &  25 & 200 &  0 &  5 &   5\\\\\n\t5 & 71 & U & M & 0 & 5 & 25 &  25 & 150 &  2 &  5 &   0\\\\\n\t6 & 90 & U & F & 0 & 1 &  5 & 133 & 102 &  0 &  5 & 128\\\\\n\\end{tabular}\n",
            "text/plain": [
              "  Age Own.Home Sex Children income_level Smallest.Gift Largest.Gift\n",
              "1 64  H        F   0        1             3            300         \n",
              "2 91  U        M   0        1            25             50         \n",
              "3 82  H        M   0        5             2            250         \n",
              "4 61  H        F   0        1            20             25         \n",
              "5 71  U        M   0        5            25             25         \n",
              "6 90  U        F   0        1             5            133         \n",
              "  current_gift Other.Gifts Time.Between.Gifts diff.in.gifts\n",
              "1 200           0           3                 297          \n",
              "2 200           1          13                  25          \n",
              "3 200          42           6                 248          \n",
              "4 200           0           5                   5          \n",
              "5 150           2           5                   0          \n",
              "6 102           0           5                 128          "
            ]
          },
          "metadata": {}
        }
      ]
    },
    {
      "cell_type": "code",
      "source": [
        "# Selecting and Removing COlumns\n",
        "PVA2= PVA_dat[c(1:2, 4:8, 10:11)]\n",
        "head(PVA2)"
      ],
      "metadata": {
        "colab": {
          "base_uri": "https://localhost:8080/",
          "height": 286
        },
        "id": "_3NCmAZ9BBUV",
        "outputId": "5369594e-c5cc-459e-dd9f-9eb68e3ca844"
      },
      "execution_count": 24,
      "outputs": [
        {
          "output_type": "display_data",
          "data": {
            "text/html": [
              "<table class=\"dataframe\">\n",
              "<caption>A data.frame: 6 × 9</caption>\n",
              "<thead>\n",
              "\t<tr><th></th><th scope=col>Age</th><th scope=col>Own.Home</th><th scope=col>Children</th><th scope=col>income_level</th><th scope=col>Smallest.Gift</th><th scope=col>Largest.Gift</th><th scope=col>current_gift</th><th scope=col>Time.Between.Gifts</th><th scope=col>diff.in.gifts</th></tr>\n",
              "\t<tr><th></th><th scope=col>&lt;int&gt;</th><th scope=col>&lt;chr&gt;</th><th scope=col>&lt;int&gt;</th><th scope=col>&lt;int&gt;</th><th scope=col>&lt;dbl&gt;</th><th scope=col>&lt;dbl&gt;</th><th scope=col>&lt;dbl&gt;</th><th scope=col>&lt;int&gt;</th><th scope=col>&lt;dbl&gt;</th></tr>\n",
              "</thead>\n",
              "<tbody>\n",
              "\t<tr><th scope=row>1</th><td>64</td><td>H</td><td>0</td><td>1</td><td> 3</td><td>300</td><td>200</td><td> 3</td><td>297</td></tr>\n",
              "\t<tr><th scope=row>2</th><td>91</td><td>U</td><td>0</td><td>1</td><td>25</td><td> 50</td><td>200</td><td>13</td><td> 25</td></tr>\n",
              "\t<tr><th scope=row>3</th><td>82</td><td>H</td><td>0</td><td>5</td><td> 2</td><td>250</td><td>200</td><td> 6</td><td>248</td></tr>\n",
              "\t<tr><th scope=row>4</th><td>61</td><td>H</td><td>0</td><td>1</td><td>20</td><td> 25</td><td>200</td><td> 5</td><td>  5</td></tr>\n",
              "\t<tr><th scope=row>5</th><td>71</td><td>U</td><td>0</td><td>5</td><td>25</td><td> 25</td><td>150</td><td> 5</td><td>  0</td></tr>\n",
              "\t<tr><th scope=row>6</th><td>90</td><td>U</td><td>0</td><td>1</td><td> 5</td><td>133</td><td>102</td><td> 5</td><td>128</td></tr>\n",
              "</tbody>\n",
              "</table>\n"
            ],
            "text/markdown": "\nA data.frame: 6 × 9\n\n| <!--/--> | Age &lt;int&gt; | Own.Home &lt;chr&gt; | Children &lt;int&gt; | income_level &lt;int&gt; | Smallest.Gift &lt;dbl&gt; | Largest.Gift &lt;dbl&gt; | current_gift &lt;dbl&gt; | Time.Between.Gifts &lt;int&gt; | diff.in.gifts &lt;dbl&gt; |\n|---|---|---|---|---|---|---|---|---|---|\n| 1 | 64 | H | 0 | 1 |  3 | 300 | 200 |  3 | 297 |\n| 2 | 91 | U | 0 | 1 | 25 |  50 | 200 | 13 |  25 |\n| 3 | 82 | H | 0 | 5 |  2 | 250 | 200 |  6 | 248 |\n| 4 | 61 | H | 0 | 1 | 20 |  25 | 200 |  5 |   5 |\n| 5 | 71 | U | 0 | 5 | 25 |  25 | 150 |  5 |   0 |\n| 6 | 90 | U | 0 | 1 |  5 | 133 | 102 |  5 | 128 |\n\n",
            "text/latex": "A data.frame: 6 × 9\n\\begin{tabular}{r|lllllllll}\n  & Age & Own.Home & Children & income\\_level & Smallest.Gift & Largest.Gift & current\\_gift & Time.Between.Gifts & diff.in.gifts\\\\\n  & <int> & <chr> & <int> & <int> & <dbl> & <dbl> & <dbl> & <int> & <dbl>\\\\\n\\hline\n\t1 & 64 & H & 0 & 1 &  3 & 300 & 200 &  3 & 297\\\\\n\t2 & 91 & U & 0 & 1 & 25 &  50 & 200 & 13 &  25\\\\\n\t3 & 82 & H & 0 & 5 &  2 & 250 & 200 &  6 & 248\\\\\n\t4 & 61 & H & 0 & 1 & 20 &  25 & 200 &  5 &   5\\\\\n\t5 & 71 & U & 0 & 5 & 25 &  25 & 150 &  5 &   0\\\\\n\t6 & 90 & U & 0 & 1 &  5 & 133 & 102 &  5 & 128\\\\\n\\end{tabular}\n",
            "text/plain": [
              "  Age Own.Home Children income_level Smallest.Gift Largest.Gift current_gift\n",
              "1 64  H        0        1             3            300          200         \n",
              "2 91  U        0        1            25             50          200         \n",
              "3 82  H        0        5             2            250          200         \n",
              "4 61  H        0        1            20             25          200         \n",
              "5 71  U        0        5            25             25          150         \n",
              "6 90  U        0        1             5            133          102         \n",
              "  Time.Between.Gifts diff.in.gifts\n",
              "1  3                 297          \n",
              "2 13                  25          \n",
              "3  6                 248          \n",
              "4  5                   5          \n",
              "5  5                   0          \n",
              "6  5                 128          "
            ]
          },
          "metadata": {}
        }
      ]
    },
    {
      "cell_type": "code",
      "source": [
        "# Filtering Values in Columns\n",
        "PVA3= PVA2[which(PVA2$Age<=60 & PVA2$income_level >= 5),]\n",
        "head(PVA3)"
      ],
      "metadata": {
        "colab": {
          "base_uri": "https://localhost:8080/",
          "height": 286
        },
        "id": "vAvowpUrBBWt",
        "outputId": "3ddf69e8-31e1-4c5e-cb59-8f67d7f7e5ba"
      },
      "execution_count": 32,
      "outputs": [
        {
          "output_type": "display_data",
          "data": {
            "text/html": [
              "<table class=\"dataframe\">\n",
              "<caption>A data.frame: 6 × 9</caption>\n",
              "<thead>\n",
              "\t<tr><th></th><th scope=col>Age</th><th scope=col>Own.Home</th><th scope=col>Children</th><th scope=col>income_level</th><th scope=col>Smallest.Gift</th><th scope=col>Largest.Gift</th><th scope=col>current_gift</th><th scope=col>Time.Between.Gifts</th><th scope=col>diff.in.gifts</th></tr>\n",
              "\t<tr><th></th><th scope=col>&lt;int&gt;</th><th scope=col>&lt;chr&gt;</th><th scope=col>&lt;int&gt;</th><th scope=col>&lt;int&gt;</th><th scope=col>&lt;dbl&gt;</th><th scope=col>&lt;dbl&gt;</th><th scope=col>&lt;dbl&gt;</th><th scope=col>&lt;int&gt;</th><th scope=col>&lt;dbl&gt;</th></tr>\n",
              "</thead>\n",
              "<tbody>\n",
              "\t<tr><th scope=row>8</th><td>38</td><td>U</td><td>0</td><td>7</td><td> 50</td><td> 50</td><td>100</td><td> 9</td><td>  0</td></tr>\n",
              "\t<tr><th scope=row>9</th><td>43</td><td>H</td><td>0</td><td>6</td><td>200</td><td>200</td><td>100</td><td>10</td><td>  0</td></tr>\n",
              "\t<tr><th scope=row>21</th><td>48</td><td>H</td><td>0</td><td>6</td><td> 25</td><td>200</td><td>100</td><td> 6</td><td>175</td></tr>\n",
              "\t<tr><th scope=row>27</th><td>56</td><td>H</td><td>0</td><td>7</td><td> 25</td><td>100</td><td>100</td><td> 0</td><td> 75</td></tr>\n",
              "\t<tr><th scope=row>36</th><td>60</td><td>H</td><td>0</td><td>7</td><td> 10</td><td>100</td><td> 75</td><td> 0</td><td> 90</td></tr>\n",
              "\t<tr><th scope=row>39</th><td>46</td><td>H</td><td>0</td><td>5</td><td>  2</td><td> 45</td><td> 60</td><td> 3</td><td> 43</td></tr>\n",
              "</tbody>\n",
              "</table>\n"
            ],
            "text/markdown": "\nA data.frame: 6 × 9\n\n| <!--/--> | Age &lt;int&gt; | Own.Home &lt;chr&gt; | Children &lt;int&gt; | income_level &lt;int&gt; | Smallest.Gift &lt;dbl&gt; | Largest.Gift &lt;dbl&gt; | current_gift &lt;dbl&gt; | Time.Between.Gifts &lt;int&gt; | diff.in.gifts &lt;dbl&gt; |\n|---|---|---|---|---|---|---|---|---|---|\n| 8 | 38 | U | 0 | 7 |  50 |  50 | 100 |  9 |   0 |\n| 9 | 43 | H | 0 | 6 | 200 | 200 | 100 | 10 |   0 |\n| 21 | 48 | H | 0 | 6 |  25 | 200 | 100 |  6 | 175 |\n| 27 | 56 | H | 0 | 7 |  25 | 100 | 100 |  0 |  75 |\n| 36 | 60 | H | 0 | 7 |  10 | 100 |  75 |  0 |  90 |\n| 39 | 46 | H | 0 | 5 |   2 |  45 |  60 |  3 |  43 |\n\n",
            "text/latex": "A data.frame: 6 × 9\n\\begin{tabular}{r|lllllllll}\n  & Age & Own.Home & Children & income\\_level & Smallest.Gift & Largest.Gift & current\\_gift & Time.Between.Gifts & diff.in.gifts\\\\\n  & <int> & <chr> & <int> & <int> & <dbl> & <dbl> & <dbl> & <int> & <dbl>\\\\\n\\hline\n\t8 & 38 & U & 0 & 7 &  50 &  50 & 100 &  9 &   0\\\\\n\t9 & 43 & H & 0 & 6 & 200 & 200 & 100 & 10 &   0\\\\\n\t21 & 48 & H & 0 & 6 &  25 & 200 & 100 &  6 & 175\\\\\n\t27 & 56 & H & 0 & 7 &  25 & 100 & 100 &  0 &  75\\\\\n\t36 & 60 & H & 0 & 7 &  10 & 100 &  75 &  0 &  90\\\\\n\t39 & 46 & H & 0 & 5 &   2 &  45 &  60 &  3 &  43\\\\\n\\end{tabular}\n",
            "text/plain": [
              "   Age Own.Home Children income_level Smallest.Gift Largest.Gift current_gift\n",
              "8  38  U        0        7             50            50          100         \n",
              "9  43  H        0        6            200           200          100         \n",
              "21 48  H        0        6             25           200          100         \n",
              "27 56  H        0        7             25           100          100         \n",
              "36 60  H        0        7             10           100           75         \n",
              "39 46  H        0        5              2            45           60         \n",
              "   Time.Between.Gifts diff.in.gifts\n",
              "8   9                   0          \n",
              "9  10                   0          \n",
              "21  6                 175          \n",
              "27  0                  75          \n",
              "36  0                  90          \n",
              "39  3                  43          "
            ]
          },
          "metadata": {}
        }
      ]
    },
    {
      "cell_type": "code",
      "source": [
        "PVA2[which(PVA2$current_gift>50 & PVA2$Time.Between.Gifts>1),]"
      ],
      "metadata": {
        "colab": {
          "base_uri": "https://localhost:8080/",
          "height": 1000
        },
        "id": "2rmp-B00BBZO",
        "outputId": "f7952a81-0feb-48d9-c63e-5b0d172429ab"
      },
      "execution_count": 33,
      "outputs": [
        {
          "output_type": "display_data",
          "data": {
            "text/html": [
              "<table class=\"dataframe\">\n",
              "<caption>A data.frame: 42 × 9</caption>\n",
              "<thead>\n",
              "\t<tr><th></th><th scope=col>Age</th><th scope=col>Own.Home</th><th scope=col>Children</th><th scope=col>income_level</th><th scope=col>Smallest.Gift</th><th scope=col>Largest.Gift</th><th scope=col>current_gift</th><th scope=col>Time.Between.Gifts</th><th scope=col>diff.in.gifts</th></tr>\n",
              "\t<tr><th></th><th scope=col>&lt;int&gt;</th><th scope=col>&lt;chr&gt;</th><th scope=col>&lt;int&gt;</th><th scope=col>&lt;int&gt;</th><th scope=col>&lt;dbl&gt;</th><th scope=col>&lt;dbl&gt;</th><th scope=col>&lt;dbl&gt;</th><th scope=col>&lt;int&gt;</th><th scope=col>&lt;dbl&gt;</th></tr>\n",
              "</thead>\n",
              "<tbody>\n",
              "\t<tr><th scope=row>1</th><td>64</td><td>H</td><td>0</td><td>1</td><td>  3</td><td>300</td><td>200</td><td> 3</td><td>297</td></tr>\n",
              "\t<tr><th scope=row>2</th><td>91</td><td>U</td><td>0</td><td>1</td><td> 25</td><td> 50</td><td>200</td><td>13</td><td> 25</td></tr>\n",
              "\t<tr><th scope=row>3</th><td>82</td><td>H</td><td>0</td><td>5</td><td>  2</td><td>250</td><td>200</td><td> 6</td><td>248</td></tr>\n",
              "\t<tr><th scope=row>4</th><td>61</td><td>H</td><td>0</td><td>1</td><td> 20</td><td> 25</td><td>200</td><td> 5</td><td>  5</td></tr>\n",
              "\t<tr><th scope=row>5</th><td>71</td><td>U</td><td>0</td><td>5</td><td> 25</td><td> 25</td><td>150</td><td> 5</td><td>  0</td></tr>\n",
              "\t<tr><th scope=row>6</th><td>90</td><td>U</td><td>0</td><td>1</td><td>  5</td><td>133</td><td>102</td><td> 5</td><td>128</td></tr>\n",
              "\t<tr><th scope=row>7</th><td>57</td><td>H</td><td>0</td><td>1</td><td> 25</td><td>100</td><td>101</td><td> 3</td><td> 75</td></tr>\n",
              "\t<tr><th scope=row>8</th><td>38</td><td>U</td><td>0</td><td>7</td><td> 50</td><td> 50</td><td>100</td><td> 9</td><td>  0</td></tr>\n",
              "\t<tr><th scope=row>9</th><td>43</td><td>H</td><td>0</td><td>6</td><td>200</td><td>200</td><td>100</td><td>10</td><td>  0</td></tr>\n",
              "\t<tr><th scope=row>10</th><td>79</td><td>U</td><td>0</td><td>1</td><td> 10</td><td> 50</td><td>100</td><td>13</td><td> 40</td></tr>\n",
              "\t<tr><th scope=row>11</th><td>81</td><td>H</td><td>0</td><td>6</td><td>  5</td><td>100</td><td>100</td><td>10</td><td> 95</td></tr>\n",
              "\t<tr><th scope=row>12</th><td>50</td><td>H</td><td>0</td><td>1</td><td> 10</td><td>100</td><td>100</td><td> 7</td><td> 90</td></tr>\n",
              "\t<tr><th scope=row>13</th><td>73</td><td>H</td><td>0</td><td>4</td><td>  2</td><td>100</td><td>100</td><td>12</td><td> 98</td></tr>\n",
              "\t<tr><th scope=row>14</th><td>48</td><td>U</td><td>0</td><td>2</td><td> 20</td><td>100</td><td>100</td><td>18</td><td> 80</td></tr>\n",
              "\t<tr><th scope=row>15</th><td>83</td><td>U</td><td>0</td><td>5</td><td> 10</td><td> 16</td><td>100</td><td>24</td><td>  6</td></tr>\n",
              "\t<tr><th scope=row>16</th><td>90</td><td>U</td><td>0</td><td>1</td><td>  5</td><td> 75</td><td>100</td><td> 3</td><td> 70</td></tr>\n",
              "\t<tr><th scope=row>17</th><td>42</td><td>U</td><td>0</td><td>3</td><td> 20</td><td> 32</td><td>100</td><td> 8</td><td> 12</td></tr>\n",
              "\t<tr><th scope=row>18</th><td>61</td><td>U</td><td>0</td><td>1</td><td>  3</td><td>100</td><td>100</td><td>21</td><td> 97</td></tr>\n",
              "\t<tr><th scope=row>19</th><td>69</td><td>H</td><td>0</td><td>7</td><td>  5</td><td> 30</td><td>100</td><td> 7</td><td> 25</td></tr>\n",
              "\t<tr><th scope=row>20</th><td>61</td><td>U</td><td>0</td><td>1</td><td> 50</td><td> 50</td><td>100</td><td> 7</td><td>  0</td></tr>\n",
              "\t<tr><th scope=row>21</th><td>48</td><td>H</td><td>0</td><td>6</td><td> 25</td><td>200</td><td>100</td><td> 6</td><td>175</td></tr>\n",
              "\t<tr><th scope=row>22</th><td>62</td><td>H</td><td>0</td><td>1</td><td> 25</td><td> 30</td><td>100</td><td> 6</td><td>  5</td></tr>\n",
              "\t<tr><th scope=row>23</th><td>82</td><td>U</td><td>0</td><td>2</td><td> 15</td><td>200</td><td>100</td><td>14</td><td>185</td></tr>\n",
              "\t<tr><th scope=row>24</th><td>66</td><td>H</td><td>0</td><td>5</td><td> 43</td><td> 50</td><td>100</td><td>10</td><td>  7</td></tr>\n",
              "\t<tr><th scope=row>25</th><td>74</td><td>H</td><td>0</td><td>2</td><td>  5</td><td>100</td><td>100</td><td>10</td><td> 95</td></tr>\n",
              "\t<tr><th scope=row>26</th><td>62</td><td>H</td><td>0</td><td>5</td><td>  3</td><td> 25</td><td>100</td><td> 3</td><td> 22</td></tr>\n",
              "\t<tr><th scope=row>28</th><td>54</td><td>H</td><td>0</td><td>4</td><td> 25</td><td> 25</td><td>100</td><td>11</td><td>  0</td></tr>\n",
              "\t<tr><th scope=row>29</th><td>71</td><td>U</td><td>0</td><td>5</td><td>  4</td><td> 10</td><td>100</td><td>13</td><td>  6</td></tr>\n",
              "\t<tr><th scope=row>30</th><td>68</td><td>U</td><td>0</td><td>5</td><td> 50</td><td> 50</td><td> 75</td><td> 2</td><td>  0</td></tr>\n",
              "\t<tr><th scope=row>31</th><td>49</td><td>U</td><td>0</td><td>1</td><td>  5</td><td> 70</td><td> 75</td><td> 7</td><td> 65</td></tr>\n",
              "\t<tr><th scope=row>32</th><td>82</td><td>U</td><td>0</td><td>6</td><td>  5</td><td> 50</td><td> 75</td><td>10</td><td> 45</td></tr>\n",
              "\t<tr><th scope=row>34</th><td>68</td><td>H</td><td>0</td><td>6</td><td> 25</td><td>200</td><td> 75</td><td> 3</td><td>175</td></tr>\n",
              "\t<tr><th scope=row>35</th><td>74</td><td>H</td><td>0</td><td>7</td><td>  5</td><td> 50</td><td> 75</td><td> 7</td><td> 45</td></tr>\n",
              "\t<tr><th scope=row>37</th><td>69</td><td>H</td><td>0</td><td>6</td><td>  5</td><td> 50</td><td> 60</td><td> 5</td><td> 45</td></tr>\n",
              "\t<tr><th scope=row>38</th><td>60</td><td>H</td><td>0</td><td>1</td><td> 10</td><td> 50</td><td> 60</td><td> 5</td><td> 40</td></tr>\n",
              "\t<tr><th scope=row>39</th><td>46</td><td>H</td><td>0</td><td>5</td><td>  2</td><td> 45</td><td> 60</td><td> 3</td><td> 43</td></tr>\n",
              "\t<tr><th scope=row>40</th><td>47</td><td>H</td><td>0</td><td>6</td><td> 25</td><td> 40</td><td> 55</td><td>11</td><td> 15</td></tr>\n",
              "\t<tr><th scope=row>41</th><td>64</td><td>U</td><td>0</td><td>2</td><td> 10</td><td> 58</td><td> 53</td><td> 7</td><td> 48</td></tr>\n",
              "\t<tr><th scope=row>42</th><td>79</td><td>H</td><td>0</td><td>7</td><td>  3</td><td> 60</td><td> 53</td><td> 8</td><td> 57</td></tr>\n",
              "\t<tr><th scope=row>43</th><td>69</td><td>H</td><td>0</td><td>4</td><td> 15</td><td> 36</td><td> 51</td><td> 3</td><td> 21</td></tr>\n",
              "\t<tr><th scope=row>44</th><td>68</td><td>H</td><td>0</td><td>1</td><td>  5</td><td> 15</td><td> 51</td><td>22</td><td> 10</td></tr>\n",
              "\t<tr><th scope=row>45</th><td>50</td><td>H</td><td>0</td><td>4</td><td> 25</td><td> 36</td><td> 51</td><td> 8</td><td> 11</td></tr>\n",
              "</tbody>\n",
              "</table>\n"
            ],
            "text/markdown": "\nA data.frame: 42 × 9\n\n| <!--/--> | Age &lt;int&gt; | Own.Home &lt;chr&gt; | Children &lt;int&gt; | income_level &lt;int&gt; | Smallest.Gift &lt;dbl&gt; | Largest.Gift &lt;dbl&gt; | current_gift &lt;dbl&gt; | Time.Between.Gifts &lt;int&gt; | diff.in.gifts &lt;dbl&gt; |\n|---|---|---|---|---|---|---|---|---|---|\n| 1 | 64 | H | 0 | 1 |   3 | 300 | 200 |  3 | 297 |\n| 2 | 91 | U | 0 | 1 |  25 |  50 | 200 | 13 |  25 |\n| 3 | 82 | H | 0 | 5 |   2 | 250 | 200 |  6 | 248 |\n| 4 | 61 | H | 0 | 1 |  20 |  25 | 200 |  5 |   5 |\n| 5 | 71 | U | 0 | 5 |  25 |  25 | 150 |  5 |   0 |\n| 6 | 90 | U | 0 | 1 |   5 | 133 | 102 |  5 | 128 |\n| 7 | 57 | H | 0 | 1 |  25 | 100 | 101 |  3 |  75 |\n| 8 | 38 | U | 0 | 7 |  50 |  50 | 100 |  9 |   0 |\n| 9 | 43 | H | 0 | 6 | 200 | 200 | 100 | 10 |   0 |\n| 10 | 79 | U | 0 | 1 |  10 |  50 | 100 | 13 |  40 |\n| 11 | 81 | H | 0 | 6 |   5 | 100 | 100 | 10 |  95 |\n| 12 | 50 | H | 0 | 1 |  10 | 100 | 100 |  7 |  90 |\n| 13 | 73 | H | 0 | 4 |   2 | 100 | 100 | 12 |  98 |\n| 14 | 48 | U | 0 | 2 |  20 | 100 | 100 | 18 |  80 |\n| 15 | 83 | U | 0 | 5 |  10 |  16 | 100 | 24 |   6 |\n| 16 | 90 | U | 0 | 1 |   5 |  75 | 100 |  3 |  70 |\n| 17 | 42 | U | 0 | 3 |  20 |  32 | 100 |  8 |  12 |\n| 18 | 61 | U | 0 | 1 |   3 | 100 | 100 | 21 |  97 |\n| 19 | 69 | H | 0 | 7 |   5 |  30 | 100 |  7 |  25 |\n| 20 | 61 | U | 0 | 1 |  50 |  50 | 100 |  7 |   0 |\n| 21 | 48 | H | 0 | 6 |  25 | 200 | 100 |  6 | 175 |\n| 22 | 62 | H | 0 | 1 |  25 |  30 | 100 |  6 |   5 |\n| 23 | 82 | U | 0 | 2 |  15 | 200 | 100 | 14 | 185 |\n| 24 | 66 | H | 0 | 5 |  43 |  50 | 100 | 10 |   7 |\n| 25 | 74 | H | 0 | 2 |   5 | 100 | 100 | 10 |  95 |\n| 26 | 62 | H | 0 | 5 |   3 |  25 | 100 |  3 |  22 |\n| 28 | 54 | H | 0 | 4 |  25 |  25 | 100 | 11 |   0 |\n| 29 | 71 | U | 0 | 5 |   4 |  10 | 100 | 13 |   6 |\n| 30 | 68 | U | 0 | 5 |  50 |  50 |  75 |  2 |   0 |\n| 31 | 49 | U | 0 | 1 |   5 |  70 |  75 |  7 |  65 |\n| 32 | 82 | U | 0 | 6 |   5 |  50 |  75 | 10 |  45 |\n| 34 | 68 | H | 0 | 6 |  25 | 200 |  75 |  3 | 175 |\n| 35 | 74 | H | 0 | 7 |   5 |  50 |  75 |  7 |  45 |\n| 37 | 69 | H | 0 | 6 |   5 |  50 |  60 |  5 |  45 |\n| 38 | 60 | H | 0 | 1 |  10 |  50 |  60 |  5 |  40 |\n| 39 | 46 | H | 0 | 5 |   2 |  45 |  60 |  3 |  43 |\n| 40 | 47 | H | 0 | 6 |  25 |  40 |  55 | 11 |  15 |\n| 41 | 64 | U | 0 | 2 |  10 |  58 |  53 |  7 |  48 |\n| 42 | 79 | H | 0 | 7 |   3 |  60 |  53 |  8 |  57 |\n| 43 | 69 | H | 0 | 4 |  15 |  36 |  51 |  3 |  21 |\n| 44 | 68 | H | 0 | 1 |   5 |  15 |  51 | 22 |  10 |\n| 45 | 50 | H | 0 | 4 |  25 |  36 |  51 |  8 |  11 |\n\n",
            "text/latex": "A data.frame: 42 × 9\n\\begin{tabular}{r|lllllllll}\n  & Age & Own.Home & Children & income\\_level & Smallest.Gift & Largest.Gift & current\\_gift & Time.Between.Gifts & diff.in.gifts\\\\\n  & <int> & <chr> & <int> & <int> & <dbl> & <dbl> & <dbl> & <int> & <dbl>\\\\\n\\hline\n\t1 & 64 & H & 0 & 1 &   3 & 300 & 200 &  3 & 297\\\\\n\t2 & 91 & U & 0 & 1 &  25 &  50 & 200 & 13 &  25\\\\\n\t3 & 82 & H & 0 & 5 &   2 & 250 & 200 &  6 & 248\\\\\n\t4 & 61 & H & 0 & 1 &  20 &  25 & 200 &  5 &   5\\\\\n\t5 & 71 & U & 0 & 5 &  25 &  25 & 150 &  5 &   0\\\\\n\t6 & 90 & U & 0 & 1 &   5 & 133 & 102 &  5 & 128\\\\\n\t7 & 57 & H & 0 & 1 &  25 & 100 & 101 &  3 &  75\\\\\n\t8 & 38 & U & 0 & 7 &  50 &  50 & 100 &  9 &   0\\\\\n\t9 & 43 & H & 0 & 6 & 200 & 200 & 100 & 10 &   0\\\\\n\t10 & 79 & U & 0 & 1 &  10 &  50 & 100 & 13 &  40\\\\\n\t11 & 81 & H & 0 & 6 &   5 & 100 & 100 & 10 &  95\\\\\n\t12 & 50 & H & 0 & 1 &  10 & 100 & 100 &  7 &  90\\\\\n\t13 & 73 & H & 0 & 4 &   2 & 100 & 100 & 12 &  98\\\\\n\t14 & 48 & U & 0 & 2 &  20 & 100 & 100 & 18 &  80\\\\\n\t15 & 83 & U & 0 & 5 &  10 &  16 & 100 & 24 &   6\\\\\n\t16 & 90 & U & 0 & 1 &   5 &  75 & 100 &  3 &  70\\\\\n\t17 & 42 & U & 0 & 3 &  20 &  32 & 100 &  8 &  12\\\\\n\t18 & 61 & U & 0 & 1 &   3 & 100 & 100 & 21 &  97\\\\\n\t19 & 69 & H & 0 & 7 &   5 &  30 & 100 &  7 &  25\\\\\n\t20 & 61 & U & 0 & 1 &  50 &  50 & 100 &  7 &   0\\\\\n\t21 & 48 & H & 0 & 6 &  25 & 200 & 100 &  6 & 175\\\\\n\t22 & 62 & H & 0 & 1 &  25 &  30 & 100 &  6 &   5\\\\\n\t23 & 82 & U & 0 & 2 &  15 & 200 & 100 & 14 & 185\\\\\n\t24 & 66 & H & 0 & 5 &  43 &  50 & 100 & 10 &   7\\\\\n\t25 & 74 & H & 0 & 2 &   5 & 100 & 100 & 10 &  95\\\\\n\t26 & 62 & H & 0 & 5 &   3 &  25 & 100 &  3 &  22\\\\\n\t28 & 54 & H & 0 & 4 &  25 &  25 & 100 & 11 &   0\\\\\n\t29 & 71 & U & 0 & 5 &   4 &  10 & 100 & 13 &   6\\\\\n\t30 & 68 & U & 0 & 5 &  50 &  50 &  75 &  2 &   0\\\\\n\t31 & 49 & U & 0 & 1 &   5 &  70 &  75 &  7 &  65\\\\\n\t32 & 82 & U & 0 & 6 &   5 &  50 &  75 & 10 &  45\\\\\n\t34 & 68 & H & 0 & 6 &  25 & 200 &  75 &  3 & 175\\\\\n\t35 & 74 & H & 0 & 7 &   5 &  50 &  75 &  7 &  45\\\\\n\t37 & 69 & H & 0 & 6 &   5 &  50 &  60 &  5 &  45\\\\\n\t38 & 60 & H & 0 & 1 &  10 &  50 &  60 &  5 &  40\\\\\n\t39 & 46 & H & 0 & 5 &   2 &  45 &  60 &  3 &  43\\\\\n\t40 & 47 & H & 0 & 6 &  25 &  40 &  55 & 11 &  15\\\\\n\t41 & 64 & U & 0 & 2 &  10 &  58 &  53 &  7 &  48\\\\\n\t42 & 79 & H & 0 & 7 &   3 &  60 &  53 &  8 &  57\\\\\n\t43 & 69 & H & 0 & 4 &  15 &  36 &  51 &  3 &  21\\\\\n\t44 & 68 & H & 0 & 1 &   5 &  15 &  51 & 22 &  10\\\\\n\t45 & 50 & H & 0 & 4 &  25 &  36 &  51 &  8 &  11\\\\\n\\end{tabular}\n",
            "text/plain": [
              "   Age Own.Home Children income_level Smallest.Gift Largest.Gift current_gift\n",
              "1  64  H        0        1              3           300          200         \n",
              "2  91  U        0        1             25            50          200         \n",
              "3  82  H        0        5              2           250          200         \n",
              "4  61  H        0        1             20            25          200         \n",
              "5  71  U        0        5             25            25          150         \n",
              "6  90  U        0        1              5           133          102         \n",
              "7  57  H        0        1             25           100          101         \n",
              "8  38  U        0        7             50            50          100         \n",
              "9  43  H        0        6            200           200          100         \n",
              "10 79  U        0        1             10            50          100         \n",
              "11 81  H        0        6              5           100          100         \n",
              "12 50  H        0        1             10           100          100         \n",
              "13 73  H        0        4              2           100          100         \n",
              "14 48  U        0        2             20           100          100         \n",
              "15 83  U        0        5             10            16          100         \n",
              "16 90  U        0        1              5            75          100         \n",
              "17 42  U        0        3             20            32          100         \n",
              "18 61  U        0        1              3           100          100         \n",
              "19 69  H        0        7              5            30          100         \n",
              "20 61  U        0        1             50            50          100         \n",
              "21 48  H        0        6             25           200          100         \n",
              "22 62  H        0        1             25            30          100         \n",
              "23 82  U        0        2             15           200          100         \n",
              "24 66  H        0        5             43            50          100         \n",
              "25 74  H        0        2              5           100          100         \n",
              "26 62  H        0        5              3            25          100         \n",
              "28 54  H        0        4             25            25          100         \n",
              "29 71  U        0        5              4            10          100         \n",
              "30 68  U        0        5             50            50           75         \n",
              "31 49  U        0        1              5            70           75         \n",
              "32 82  U        0        6              5            50           75         \n",
              "34 68  H        0        6             25           200           75         \n",
              "35 74  H        0        7              5            50           75         \n",
              "37 69  H        0        6              5            50           60         \n",
              "38 60  H        0        1             10            50           60         \n",
              "39 46  H        0        5              2            45           60         \n",
              "40 47  H        0        6             25            40           55         \n",
              "41 64  U        0        2             10            58           53         \n",
              "42 79  H        0        7              3            60           53         \n",
              "43 69  H        0        4             15            36           51         \n",
              "44 68  H        0        1              5            15           51         \n",
              "45 50  H        0        4             25            36           51         \n",
              "   Time.Between.Gifts diff.in.gifts\n",
              "1   3                 297          \n",
              "2  13                  25          \n",
              "3   6                 248          \n",
              "4   5                   5          \n",
              "5   5                   0          \n",
              "6   5                 128          \n",
              "7   3                  75          \n",
              "8   9                   0          \n",
              "9  10                   0          \n",
              "10 13                  40          \n",
              "11 10                  95          \n",
              "12  7                  90          \n",
              "13 12                  98          \n",
              "14 18                  80          \n",
              "15 24                   6          \n",
              "16  3                  70          \n",
              "17  8                  12          \n",
              "18 21                  97          \n",
              "19  7                  25          \n",
              "20  7                   0          \n",
              "21  6                 175          \n",
              "22  6                   5          \n",
              "23 14                 185          \n",
              "24 10                   7          \n",
              "25 10                  95          \n",
              "26  3                  22          \n",
              "28 11                   0          \n",
              "29 13                   6          \n",
              "30  2                   0          \n",
              "31  7                  65          \n",
              "32 10                  45          \n",
              "34  3                 175          \n",
              "35  7                  45          \n",
              "37  5                  45          \n",
              "38  5                  40          \n",
              "39  3                  43          \n",
              "40 11                  15          \n",
              "41  7                  48          \n",
              "42  8                  57          \n",
              "43  3                  21          \n",
              "44 22                  10          \n",
              "45  8                  11          "
            ]
          },
          "metadata": {}
        }
      ]
    },
    {
      "cell_type": "code",
      "source": [
        "# Using the apply and aggregate functions\n",
        "apply(PVA2[,c(5,6,7)],2, max)\n",
        "aggregate.data.frame(PVA2$current_gift,list(PVA2$income_level), median)"
      ],
      "metadata": {
        "colab": {
          "base_uri": "https://localhost:8080/",
          "height": 335
        },
        "id": "N51hKogQBBb7",
        "outputId": "6e1f3732-2d11-4e91-f35b-a7b023d5d533"
      },
      "execution_count": 38,
      "outputs": [
        {
          "output_type": "display_data",
          "data": {
            "text/html": [
              "<style>\n",
              ".dl-inline {width: auto; margin:0; padding: 0}\n",
              ".dl-inline>dt, .dl-inline>dd {float: none; width: auto; display: inline-block}\n",
              ".dl-inline>dt::after {content: \":\\0020\"; padding-right: .5ex}\n",
              ".dl-inline>dt:not(:first-of-type) {padding-left: .5ex}\n",
              "</style><dl class=dl-inline><dt>Smallest.Gift</dt><dd>450</dd><dt>Largest.Gift</dt><dd>1000</dd><dt>current_gift</dt><dd>200</dd></dl>\n"
            ],
            "text/markdown": "Smallest.Gift\n:   450Largest.Gift\n:   1000current_gift\n:   200\n\n",
            "text/latex": "\\begin{description*}\n\\item[Smallest.Gift] 450\n\\item[Largest.Gift] 1000\n\\item[current\\textbackslash{}\\_gift] 200\n\\end{description*}\n",
            "text/plain": [
              "Smallest.Gift  Largest.Gift  current_gift \n",
              "          450          1000           200 "
            ]
          },
          "metadata": {}
        },
        {
          "output_type": "display_data",
          "data": {
            "text/html": [
              "<table class=\"dataframe\">\n",
              "<caption>A data.frame: 7 × 2</caption>\n",
              "<thead>\n",
              "\t<tr><th scope=col>Group.1</th><th scope=col>x</th></tr>\n",
              "\t<tr><th scope=col>&lt;int&gt;</th><th scope=col>&lt;dbl&gt;</th></tr>\n",
              "</thead>\n",
              "<tbody>\n",
              "\t<tr><td>1</td><td> 7</td></tr>\n",
              "\t<tr><td>2</td><td> 5</td></tr>\n",
              "\t<tr><td>3</td><td> 6</td></tr>\n",
              "\t<tr><td>4</td><td> 9</td></tr>\n",
              "\t<tr><td>5</td><td>10</td></tr>\n",
              "\t<tr><td>6</td><td>10</td></tr>\n",
              "\t<tr><td>7</td><td>10</td></tr>\n",
              "</tbody>\n",
              "</table>\n"
            ],
            "text/markdown": "\nA data.frame: 7 × 2\n\n| Group.1 &lt;int&gt; | x &lt;dbl&gt; |\n|---|---|\n| 1 |  7 |\n| 2 |  5 |\n| 3 |  6 |\n| 4 |  9 |\n| 5 | 10 |\n| 6 | 10 |\n| 7 | 10 |\n\n",
            "text/latex": "A data.frame: 7 × 2\n\\begin{tabular}{ll}\n Group.1 & x\\\\\n <int> & <dbl>\\\\\n\\hline\n\t 1 &  7\\\\\n\t 2 &  5\\\\\n\t 3 &  6\\\\\n\t 4 &  9\\\\\n\t 5 & 10\\\\\n\t 6 & 10\\\\\n\t 7 & 10\\\\\n\\end{tabular}\n",
            "text/plain": [
              "  Group.1 x \n",
              "1 1        7\n",
              "2 2        5\n",
              "3 3        6\n",
              "4 4        9\n",
              "5 5       10\n",
              "6 6       10\n",
              "7 7       10"
            ]
          },
          "metadata": {}
        }
      ]
    }
  ]
}