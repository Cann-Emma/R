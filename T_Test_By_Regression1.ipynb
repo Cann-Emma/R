{
  "nbformat": 4,
  "nbformat_minor": 0,
  "metadata": {
    "colab": {
      "provenance": [],
      "authorship_tag": "ABX9TyMSY47QUlZrVmW6k86HhEe2",
      "include_colab_link": true
    },
    "kernelspec": {
      "name": "ir",
      "display_name": "R"
    },
    "language_info": {
      "name": "R"
    }
  },
  "cells": [
    {
      "cell_type": "markdown",
      "metadata": {
        "id": "view-in-github",
        "colab_type": "text"
      },
      "source": [
        "<a href=\"https://colab.research.google.com/github/Cann-Emma/R/blob/main/T_Test_By_Regression1.ipynb\" target=\"_parent\"><img src=\"https://colab.research.google.com/assets/colab-badge.svg\" alt=\"Open In Colab\"/></a>"
      ]
    },
    {
      "cell_type": "markdown",
      "source": [
        "# T-TEST BY REGRESSION\n",
        "\n",
        "Data Description:\n",
        "\n",
        "Own.Home: H = Yes; U = No or unknown.\n",
        "• Age: Age in years.\n",
        "• Sex : Coded M for males and F for females.\n",
        "• Children: Counts of number of children.\n",
        "• Other.Gifts: Counts of other gifts donated.\n",
        "• Income. Income levels of donors: 1= Lowest, 7=Highest.\n",
        "• Time.Between.Gifts: Time between gifts, in months.\n",
        "• Smallest.Gift, Largest.Gift, Current.Gift. All in dollars.\n"
      ],
      "metadata": {
        "id": "hbNTiq7HoOmJ"
      }
    },
    {
      "cell_type": "code",
      "execution_count": 3,
      "metadata": {
        "colab": {
          "base_uri": "https://localhost:8080/"
        },
        "id": "Gq0LKPK7moxv",
        "outputId": "0d863a1e-c92c-42aa-930d-228bf0e519ce"
      },
      "outputs": [
        {
          "output_type": "stream",
          "name": "stderr",
          "text": [
            "Installing package into ‘/usr/local/lib/R/site-library’\n",
            "(as ‘lib’ is unspecified)\n",
            "\n",
            "also installing the dependency ‘mnormt’\n",
            "\n",
            "\n",
            "Installing package into ‘/usr/local/lib/R/site-library’\n",
            "(as ‘lib’ is unspecified)\n",
            "\n",
            "also installing the dependency ‘gridExtra’\n",
            "\n",
            "\n",
            "Installing package into ‘/usr/local/lib/R/site-library’\n",
            "(as ‘lib’ is unspecified)\n",
            "\n",
            "also installing the dependencies ‘numDeriv’, ‘SparseM’, ‘MatrixModels’, ‘minqa’, ‘nloptr’, ‘Rcpp’, ‘RcppEigen’, ‘carData’, ‘abind’, ‘pbkrtest’, ‘quantreg’, ‘lme4’\n",
            "\n",
            "\n",
            "\n",
            "Attaching package: ‘dplyr’\n",
            "\n",
            "\n",
            "The following objects are masked from ‘package:stats’:\n",
            "\n",
            "    filter, lag\n",
            "\n",
            "\n",
            "The following objects are masked from ‘package:base’:\n",
            "\n",
            "    intersect, setdiff, setequal, union\n",
            "\n",
            "\n",
            "Loading required package: ggplot2\n",
            "\n",
            "\n",
            "Attaching package: ‘ggplot2’\n",
            "\n",
            "\n",
            "The following objects are masked from ‘package:psych’:\n",
            "\n",
            "    %+%, alpha\n",
            "\n",
            "\n",
            "Loading required package: carData\n",
            "\n",
            "\n",
            "Attaching package: ‘car’\n",
            "\n",
            "\n",
            "The following object is masked from ‘package:psych’:\n",
            "\n",
            "    logit\n",
            "\n",
            "\n",
            "The following object is masked from ‘package:dplyr’:\n",
            "\n",
            "    recode\n",
            "\n",
            "\n"
          ]
        }
      ],
      "source": [
        "install.packages('psych')\n",
        "install.packages('ggfortify')\n",
        "install.packages('car')\n",
        "library(dplyr)\n",
        "library(psych)\n",
        "library(ggfortify)\n",
        "library(car)\n",
        "PVA= read.csv('PVA (1).csv')"
      ]
    },
    {
      "cell_type": "code",
      "source": [
        "install.packages('pwr')\n",
        "library(pwr)"
      ],
      "metadata": {
        "colab": {
          "base_uri": "https://localhost:8080/"
        },
        "id": "-hpJ-ykSuFMy",
        "outputId": "3c96b7e3-bb38-4e04-b03a-deea7dbf604c"
      },
      "execution_count": 9,
      "outputs": [
        {
          "output_type": "stream",
          "name": "stderr",
          "text": [
            "Installing package into ‘/usr/local/lib/R/site-library’\n",
            "(as ‘lib’ is unspecified)\n",
            "\n"
          ]
        }
      ]
    },
    {
      "cell_type": "code",
      "source": [
        "install.packages('caret')"
      ],
      "metadata": {
        "colab": {
          "base_uri": "https://localhost:8080/"
        },
        "id": "OPljIjHEQLWP",
        "outputId": "6ff66f8c-c634-44f7-d277-a2a4d55f4340"
      },
      "execution_count": 10,
      "outputs": [
        {
          "output_type": "stream",
          "name": "stderr",
          "text": [
            "Installing package into ‘/usr/local/lib/R/site-library’\n",
            "(as ‘lib’ is unspecified)\n",
            "\n"
          ]
        }
      ]
    },
    {
      "cell_type": "code",
      "source": [
        "library(caret)"
      ],
      "metadata": {
        "id": "92Vhm6CpQhid"
      },
      "execution_count": 11,
      "outputs": []
    },
    {
      "cell_type": "markdown",
      "source": [
        "# Pre-Power Analysis"
      ],
      "metadata": {
        "id": "Rl4GQv3lstY-"
      }
    },
    {
      "cell_type": "code",
      "source": [
        "pwr.t.test(d= .8, sig.level= .05, n= NULL, power= .80, type = \"two.sample\", alternative = \"greater\")"
      ],
      "metadata": {
        "colab": {
          "base_uri": "https://localhost:8080/",
          "height": 191
        },
        "id": "v4Ow6MKorfWo",
        "outputId": "21f42bf1-affc-4184-f817-0f2f89005f2b"
      },
      "execution_count": 21,
      "outputs": [
        {
          "output_type": "display_data",
          "data": {
            "text/plain": [
              "\n",
              "     Two-sample t test power calculation \n",
              "\n",
              "              n = 20.03277\n",
              "              d = 0.8\n",
              "      sig.level = 0.05\n",
              "          power = 0.8\n",
              "    alternative = greater\n",
              "\n",
              "NOTE: n is number in *each* group\n"
            ]
          },
          "metadata": {}
        }
      ]
    },
    {
      "cell_type": "code",
      "source": [
        "nrow(Home)\n",
        "nrow(Rent)"
      ],
      "metadata": {
        "colab": {
          "base_uri": "https://localhost:8080/",
          "height": 52
        },
        "id": "wPRf7ZTVvPdV",
        "outputId": "4e832796-36cf-4207-8abc-9df3851cf9b6"
      },
      "execution_count": 20,
      "outputs": [
        {
          "output_type": "display_data",
          "data": {
            "text/html": [
              "5120"
            ],
            "text/markdown": "5120",
            "text/latex": "5120",
            "text/plain": [
              "[1] 5120"
            ]
          },
          "metadata": {}
        },
        {
          "output_type": "display_data",
          "data": {
            "text/html": [
              "2480"
            ],
            "text/markdown": "2480",
            "text/latex": "2480",
            "text/plain": [
              "[1] 2480"
            ]
          },
          "metadata": {}
        }
      ]
    },
    {
      "cell_type": "markdown",
      "source": [
        "# Data Shaping and Preparation"
      ],
      "metadata": {
        "id": "MSuFsG8x3Cbj"
      }
    },
    {
      "cell_type": "code",
      "source": [
        "# Selecting variables of interest\n",
        "PVA1= PVA%>%select(Own.Home, Largest.Gift)"
      ],
      "metadata": {
        "id": "DqfiOEuTn9q3"
      },
      "execution_count": 4,
      "outputs": []
    },
    {
      "cell_type": "code",
      "source": [
        "Home= PVA1%>%filter(Own.Home== 'H')%>%slice(1:2480)\n",
        "Rent= PVA1%>%filter(Own.Home== 'U')"
      ],
      "metadata": {
        "id": "lPXccjyAn91p"
      },
      "execution_count": 30,
      "outputs": []
    },
    {
      "cell_type": "code",
      "source": [
        "# Shapiro Test takes datasets 3 to 5000 observations. Since one of our datasets excedes these limits,\n",
        "#These are the Measures taken so the Shapiro Test will work.\n",
        "na.omit(Home)\n",
        "Home= Home%>%slice(1:2480)\n",
        "nrow(Home)"
      ],
      "metadata": {
        "colab": {
          "base_uri": "https://localhost:8080/",
          "height": 1000
        },
        "id": "jp8maHP1yFJM",
        "outputId": "0334670c-4bb0-4537-b65a-2af2323318ec"
      },
      "execution_count": 6,
      "outputs": [
        {
          "output_type": "display_data",
          "data": {
            "text/html": [
              "<table class=\"dataframe\">\n",
              "<caption>A data.frame: 5120 × 2</caption>\n",
              "<thead>\n",
              "\t<tr><th></th><th scope=col>Own.Home</th><th scope=col>Largest.Gift</th></tr>\n",
              "\t<tr><th></th><th scope=col>&lt;chr&gt;</th><th scope=col>&lt;dbl&gt;</th></tr>\n",
              "</thead>\n",
              "<tbody>\n",
              "\t<tr><th scope=row>1</th><td>H</td><td>300</td></tr>\n",
              "\t<tr><th scope=row>2</th><td>H</td><td>250</td></tr>\n",
              "\t<tr><th scope=row>3</th><td>H</td><td> 25</td></tr>\n",
              "\t<tr><th scope=row>4</th><td>H</td><td>100</td></tr>\n",
              "\t<tr><th scope=row>5</th><td>H</td><td>200</td></tr>\n",
              "\t<tr><th scope=row>6</th><td>H</td><td>100</td></tr>\n",
              "\t<tr><th scope=row>7</th><td>H</td><td>100</td></tr>\n",
              "\t<tr><th scope=row>8</th><td>H</td><td>100</td></tr>\n",
              "\t<tr><th scope=row>9</th><td>H</td><td> 30</td></tr>\n",
              "\t<tr><th scope=row>10</th><td>H</td><td>200</td></tr>\n",
              "\t<tr><th scope=row>11</th><td>H</td><td> 30</td></tr>\n",
              "\t<tr><th scope=row>12</th><td>H</td><td> 50</td></tr>\n",
              "\t<tr><th scope=row>13</th><td>H</td><td>100</td></tr>\n",
              "\t<tr><th scope=row>14</th><td>H</td><td> 25</td></tr>\n",
              "\t<tr><th scope=row>15</th><td>H</td><td>100</td></tr>\n",
              "\t<tr><th scope=row>16</th><td>H</td><td> 25</td></tr>\n",
              "\t<tr><th scope=row>17</th><td>H</td><td>100</td></tr>\n",
              "\t<tr><th scope=row>18</th><td>H</td><td>200</td></tr>\n",
              "\t<tr><th scope=row>19</th><td>H</td><td> 50</td></tr>\n",
              "\t<tr><th scope=row>20</th><td>H</td><td>100</td></tr>\n",
              "\t<tr><th scope=row>21</th><td>H</td><td> 50</td></tr>\n",
              "\t<tr><th scope=row>22</th><td>H</td><td> 50</td></tr>\n",
              "\t<tr><th scope=row>23</th><td>H</td><td> 45</td></tr>\n",
              "\t<tr><th scope=row>24</th><td>H</td><td> 40</td></tr>\n",
              "\t<tr><th scope=row>25</th><td>H</td><td> 60</td></tr>\n",
              "\t<tr><th scope=row>26</th><td>H</td><td> 36</td></tr>\n",
              "\t<tr><th scope=row>27</th><td>H</td><td> 15</td></tr>\n",
              "\t<tr><th scope=row>28</th><td>H</td><td> 36</td></tr>\n",
              "\t<tr><th scope=row>29</th><td>H</td><td> 50</td></tr>\n",
              "\t<tr><th scope=row>30</th><td>H</td><td> 50</td></tr>\n",
              "\t<tr><th scope=row>⋮</th><td>⋮</td><td>⋮</td></tr>\n",
              "\t<tr><th scope=row>5091</th><td>H</td><td>10</td></tr>\n",
              "\t<tr><th scope=row>5092</th><td>H</td><td>11</td></tr>\n",
              "\t<tr><th scope=row>5093</th><td>H</td><td>50</td></tr>\n",
              "\t<tr><th scope=row>5094</th><td>H</td><td>25</td></tr>\n",
              "\t<tr><th scope=row>5095</th><td>H</td><td>25</td></tr>\n",
              "\t<tr><th scope=row>5096</th><td>H</td><td>16</td></tr>\n",
              "\t<tr><th scope=row>5097</th><td>H</td><td>10</td></tr>\n",
              "\t<tr><th scope=row>5098</th><td>H</td><td>30</td></tr>\n",
              "\t<tr><th scope=row>5099</th><td>H</td><td>20</td></tr>\n",
              "\t<tr><th scope=row>5100</th><td>H</td><td>15</td></tr>\n",
              "\t<tr><th scope=row>5101</th><td>H</td><td>50</td></tr>\n",
              "\t<tr><th scope=row>5102</th><td>H</td><td>30</td></tr>\n",
              "\t<tr><th scope=row>5103</th><td>H</td><td>15</td></tr>\n",
              "\t<tr><th scope=row>5104</th><td>H</td><td>13</td></tr>\n",
              "\t<tr><th scope=row>5105</th><td>H</td><td>15</td></tr>\n",
              "\t<tr><th scope=row>5106</th><td>H</td><td>20</td></tr>\n",
              "\t<tr><th scope=row>5107</th><td>H</td><td>25</td></tr>\n",
              "\t<tr><th scope=row>5108</th><td>H</td><td> 7</td></tr>\n",
              "\t<tr><th scope=row>5109</th><td>H</td><td>15</td></tr>\n",
              "\t<tr><th scope=row>5110</th><td>H</td><td>20</td></tr>\n",
              "\t<tr><th scope=row>5111</th><td>H</td><td>12</td></tr>\n",
              "\t<tr><th scope=row>5112</th><td>H</td><td>10</td></tr>\n",
              "\t<tr><th scope=row>5113</th><td>H</td><td>20</td></tr>\n",
              "\t<tr><th scope=row>5114</th><td>H</td><td>25</td></tr>\n",
              "\t<tr><th scope=row>5115</th><td>H</td><td>15</td></tr>\n",
              "\t<tr><th scope=row>5116</th><td>H</td><td>30</td></tr>\n",
              "\t<tr><th scope=row>5117</th><td>H</td><td>25</td></tr>\n",
              "\t<tr><th scope=row>5118</th><td>H</td><td>12</td></tr>\n",
              "\t<tr><th scope=row>5119</th><td>H</td><td>20</td></tr>\n",
              "\t<tr><th scope=row>5120</th><td>H</td><td> 6</td></tr>\n",
              "</tbody>\n",
              "</table>\n"
            ],
            "text/markdown": "\nA data.frame: 5120 × 2\n\n| <!--/--> | Own.Home &lt;chr&gt; | Largest.Gift &lt;dbl&gt; |\n|---|---|---|\n| 1 | H | 300 |\n| 2 | H | 250 |\n| 3 | H |  25 |\n| 4 | H | 100 |\n| 5 | H | 200 |\n| 6 | H | 100 |\n| 7 | H | 100 |\n| 8 | H | 100 |\n| 9 | H |  30 |\n| 10 | H | 200 |\n| 11 | H |  30 |\n| 12 | H |  50 |\n| 13 | H | 100 |\n| 14 | H |  25 |\n| 15 | H | 100 |\n| 16 | H |  25 |\n| 17 | H | 100 |\n| 18 | H | 200 |\n| 19 | H |  50 |\n| 20 | H | 100 |\n| 21 | H |  50 |\n| 22 | H |  50 |\n| 23 | H |  45 |\n| 24 | H |  40 |\n| 25 | H |  60 |\n| 26 | H |  36 |\n| 27 | H |  15 |\n| 28 | H |  36 |\n| 29 | H |  50 |\n| 30 | H |  50 |\n| ⋮ | ⋮ | ⋮ |\n| 5091 | H | 10 |\n| 5092 | H | 11 |\n| 5093 | H | 50 |\n| 5094 | H | 25 |\n| 5095 | H | 25 |\n| 5096 | H | 16 |\n| 5097 | H | 10 |\n| 5098 | H | 30 |\n| 5099 | H | 20 |\n| 5100 | H | 15 |\n| 5101 | H | 50 |\n| 5102 | H | 30 |\n| 5103 | H | 15 |\n| 5104 | H | 13 |\n| 5105 | H | 15 |\n| 5106 | H | 20 |\n| 5107 | H | 25 |\n| 5108 | H |  7 |\n| 5109 | H | 15 |\n| 5110 | H | 20 |\n| 5111 | H | 12 |\n| 5112 | H | 10 |\n| 5113 | H | 20 |\n| 5114 | H | 25 |\n| 5115 | H | 15 |\n| 5116 | H | 30 |\n| 5117 | H | 25 |\n| 5118 | H | 12 |\n| 5119 | H | 20 |\n| 5120 | H |  6 |\n\n",
            "text/latex": "A data.frame: 5120 × 2\n\\begin{tabular}{r|ll}\n  & Own.Home & Largest.Gift\\\\\n  & <chr> & <dbl>\\\\\n\\hline\n\t1 & H & 300\\\\\n\t2 & H & 250\\\\\n\t3 & H &  25\\\\\n\t4 & H & 100\\\\\n\t5 & H & 200\\\\\n\t6 & H & 100\\\\\n\t7 & H & 100\\\\\n\t8 & H & 100\\\\\n\t9 & H &  30\\\\\n\t10 & H & 200\\\\\n\t11 & H &  30\\\\\n\t12 & H &  50\\\\\n\t13 & H & 100\\\\\n\t14 & H &  25\\\\\n\t15 & H & 100\\\\\n\t16 & H &  25\\\\\n\t17 & H & 100\\\\\n\t18 & H & 200\\\\\n\t19 & H &  50\\\\\n\t20 & H & 100\\\\\n\t21 & H &  50\\\\\n\t22 & H &  50\\\\\n\t23 & H &  45\\\\\n\t24 & H &  40\\\\\n\t25 & H &  60\\\\\n\t26 & H &  36\\\\\n\t27 & H &  15\\\\\n\t28 & H &  36\\\\\n\t29 & H &  50\\\\\n\t30 & H &  50\\\\\n\t⋮ & ⋮ & ⋮\\\\\n\t5091 & H & 10\\\\\n\t5092 & H & 11\\\\\n\t5093 & H & 50\\\\\n\t5094 & H & 25\\\\\n\t5095 & H & 25\\\\\n\t5096 & H & 16\\\\\n\t5097 & H & 10\\\\\n\t5098 & H & 30\\\\\n\t5099 & H & 20\\\\\n\t5100 & H & 15\\\\\n\t5101 & H & 50\\\\\n\t5102 & H & 30\\\\\n\t5103 & H & 15\\\\\n\t5104 & H & 13\\\\\n\t5105 & H & 15\\\\\n\t5106 & H & 20\\\\\n\t5107 & H & 25\\\\\n\t5108 & H &  7\\\\\n\t5109 & H & 15\\\\\n\t5110 & H & 20\\\\\n\t5111 & H & 12\\\\\n\t5112 & H & 10\\\\\n\t5113 & H & 20\\\\\n\t5114 & H & 25\\\\\n\t5115 & H & 15\\\\\n\t5116 & H & 30\\\\\n\t5117 & H & 25\\\\\n\t5118 & H & 12\\\\\n\t5119 & H & 20\\\\\n\t5120 & H &  6\\\\\n\\end{tabular}\n",
            "text/plain": [
              "     Own.Home Largest.Gift\n",
              "1    H        300         \n",
              "2    H        250         \n",
              "3    H         25         \n",
              "4    H        100         \n",
              "5    H        200         \n",
              "6    H        100         \n",
              "7    H        100         \n",
              "8    H        100         \n",
              "9    H         30         \n",
              "10   H        200         \n",
              "11   H         30         \n",
              "12   H         50         \n",
              "13   H        100         \n",
              "14   H         25         \n",
              "15   H        100         \n",
              "16   H         25         \n",
              "17   H        100         \n",
              "18   H        200         \n",
              "19   H         50         \n",
              "20   H        100         \n",
              "21   H         50         \n",
              "22   H         50         \n",
              "23   H         45         \n",
              "24   H         40         \n",
              "25   H         60         \n",
              "26   H         36         \n",
              "27   H         15         \n",
              "28   H         36         \n",
              "29   H         50         \n",
              "30   H         50         \n",
              "⋮    ⋮        ⋮           \n",
              "5091 H        10          \n",
              "5092 H        11          \n",
              "5093 H        50          \n",
              "5094 H        25          \n",
              "5095 H        25          \n",
              "5096 H        16          \n",
              "5097 H        10          \n",
              "5098 H        30          \n",
              "5099 H        20          \n",
              "5100 H        15          \n",
              "5101 H        50          \n",
              "5102 H        30          \n",
              "5103 H        15          \n",
              "5104 H        13          \n",
              "5105 H        15          \n",
              "5106 H        20          \n",
              "5107 H        25          \n",
              "5108 H         7          \n",
              "5109 H        15          \n",
              "5110 H        20          \n",
              "5111 H        12          \n",
              "5112 H        10          \n",
              "5113 H        20          \n",
              "5114 H        25          \n",
              "5115 H        15          \n",
              "5116 H        30          \n",
              "5117 H        25          \n",
              "5118 H        12          \n",
              "5119 H        20          \n",
              "5120 H         6          "
            ]
          },
          "metadata": {}
        },
        {
          "output_type": "display_data",
          "data": {
            "text/html": [
              "2480"
            ],
            "text/markdown": "2480",
            "text/latex": "2480",
            "text/plain": [
              "[1] 2480"
            ]
          },
          "metadata": {}
        }
      ]
    },
    {
      "cell_type": "code",
      "source": [
        "xi= c(rep(1, 2480), rep(-1,2480))\n",
        "yi= c(Home$Largest.Gift, Rent$Largest.Gift)\n",
        "Gift= data.frame(\"Group\"=c(rep('Own Home', 2480), rep('Rent', 2480)), 'xi'= xi, 'Largest.Gift'= yi)\n",
        "View(Gift)"
      ],
      "metadata": {
        "colab": {
          "base_uri": "https://localhost:8080/",
          "height": 1000
        },
        "id": "xLVmF0393CGy",
        "outputId": "0dba384d-3021-4c47-9150-032636562291"
      },
      "execution_count": 32,
      "outputs": [
        {
          "output_type": "display_data",
          "data": {
            "text/plain": [
              "     Group    xi Largest.Gift\n",
              "1    Own Home 1  300         \n",
              "2    Own Home 1  250         \n",
              "3    Own Home 1   25         \n",
              "4    Own Home 1  100         \n",
              "5    Own Home 1  200         \n",
              "6    Own Home 1  100         \n",
              "7    Own Home 1  100         \n",
              "8    Own Home 1  100         \n",
              "9    Own Home 1   30         \n",
              "10   Own Home 1  200         \n",
              "11   Own Home 1   30         \n",
              "12   Own Home 1   50         \n",
              "13   Own Home 1  100         \n",
              "14   Own Home 1   25         \n",
              "15   Own Home 1  100         \n",
              "16   Own Home 1   25         \n",
              "17   Own Home 1  100         \n",
              "18   Own Home 1  200         \n",
              "19   Own Home 1   50         \n",
              "20   Own Home 1  100         \n",
              "21   Own Home 1   50         \n",
              "22   Own Home 1   50         \n",
              "23   Own Home 1   45         \n",
              "24   Own Home 1   40         \n",
              "25   Own Home 1   60         \n",
              "26   Own Home 1   36         \n",
              "27   Own Home 1   15         \n",
              "28   Own Home 1   36         \n",
              "29   Own Home 1   50         \n",
              "30   Own Home 1   50         \n",
              "⋮    ⋮        ⋮  ⋮           \n",
              "4931 Rent     -1 25.00       \n",
              "4932 Rent     -1 42.73       \n",
              "4933 Rent     -1 40.00       \n",
              "4934 Rent     -1 10.00       \n",
              "4935 Rent     -1 20.00       \n",
              "4936 Rent     -1 16.00       \n",
              "4937 Rent     -1 21.20       \n",
              "4938 Rent     -1 20.00       \n",
              "4939 Rent     -1 30.00       \n",
              "4940 Rent     -1 21.00       \n",
              "4941 Rent     -1 30.00       \n",
              "4942 Rent     -1 25.00       \n",
              "4943 Rent     -1 20.00       \n",
              "4944 Rent     -1 20.00       \n",
              "4945 Rent     -1 35.00       \n",
              "4946 Rent     -1 32.00       \n",
              "4947 Rent     -1 50.00       \n",
              "4948 Rent     -1 15.00       \n",
              "4949 Rent     -1 21.00       \n",
              "4950 Rent     -1 24.00       \n",
              "4951 Rent     -1 16.00       \n",
              "4952 Rent     -1 20.00       \n",
              "4953 Rent     -1 10.00       \n",
              "4954 Rent     -1 15.00       \n",
              "4955 Rent     -1 20.00       \n",
              "4956 Rent     -1 13.00       \n",
              "4957 Rent     -1 10.00       \n",
              "4958 Rent     -1 10.00       \n",
              "4959 Rent     -1 25.00       \n",
              "4960 Rent     -1 25.00       "
            ],
            "text/html": [
              "<table class=\"dataframe\">\n",
              "<caption>A data.frame: 4960 × 3</caption>\n",
              "<thead>\n",
              "\t<tr><th scope=col>Group</th><th scope=col>xi</th><th scope=col>Largest.Gift</th></tr>\n",
              "\t<tr><th scope=col>&lt;chr&gt;</th><th scope=col>&lt;dbl&gt;</th><th scope=col>&lt;dbl&gt;</th></tr>\n",
              "</thead>\n",
              "<tbody>\n",
              "\t<tr><td>Own Home</td><td>1</td><td>300</td></tr>\n",
              "\t<tr><td>Own Home</td><td>1</td><td>250</td></tr>\n",
              "\t<tr><td>Own Home</td><td>1</td><td> 25</td></tr>\n",
              "\t<tr><td>Own Home</td><td>1</td><td>100</td></tr>\n",
              "\t<tr><td>Own Home</td><td>1</td><td>200</td></tr>\n",
              "\t<tr><td>Own Home</td><td>1</td><td>100</td></tr>\n",
              "\t<tr><td>Own Home</td><td>1</td><td>100</td></tr>\n",
              "\t<tr><td>Own Home</td><td>1</td><td>100</td></tr>\n",
              "\t<tr><td>Own Home</td><td>1</td><td> 30</td></tr>\n",
              "\t<tr><td>Own Home</td><td>1</td><td>200</td></tr>\n",
              "\t<tr><td>Own Home</td><td>1</td><td> 30</td></tr>\n",
              "\t<tr><td>Own Home</td><td>1</td><td> 50</td></tr>\n",
              "\t<tr><td>Own Home</td><td>1</td><td>100</td></tr>\n",
              "\t<tr><td>Own Home</td><td>1</td><td> 25</td></tr>\n",
              "\t<tr><td>Own Home</td><td>1</td><td>100</td></tr>\n",
              "\t<tr><td>Own Home</td><td>1</td><td> 25</td></tr>\n",
              "\t<tr><td>Own Home</td><td>1</td><td>100</td></tr>\n",
              "\t<tr><td>Own Home</td><td>1</td><td>200</td></tr>\n",
              "\t<tr><td>Own Home</td><td>1</td><td> 50</td></tr>\n",
              "\t<tr><td>Own Home</td><td>1</td><td>100</td></tr>\n",
              "\t<tr><td>Own Home</td><td>1</td><td> 50</td></tr>\n",
              "\t<tr><td>Own Home</td><td>1</td><td> 50</td></tr>\n",
              "\t<tr><td>Own Home</td><td>1</td><td> 45</td></tr>\n",
              "\t<tr><td>Own Home</td><td>1</td><td> 40</td></tr>\n",
              "\t<tr><td>Own Home</td><td>1</td><td> 60</td></tr>\n",
              "\t<tr><td>Own Home</td><td>1</td><td> 36</td></tr>\n",
              "\t<tr><td>Own Home</td><td>1</td><td> 15</td></tr>\n",
              "\t<tr><td>Own Home</td><td>1</td><td> 36</td></tr>\n",
              "\t<tr><td>Own Home</td><td>1</td><td> 50</td></tr>\n",
              "\t<tr><td>Own Home</td><td>1</td><td> 50</td></tr>\n",
              "\t<tr><td>⋮</td><td>⋮</td><td>⋮</td></tr>\n",
              "\t<tr><td>Rent</td><td>-1</td><td>25.00</td></tr>\n",
              "\t<tr><td>Rent</td><td>-1</td><td>42.73</td></tr>\n",
              "\t<tr><td>Rent</td><td>-1</td><td>40.00</td></tr>\n",
              "\t<tr><td>Rent</td><td>-1</td><td>10.00</td></tr>\n",
              "\t<tr><td>Rent</td><td>-1</td><td>20.00</td></tr>\n",
              "\t<tr><td>Rent</td><td>-1</td><td>16.00</td></tr>\n",
              "\t<tr><td>Rent</td><td>-1</td><td>21.20</td></tr>\n",
              "\t<tr><td>Rent</td><td>-1</td><td>20.00</td></tr>\n",
              "\t<tr><td>Rent</td><td>-1</td><td>30.00</td></tr>\n",
              "\t<tr><td>Rent</td><td>-1</td><td>21.00</td></tr>\n",
              "\t<tr><td>Rent</td><td>-1</td><td>30.00</td></tr>\n",
              "\t<tr><td>Rent</td><td>-1</td><td>25.00</td></tr>\n",
              "\t<tr><td>Rent</td><td>-1</td><td>20.00</td></tr>\n",
              "\t<tr><td>Rent</td><td>-1</td><td>20.00</td></tr>\n",
              "\t<tr><td>Rent</td><td>-1</td><td>35.00</td></tr>\n",
              "\t<tr><td>Rent</td><td>-1</td><td>32.00</td></tr>\n",
              "\t<tr><td>Rent</td><td>-1</td><td>50.00</td></tr>\n",
              "\t<tr><td>Rent</td><td>-1</td><td>15.00</td></tr>\n",
              "\t<tr><td>Rent</td><td>-1</td><td>21.00</td></tr>\n",
              "\t<tr><td>Rent</td><td>-1</td><td>24.00</td></tr>\n",
              "\t<tr><td>Rent</td><td>-1</td><td>16.00</td></tr>\n",
              "\t<tr><td>Rent</td><td>-1</td><td>20.00</td></tr>\n",
              "\t<tr><td>Rent</td><td>-1</td><td>10.00</td></tr>\n",
              "\t<tr><td>Rent</td><td>-1</td><td>15.00</td></tr>\n",
              "\t<tr><td>Rent</td><td>-1</td><td>20.00</td></tr>\n",
              "\t<tr><td>Rent</td><td>-1</td><td>13.00</td></tr>\n",
              "\t<tr><td>Rent</td><td>-1</td><td>10.00</td></tr>\n",
              "\t<tr><td>Rent</td><td>-1</td><td>10.00</td></tr>\n",
              "\t<tr><td>Rent</td><td>-1</td><td>25.00</td></tr>\n",
              "\t<tr><td>Rent</td><td>-1</td><td>25.00</td></tr>\n",
              "</tbody>\n",
              "</table>\n"
            ],
            "text/markdown": "\nA data.frame: 4960 × 3\n\n| Group &lt;chr&gt; | xi &lt;dbl&gt; | Largest.Gift &lt;dbl&gt; |\n|---|---|---|\n| Own Home | 1 | 300 |\n| Own Home | 1 | 250 |\n| Own Home | 1 |  25 |\n| Own Home | 1 | 100 |\n| Own Home | 1 | 200 |\n| Own Home | 1 | 100 |\n| Own Home | 1 | 100 |\n| Own Home | 1 | 100 |\n| Own Home | 1 |  30 |\n| Own Home | 1 | 200 |\n| Own Home | 1 |  30 |\n| Own Home | 1 |  50 |\n| Own Home | 1 | 100 |\n| Own Home | 1 |  25 |\n| Own Home | 1 | 100 |\n| Own Home | 1 |  25 |\n| Own Home | 1 | 100 |\n| Own Home | 1 | 200 |\n| Own Home | 1 |  50 |\n| Own Home | 1 | 100 |\n| Own Home | 1 |  50 |\n| Own Home | 1 |  50 |\n| Own Home | 1 |  45 |\n| Own Home | 1 |  40 |\n| Own Home | 1 |  60 |\n| Own Home | 1 |  36 |\n| Own Home | 1 |  15 |\n| Own Home | 1 |  36 |\n| Own Home | 1 |  50 |\n| Own Home | 1 |  50 |\n| ⋮ | ⋮ | ⋮ |\n| Rent | -1 | 25.00 |\n| Rent | -1 | 42.73 |\n| Rent | -1 | 40.00 |\n| Rent | -1 | 10.00 |\n| Rent | -1 | 20.00 |\n| Rent | -1 | 16.00 |\n| Rent | -1 | 21.20 |\n| Rent | -1 | 20.00 |\n| Rent | -1 | 30.00 |\n| Rent | -1 | 21.00 |\n| Rent | -1 | 30.00 |\n| Rent | -1 | 25.00 |\n| Rent | -1 | 20.00 |\n| Rent | -1 | 20.00 |\n| Rent | -1 | 35.00 |\n| Rent | -1 | 32.00 |\n| Rent | -1 | 50.00 |\n| Rent | -1 | 15.00 |\n| Rent | -1 | 21.00 |\n| Rent | -1 | 24.00 |\n| Rent | -1 | 16.00 |\n| Rent | -1 | 20.00 |\n| Rent | -1 | 10.00 |\n| Rent | -1 | 15.00 |\n| Rent | -1 | 20.00 |\n| Rent | -1 | 13.00 |\n| Rent | -1 | 10.00 |\n| Rent | -1 | 10.00 |\n| Rent | -1 | 25.00 |\n| Rent | -1 | 25.00 |\n\n",
            "text/latex": "A data.frame: 4960 × 3\n\\begin{tabular}{lll}\n Group & xi & Largest.Gift\\\\\n <chr> & <dbl> & <dbl>\\\\\n\\hline\n\t Own Home & 1 & 300\\\\\n\t Own Home & 1 & 250\\\\\n\t Own Home & 1 &  25\\\\\n\t Own Home & 1 & 100\\\\\n\t Own Home & 1 & 200\\\\\n\t Own Home & 1 & 100\\\\\n\t Own Home & 1 & 100\\\\\n\t Own Home & 1 & 100\\\\\n\t Own Home & 1 &  30\\\\\n\t Own Home & 1 & 200\\\\\n\t Own Home & 1 &  30\\\\\n\t Own Home & 1 &  50\\\\\n\t Own Home & 1 & 100\\\\\n\t Own Home & 1 &  25\\\\\n\t Own Home & 1 & 100\\\\\n\t Own Home & 1 &  25\\\\\n\t Own Home & 1 & 100\\\\\n\t Own Home & 1 & 200\\\\\n\t Own Home & 1 &  50\\\\\n\t Own Home & 1 & 100\\\\\n\t Own Home & 1 &  50\\\\\n\t Own Home & 1 &  50\\\\\n\t Own Home & 1 &  45\\\\\n\t Own Home & 1 &  40\\\\\n\t Own Home & 1 &  60\\\\\n\t Own Home & 1 &  36\\\\\n\t Own Home & 1 &  15\\\\\n\t Own Home & 1 &  36\\\\\n\t Own Home & 1 &  50\\\\\n\t Own Home & 1 &  50\\\\\n\t ⋮ & ⋮ & ⋮\\\\\n\t Rent & -1 & 25.00\\\\\n\t Rent & -1 & 42.73\\\\\n\t Rent & -1 & 40.00\\\\\n\t Rent & -1 & 10.00\\\\\n\t Rent & -1 & 20.00\\\\\n\t Rent & -1 & 16.00\\\\\n\t Rent & -1 & 21.20\\\\\n\t Rent & -1 & 20.00\\\\\n\t Rent & -1 & 30.00\\\\\n\t Rent & -1 & 21.00\\\\\n\t Rent & -1 & 30.00\\\\\n\t Rent & -1 & 25.00\\\\\n\t Rent & -1 & 20.00\\\\\n\t Rent & -1 & 20.00\\\\\n\t Rent & -1 & 35.00\\\\\n\t Rent & -1 & 32.00\\\\\n\t Rent & -1 & 50.00\\\\\n\t Rent & -1 & 15.00\\\\\n\t Rent & -1 & 21.00\\\\\n\t Rent & -1 & 24.00\\\\\n\t Rent & -1 & 16.00\\\\\n\t Rent & -1 & 20.00\\\\\n\t Rent & -1 & 10.00\\\\\n\t Rent & -1 & 15.00\\\\\n\t Rent & -1 & 20.00\\\\\n\t Rent & -1 & 13.00\\\\\n\t Rent & -1 & 10.00\\\\\n\t Rent & -1 & 10.00\\\\\n\t Rent & -1 & 25.00\\\\\n\t Rent & -1 & 25.00\\\\\n\\end{tabular}\n"
          },
          "metadata": {}
        }
      ]
    },
    {
      "cell_type": "markdown",
      "source": [
        "# Summary and Data Visualization"
      ],
      "metadata": {
        "id": "IYYZZQhitnd2"
      }
    },
    {
      "cell_type": "code",
      "source": [
        "describe(Home)"
      ],
      "metadata": {
        "colab": {
          "base_uri": "https://localhost:8080/",
          "height": 161
        },
        "id": "pWSsVaFLrfDb",
        "outputId": "623df134-35db-481d-d383-358d298f3f72"
      },
      "execution_count": 12,
      "outputs": [
        {
          "output_type": "display_data",
          "data": {
            "text/html": [
              "<table class=\"dataframe\">\n",
              "<caption>A psych: 2 × 13</caption>\n",
              "<thead>\n",
              "\t<tr><th></th><th scope=col>vars</th><th scope=col>n</th><th scope=col>mean</th><th scope=col>sd</th><th scope=col>median</th><th scope=col>trimmed</th><th scope=col>mad</th><th scope=col>min</th><th scope=col>max</th><th scope=col>range</th><th scope=col>skew</th><th scope=col>kurtosis</th><th scope=col>se</th></tr>\n",
              "\t<tr><th></th><th scope=col>&lt;int&gt;</th><th scope=col>&lt;dbl&gt;</th><th scope=col>&lt;dbl&gt;</th><th scope=col>&lt;dbl&gt;</th><th scope=col>&lt;dbl&gt;</th><th scope=col>&lt;dbl&gt;</th><th scope=col>&lt;dbl&gt;</th><th scope=col>&lt;dbl&gt;</th><th scope=col>&lt;dbl&gt;</th><th scope=col>&lt;dbl&gt;</th><th scope=col>&lt;dbl&gt;</th><th scope=col>&lt;dbl&gt;</th><th scope=col>&lt;dbl&gt;</th></tr>\n",
              "</thead>\n",
              "<tbody>\n",
              "\t<tr><th scope=row>Own.Home*</th><td>1</td><td>5120</td><td> 1.00000</td><td> 0.00000</td><td> 1</td><td> 1.0000</td><td>0.0000</td><td>1</td><td>  1</td><td>  0</td><td>     NaN</td><td>     NaN</td><td>0.0000000</td></tr>\n",
              "\t<tr><th scope=row>Largest.Gift</th><td>2</td><td>5120</td><td>19.08361</td><td>16.87659</td><td>16</td><td>17.0758</td><td>5.9304</td><td>5</td><td>500</td><td>495</td><td>12.34759</td><td>261.0223</td><td>0.2358575</td></tr>\n",
              "</tbody>\n",
              "</table>\n"
            ],
            "text/markdown": "\nA psych: 2 × 13\n\n| <!--/--> | vars &lt;int&gt; | n &lt;dbl&gt; | mean &lt;dbl&gt; | sd &lt;dbl&gt; | median &lt;dbl&gt; | trimmed &lt;dbl&gt; | mad &lt;dbl&gt; | min &lt;dbl&gt; | max &lt;dbl&gt; | range &lt;dbl&gt; | skew &lt;dbl&gt; | kurtosis &lt;dbl&gt; | se &lt;dbl&gt; |\n|---|---|---|---|---|---|---|---|---|---|---|---|---|---|\n| Own.Home* | 1 | 5120 |  1.00000 |  0.00000 |  1 |  1.0000 | 0.0000 | 1 |   1 |   0 |      NaN |      NaN | 0.0000000 |\n| Largest.Gift | 2 | 5120 | 19.08361 | 16.87659 | 16 | 17.0758 | 5.9304 | 5 | 500 | 495 | 12.34759 | 261.0223 | 0.2358575 |\n\n",
            "text/latex": "A psych: 2 × 13\n\\begin{tabular}{r|lllllllllllll}\n  & vars & n & mean & sd & median & trimmed & mad & min & max & range & skew & kurtosis & se\\\\\n  & <int> & <dbl> & <dbl> & <dbl> & <dbl> & <dbl> & <dbl> & <dbl> & <dbl> & <dbl> & <dbl> & <dbl> & <dbl>\\\\\n\\hline\n\tOwn.Home* & 1 & 5120 &  1.00000 &  0.00000 &  1 &  1.0000 & 0.0000 & 1 &   1 &   0 &      NaN &      NaN & 0.0000000\\\\\n\tLargest.Gift & 2 & 5120 & 19.08361 & 16.87659 & 16 & 17.0758 & 5.9304 & 5 & 500 & 495 & 12.34759 & 261.0223 & 0.2358575\\\\\n\\end{tabular}\n",
            "text/plain": [
              "             vars n    mean     sd       median trimmed mad    min max range\n",
              "Own.Home*    1    5120  1.00000  0.00000  1      1.0000 0.0000 1     1   0  \n",
              "Largest.Gift 2    5120 19.08361 16.87659 16     17.0758 5.9304 5   500 495  \n",
              "             skew     kurtosis se       \n",
              "Own.Home*         NaN      NaN 0.0000000\n",
              "Largest.Gift 12.34759 261.0223 0.2358575"
            ]
          },
          "metadata": {}
        }
      ]
    },
    {
      "cell_type": "code",
      "source": [
        "m1= mean(Home$Largest.Gift)\n",
        "sd1= sd(Home$Largest.Gift)"
      ],
      "metadata": {
        "id": "7LiDSSEJTN2m"
      },
      "execution_count": 18,
      "outputs": []
    },
    {
      "cell_type": "code",
      "source": [
        "describe(Rent)"
      ],
      "metadata": {
        "colab": {
          "base_uri": "https://localhost:8080/",
          "height": 161
        },
        "id": "GEcH_ti4rfQK",
        "outputId": "b1bd1c6b-4189-4952-90a0-8045c8fa93f5"
      },
      "execution_count": 13,
      "outputs": [
        {
          "output_type": "display_data",
          "data": {
            "text/html": [
              "<table class=\"dataframe\">\n",
              "<caption>A psych: 2 × 13</caption>\n",
              "<thead>\n",
              "\t<tr><th></th><th scope=col>vars</th><th scope=col>n</th><th scope=col>mean</th><th scope=col>sd</th><th scope=col>median</th><th scope=col>trimmed</th><th scope=col>mad</th><th scope=col>min</th><th scope=col>max</th><th scope=col>range</th><th scope=col>skew</th><th scope=col>kurtosis</th><th scope=col>se</th></tr>\n",
              "\t<tr><th></th><th scope=col>&lt;int&gt;</th><th scope=col>&lt;dbl&gt;</th><th scope=col>&lt;dbl&gt;</th><th scope=col>&lt;dbl&gt;</th><th scope=col>&lt;dbl&gt;</th><th scope=col>&lt;dbl&gt;</th><th scope=col>&lt;dbl&gt;</th><th scope=col>&lt;dbl&gt;</th><th scope=col>&lt;dbl&gt;</th><th scope=col>&lt;dbl&gt;</th><th scope=col>&lt;dbl&gt;</th><th scope=col>&lt;dbl&gt;</th><th scope=col>&lt;dbl&gt;</th></tr>\n",
              "</thead>\n",
              "<tbody>\n",
              "\t<tr><th scope=row>Own.Home*</th><td>1</td><td>2480</td><td> 1.00000</td><td> 0.00000</td><td> 1</td><td> 1.00000</td><td>0.000</td><td>1</td><td>   1</td><td>  0</td><td>     NaN</td><td>     NaN</td><td>0.0000000</td></tr>\n",
              "\t<tr><th scope=row>Largest.Gift</th><td>2</td><td>2480</td><td>18.90959</td><td>25.26844</td><td>15</td><td>16.53081</td><td>7.413</td><td>5</td><td>1000</td><td>995</td><td>27.01028</td><td>969.4084</td><td>0.5074025</td></tr>\n",
              "</tbody>\n",
              "</table>\n"
            ],
            "text/markdown": "\nA psych: 2 × 13\n\n| <!--/--> | vars &lt;int&gt; | n &lt;dbl&gt; | mean &lt;dbl&gt; | sd &lt;dbl&gt; | median &lt;dbl&gt; | trimmed &lt;dbl&gt; | mad &lt;dbl&gt; | min &lt;dbl&gt; | max &lt;dbl&gt; | range &lt;dbl&gt; | skew &lt;dbl&gt; | kurtosis &lt;dbl&gt; | se &lt;dbl&gt; |\n|---|---|---|---|---|---|---|---|---|---|---|---|---|---|\n| Own.Home* | 1 | 2480 |  1.00000 |  0.00000 |  1 |  1.00000 | 0.000 | 1 |    1 |   0 |      NaN |      NaN | 0.0000000 |\n| Largest.Gift | 2 | 2480 | 18.90959 | 25.26844 | 15 | 16.53081 | 7.413 | 5 | 1000 | 995 | 27.01028 | 969.4084 | 0.5074025 |\n\n",
            "text/latex": "A psych: 2 × 13\n\\begin{tabular}{r|lllllllllllll}\n  & vars & n & mean & sd & median & trimmed & mad & min & max & range & skew & kurtosis & se\\\\\n  & <int> & <dbl> & <dbl> & <dbl> & <dbl> & <dbl> & <dbl> & <dbl> & <dbl> & <dbl> & <dbl> & <dbl> & <dbl>\\\\\n\\hline\n\tOwn.Home* & 1 & 2480 &  1.00000 &  0.00000 &  1 &  1.00000 & 0.000 & 1 &    1 &   0 &      NaN &      NaN & 0.0000000\\\\\n\tLargest.Gift & 2 & 2480 & 18.90959 & 25.26844 & 15 & 16.53081 & 7.413 & 5 & 1000 & 995 & 27.01028 & 969.4084 & 0.5074025\\\\\n\\end{tabular}\n",
            "text/plain": [
              "             vars n    mean     sd       median trimmed  mad   min max  range\n",
              "Own.Home*    1    2480  1.00000  0.00000  1      1.00000 0.000 1      1   0  \n",
              "Largest.Gift 2    2480 18.90959 25.26844 15     16.53081 7.413 5   1000 995  \n",
              "             skew     kurtosis se       \n",
              "Own.Home*         NaN      NaN 0.0000000\n",
              "Largest.Gift 27.01028 969.4084 0.5074025"
            ]
          },
          "metadata": {}
        }
      ]
    },
    {
      "cell_type": "code",
      "source": [
        "m2= mean(Rent$Largest.Gift)\n",
        "sd2= sd(Rent$Largest.Gift)"
      ],
      "metadata": {
        "id": "iPJ_c-W0Tjqh"
      },
      "execution_count": 20,
      "outputs": []
    },
    {
      "cell_type": "code",
      "source": [
        "# The means of the two groups are close(H= 19.08, U= 18.91) but let's see if they are significant or not."
      ],
      "metadata": {
        "id": "Y936cM0nrfTJ"
      },
      "execution_count": null,
      "outputs": []
    },
    {
      "cell_type": "code",
      "source": [
        "ggplot(Home)+geom_histogram(aes(x= Largest.Gift),color= 'black', fill= 'green', binwidth = 10)+ xlab('Home Owners')+ theme_bw()+theme(panel.grid= element_blank())\n",
        "ggplot(Rent)+geom_histogram(aes(x= Largest.Gift), color= 'black',fill= 'blue',binwidth = 20)+ xlab('Renters')+theme_bw()+theme(panel.grid= element_blank())"
      ],
      "metadata": {
        "colab": {
          "base_uri": "https://localhost:8080/",
          "height": 857
        },
        "id": "Ofcir5f5ttQs",
        "outputId": "ab85550f-9c87-4020-e1e8-e5c3cfba5cbe"
      },
      "execution_count": 33,
      "outputs": [
        {
          "output_type": "display_data",
          "data": {
            "text/plain": [
              "plot without title"
            ],
            "image/png": "[encoded data removed]"
          },
          "metadata": {
            "image/png": {
              "width": 420,
              "height": 420
            }
          }
        },
        {
          "output_type": "display_data",
          "data": {
            "text/plain": [
              "plot without title"
            ],
            "image/png": "[encoded data removed]"
          },
          "metadata": {
            "image/png": {
              "width": 420,
              "height": 420
            }
          }
        }
      ]
    },
    {
      "cell_type": "markdown",
      "source": [
        "#Checking for Assumption Violations\n",
        "\n",
        "Two Assumptions: Homogeneity of variance and normality of population distribution"
      ],
      "metadata": {
        "id": "Dg6wmDNgyE2-"
      }
    },
    {
      "cell_type": "code",
      "source": [
        "Rent1= Gift%>%filter(Group== 'Rent')\n",
        "Home1= Gift%>%filter(Group== 'Own Home')"
      ],
      "metadata": {
        "id": "Nf7L0-xB7Lmu"
      },
      "execution_count": 66,
      "outputs": []
    },
    {
      "cell_type": "code",
      "source": [
        "# Test for Normality\n",
        "shapiro.test(Rent1$Largest.Gift)\n",
        "shapiro.test(Home1$Largest.Gift)\n",
        "\n",
        "# since the p values are showing significant results, there is a violation of the normal distribution assumption\n"
      ],
      "metadata": {
        "colab": {
          "base_uri": "https://localhost:8080/",
          "height": 191
        },
        "id": "oaGOjP9jyFmd",
        "outputId": "8f6611e6-34fe-419c-fc16-8a50001c6cc9"
      },
      "execution_count": 67,
      "outputs": [
        {
          "output_type": "display_data",
          "data": {
            "text/plain": [
              "\n",
              "\tShapiro-Wilk normality test\n",
              "\n",
              "data:  Rent1$Largest.Gift\n",
              "W = 0.21871, p-value < 2.2e-16\n"
            ]
          },
          "metadata": {}
        },
        {
          "output_type": "display_data",
          "data": {
            "text/plain": [
              "\n",
              "\tShapiro-Wilk normality test\n",
              "\n",
              "data:  Home1$Largest.Gift\n",
              "W = 0.39166, p-value < 2.2e-16\n"
            ]
          },
          "metadata": {}
        }
      ]
    },
    {
      "cell_type": "code",
      "source": [
        "# Test for Homogeneity of Variance\n",
        "leveneTest(yi~as.factor(xi))\n",
        "# No violation of Homogeneity of Variance."
      ],
      "metadata": {
        "colab": {
          "base_uri": "https://localhost:8080/",
          "height": 161
        },
        "id": "KJwohfxy2N8x",
        "outputId": "d5e343bb-081c-401a-b8b0-6782b67f3195"
      },
      "execution_count": 58,
      "outputs": [
        {
          "output_type": "display_data",
          "data": {
            "text/html": [
              "<table class=\"dataframe\">\n",
              "<caption>A anova: 2 × 3</caption>\n",
              "<thead>\n",
              "\t<tr><th></th><th scope=col>Df</th><th scope=col>F value</th><th scope=col>Pr(&gt;F)</th></tr>\n",
              "\t<tr><th></th><th scope=col>&lt;int&gt;</th><th scope=col>&lt;dbl&gt;</th><th scope=col>&lt;dbl&gt;</th></tr>\n",
              "</thead>\n",
              "<tbody>\n",
              "\t<tr><th scope=row>group</th><td>   1</td><td>0.410559</td><td>0.5217155</td></tr>\n",
              "\t<tr><th scope=row> </th><td>4958</td><td>      NA</td><td>       NA</td></tr>\n",
              "</tbody>\n",
              "</table>\n"
            ],
            "text/markdown": "\nA anova: 2 × 3\n\n| <!--/--> | Df &lt;int&gt; | F value &lt;dbl&gt; | Pr(&gt;F) &lt;dbl&gt; |\n|---|---|---|---|\n| group |    1 | 0.410559 | 0.5217155 |\n| <!----> | 4958 |       NA |        NA |\n\n",
            "text/latex": "A anova: 2 × 3\n\\begin{tabular}{r|lll}\n  & Df & F value & Pr(>F)\\\\\n  & <int> & <dbl> & <dbl>\\\\\n\\hline\n\tgroup &    1 & 0.410559 & 0.5217155\\\\\n\t  & 4958 &       NA &        NA\\\\\n\\end{tabular}\n",
            "text/plain": [
              "      Df   F value  Pr(>F)   \n",
              "group    1 0.410559 0.5217155\n",
              "      4958       NA        NA"
            ]
          },
          "metadata": {}
        }
      ]
    },
    {
      "cell_type": "markdown",
      "source": [
        "# Data Transformation\n",
        "\n",
        "To fix the issue of the normality violation, transform the data by taking its square root, log or inverse when it is positively skewed."
      ],
      "metadata": {
        "id": "Y1VXSmUD9o7_"
      }
    },
    {
      "cell_type": "code",
      "source": [
        "Gift= Gift%>%mutate(Largest.Root= sqrt(Gift$Largest.Gift))"
      ],
      "metadata": {
        "id": "l5idLZ7T9-J0"
      },
      "execution_count": 75,
      "outputs": []
    },
    {
      "cell_type": "code",
      "source": [
        "Gift= Gift%>%mutate(Largest.log= log10(Gift$Largest.Gift))"
      ],
      "metadata": {
        "id": "wRGFKA6-A6Pa"
      },
      "execution_count": 78,
      "outputs": []
    },
    {
      "cell_type": "code",
      "source": [
        "Gift= Gift%>%mutate(Largest.inv= 1/(-1)*(Gift$Largest.Gift))"
      ],
      "metadata": {
        "id": "6tt9CuAtA57M"
      },
      "execution_count": 80,
      "outputs": []
    },
    {
      "cell_type": "code",
      "source": [
        "# lets try Shapiro again\n",
        "shapiro.test(Gift$Largest.Root)\n",
        "shapiro.test(Gift$Largest.log)\n",
        "shapiro.test(Gift$Largest.inv)"
      ],
      "metadata": {
        "colab": {
          "base_uri": "https://localhost:8080/",
          "height": 277
        },
        "id": "dwgTKli69-Bv",
        "outputId": "58f4195d-0beb-4ffd-efbb-ebbd5aad211c"
      },
      "execution_count": 81,
      "outputs": [
        {
          "output_type": "display_data",
          "data": {
            "text/plain": [
              "\n",
              "\tShapiro-Wilk normality test\n",
              "\n",
              "data:  Gift$Largest.Root\n",
              "W = 0.71471, p-value < 2.2e-16\n"
            ]
          },
          "metadata": {}
        },
        {
          "output_type": "display_data",
          "data": {
            "text/plain": [
              "\n",
              "\tShapiro-Wilk normality test\n",
              "\n",
              "data:  Gift$Largest.log\n",
              "W = 0.93618, p-value < 2.2e-16\n"
            ]
          },
          "metadata": {}
        },
        {
          "output_type": "display_data",
          "data": {
            "text/plain": [
              "\n",
              "\tShapiro-Wilk normality test\n",
              "\n",
              "data:  Gift$Largest.inv\n",
              "W = 0.27721, p-value < 2.2e-16\n"
            ]
          },
          "metadata": {}
        }
      ]
    },
    {
      "cell_type": "code",
      "source": [
        "# Is our data transformed?\n",
        "ggplot(Gift)+geom_histogram(aes(x= Largest.Root),color= 'black',fill= 'blue', binwidth = 5)+theme_bw()+theme(panel.grid= element_blank())\n",
        "ggplot(Gift)+geom_histogram(aes(x= Largest.log),color= 'black',fill= 'blue', binwidth = 5)+theme_bw()+theme(panel.grid= element_blank())\n",
        "ggplot(Gift)+geom_histogram(aes(x= Largest.inv),color= 'black',fill= 'blue', binwidth = 5)+theme_bw()+theme(panel.grid= element_blank())\n",
        "\n",
        "# Looking at the graphs below, the square root seemed to have worked best for our data."
      ],
      "metadata": {
        "id": "kqE3xOwoAYsw"
      },
      "execution_count": null,
      "outputs": []
    },
    {
      "cell_type": "markdown",
      "source": [
        "# Hypothesis Testing"
      ],
      "metadata": {
        "id": "S2kaTNUvYMqs"
      }
    },
    {
      "cell_type": "code",
      "source": [
        "# Computing total number of participants\n",
        "N= nrow(Gift)\n",
        "N"
      ],
      "metadata": {
        "colab": {
          "base_uri": "https://localhost:8080/",
          "height": 34
        },
        "id": "78FrPB71UerQ",
        "outputId": "35c845dc-466c-455f-cf2d-265e3e74b5e1"
      },
      "execution_count": 34,
      "outputs": [
        {
          "output_type": "display_data",
          "data": {
            "text/html": [
              "4960"
            ],
            "text/markdown": "4960",
            "text/latex": "4960",
            "text/plain": [
              "[1] 4960"
            ]
          },
          "metadata": {}
        }
      ]
    },
    {
      "cell_type": "code",
      "source": [
        "# Degrees of Freedom\n",
        "Df= N-2\n",
        "Df"
      ],
      "metadata": {
        "colab": {
          "base_uri": "https://localhost:8080/",
          "height": 34
        },
        "id": "gRdzchJ_KDIP",
        "outputId": "cbc0c582-a1f2-40a8-ae8e-b92f51774e7c"
      },
      "execution_count": 43,
      "outputs": [
        {
          "output_type": "display_data",
          "data": {
            "text/html": [
              "4958"
            ],
            "text/markdown": "4958",
            "text/latex": "4958",
            "text/plain": [
              "[1] 4958"
            ]
          },
          "metadata": {}
        }
      ]
    },
    {
      "cell_type": "code",
      "source": [
        "# Computing cutoff value\n",
        "qt(p= .05, df= Df, lower.tail = FALSE)"
      ],
      "metadata": {
        "colab": {
          "base_uri": "https://localhost:8080/",
          "height": 34
        },
        "id": "ufG_mZKjKDEv",
        "outputId": "6f23c911-9671-435a-f173-a857c421e3f6"
      },
      "execution_count": 2,
      "outputs": [
        {
          "output_type": "display_data",
          "data": {
            "text/html": [
              "1.64516102018147"
            ],
            "text/markdown": "1.64516102018147",
            "text/latex": "1.64516102018147",
            "text/plain": [
              "[1] 1.645161"
            ]
          },
          "metadata": {}
        }
      ]
    },
    {
      "cell_type": "code",
      "source": [
        "B= (1*m1+(-1*m2)/(1**2)+(-1**2))\n",
        "B"
      ],
      "metadata": {
        "colab": {
          "base_uri": "https://localhost:8080/",
          "height": 34
        },
        "id": "w7-tDTAxSILh",
        "outputId": "2aa83c6e-84ec-4fc4-e62c-b4fd13dc2d73"
      },
      "execution_count": 22,
      "outputs": [
        {
          "output_type": "display_data",
          "data": {
            "text/html": [
              "0.673431451612903"
            ],
            "text/markdown": "0.673431451612903",
            "text/latex": "0.673431451612903",
            "text/plain": [
              "[1] 0.6734315"
            ]
          },
          "metadata": {}
        }
      ]
    },
    {
      "cell_type": "code",
      "source": [
        "A= mean(c(m1,m2))\n",
        "A"
      ],
      "metadata": {
        "colab": {
          "base_uri": "https://localhost:8080/",
          "height": 34
        },
        "id": "4JrM_eDVSIZk",
        "outputId": "20a9222e-3107-4b30-9b0b-b52292465a38"
      },
      "execution_count": 24,
      "outputs": [
        {
          "output_type": "display_data",
          "data": {
            "text/html": [
              "19.7463084677419"
            ],
            "text/markdown": "19.7463084677419",
            "text/latex": "19.7463084677419",
            "text/plain": [
              "[1] 19.74631"
            ]
          },
          "metadata": {}
        }
      ]
    },
    {
      "cell_type": "code",
      "source": [
        "SSResid= sum((Home$Largest.Gift-m1)**2, (Rent$Largest.Gift-m2)**2)\n",
        "SSResid"
      ],
      "metadata": {
        "colab": {
          "base_uri": "https://localhost:8080/",
          "height": 34
        },
        "id": "GqWrBG4NUe6R",
        "outputId": "020c7af9-7e31-4ec2-e829-122763cd4548"
      },
      "execution_count": 29,
      "outputs": [
        {
          "output_type": "display_data",
          "data": {
            "text/html": [
              "2312370.18200722"
            ],
            "text/markdown": "2312370.18200722",
            "text/latex": "2312370.18200722",
            "text/plain": [
              "[1] 2312370"
            ]
          },
          "metadata": {}
        }
      ]
    },
    {
      "cell_type": "code",
      "source": [
        "Sy.x= sqrt(SSResid/Df)\n",
        "Sy.x"
      ],
      "metadata": {
        "colab": {
          "base_uri": "https://localhost:8080/",
          "height": 34
        },
        "id": "ct-H5i9VUexZ",
        "outputId": "ac81fb57-fb9e-4bbe-c47a-d7f72ac48ee5"
      },
      "execution_count": 36,
      "outputs": [
        {
          "output_type": "display_data",
          "data": {
            "text/html": [
              "21.5961044382422"
            ],
            "text/markdown": "21.5961044382422",
            "text/latex": "21.5961044382422",
            "text/plain": [
              "[1] 21.5961"
            ]
          },
          "metadata": {}
        }
      ]
    },
    {
      "cell_type": "code",
      "source": [
        "SEb= Sy.x/sqrt(sum(xi-mean(xi))**2)\n",
        "SEb"
      ],
      "metadata": {
        "colab": {
          "base_uri": "https://localhost:8080/",
          "height": 34
        },
        "id": "Y0ozCkevUekb",
        "outputId": "a2a08a28-ed6b-48f4-8ea1-be8b9bb4e861"
      },
      "execution_count": 38,
      "outputs": [
        {
          "output_type": "display_data",
          "data": {
            "text/html": [
              "Inf"
            ],
            "text/markdown": "Inf",
            "text/latex": "Inf",
            "text/plain": [
              "[1] Inf"
            ]
          },
          "metadata": {}
        }
      ]
    },
    {
      "cell_type": "code",
      "source": [
        "# Computing t-value\n",
        "tvalue= B/SEb\n",
        "tvalue\n",
        "# 0 < 1.65. Our calculated t-value is less than our cutoff so we fail to reject null hypothesis"
      ],
      "metadata": {
        "colab": {
          "base_uri": "https://localhost:8080/",
          "height": 34
        },
        "id": "nc2M4PPhUegy",
        "outputId": "515eb4d5-0e08-4786-95aa-2fe9070758a7"
      },
      "execution_count": 40,
      "outputs": [
        {
          "output_type": "display_data",
          "data": {
            "text/html": [
              "0"
            ],
            "text/markdown": "0",
            "text/latex": "0",
            "text/plain": [
              "[1] 0"
            ]
          },
          "metadata": {}
        }
      ]
    },
    {
      "cell_type": "code",
      "source": [
        "# Computing p-value\n",
        "pt(tvalue,Df, lower.tail = FALSE)\n",
        "# Our Results are not significant."
      ],
      "metadata": {
        "colab": {
          "base_uri": "https://localhost:8080/",
          "height": 34
        },
        "id": "ltqJ9ThMUeeI",
        "outputId": "ebb524be-8932-4c26-bbb1-be347d992062"
      },
      "execution_count": 41,
      "outputs": [
        {
          "output_type": "display_data",
          "data": {
            "text/html": [
              "0.5"
            ],
            "text/markdown": "0.5",
            "text/latex": "0.5",
            "text/plain": [
              "[1] 0.5"
            ]
          },
          "metadata": {}
        }
      ]
    },
    {
      "cell_type": "markdown",
      "source": [
        "# Effect Size\n"
      ],
      "metadata": {
        "id": "UCs4Xw2oYJL6"
      }
    },
    {
      "cell_type": "code",
      "source": [
        "sPooled= sqrt(1/2*var(Home$Largest.Gift)+ var(Rent$Largest.Gift))\n",
        "sPooled"
      ],
      "metadata": {
        "colab": {
          "base_uri": "https://localhost:8080/",
          "height": 34
        },
        "id": "fs8fsWwbY2Jf",
        "outputId": "0c8d627d-819b-4e09-daad-294f1536e136"
      },
      "execution_count": 45,
      "outputs": [
        {
          "output_type": "display_data",
          "data": {
            "text/html": [
              "28.0292475815365"
            ],
            "text/markdown": "28.0292475815365",
            "text/latex": "28.0292475815365",
            "text/plain": [
              "[1] 28.02925"
            ]
          },
          "metadata": {}
        }
      ]
    },
    {
      "cell_type": "code",
      "source": [
        "# Effect size based on Cohen's d\n",
        "Cohensd= ((m1-m2)/sPooled)\n",
        "Cohensd\n",
        "# Very Small Effect size."
      ],
      "metadata": {
        "colab": {
          "base_uri": "https://localhost:8080/",
          "height": 34
        },
        "id": "dM0CKVNQY2Xw",
        "outputId": "420a63e6-3cb2-4c79-e172-171e84cbc685"
      },
      "execution_count": 47,
      "outputs": [
        {
          "output_type": "display_data",
          "data": {
            "text/html": [
              "0.0597030457826214"
            ],
            "text/markdown": "0.0597030457826214",
            "text/latex": "0.0597030457826214",
            "text/plain": [
              "[1] 0.05970305"
            ]
          },
          "metadata": {}
        }
      ]
    }
  ]
}