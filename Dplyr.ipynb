{
  "nbformat": 4,
  "nbformat_minor": 0,
  "metadata": {
    "colab": {
      "provenance": [],
      "authorship_tag": "ABX9TyP7sDs8sQpta1Dz4jlTq45e",
      "include_colab_link": true
    },
    "kernelspec": {
      "name": "ir",
      "display_name": "R"
    },
    "language_info": {
      "name": "R"
    }
  },
  "cells": [
    {
      "cell_type": "markdown",
      "metadata": {
        "id": "view-in-github",
        "colab_type": "text"
      },
      "source": [
        "<a href=\"https://colab.research.google.com/github/Cann-Emma/R/blob/main/Dplyr.ipynb\" target=\"_parent\"><img src=\"https://colab.research.google.com/assets/colab-badge.svg\" alt=\"Open In Colab\"/></a>"
      ]
    },
    {
      "cell_type": "markdown",
      "source": [
        "# DATA WRANGLING WITH DPLYR\n",
        "\n",
        "Summary: Renaming and adding columns, filtering and summarising datasets, creating frequency tables.\n"
      ],
      "metadata": {
        "id": "yticWspg0Mni"
      }
    },
    {
      "cell_type": "code",
      "execution_count": 4,
      "metadata": {
        "colab": {
          "base_uri": "https://localhost:8080/"
        },
        "id": "YEpGdXYBqisR",
        "outputId": "95ba10f4-6c34-49c6-e8c0-9ba0d54eb7ac"
      },
      "outputs": [
        {
          "output_type": "stream",
          "name": "stderr",
          "text": [
            "\n",
            "Attaching package: ‘dplyr’\n",
            "\n",
            "\n",
            "The following objects are masked from ‘package:stats’:\n",
            "\n",
            "    filter, lag\n",
            "\n",
            "\n",
            "The following objects are masked from ‘package:base’:\n",
            "\n",
            "    intersect, setdiff, setequal, union\n",
            "\n",
            "\n"
          ]
        }
      ],
      "source": [
        "TB= read.csv('who_dataset.csv')\n",
        "library(dplyr)"
      ]
    },
    {
      "cell_type": "code",
      "source": [
        "glimpse(TB)"
      ],
      "metadata": {
        "colab": {
          "base_uri": "https://localhost:8080/"
        },
        "id": "wslcnmecrHuv",
        "outputId": "5350a065-2bea-45d2-abde-70e6f4fc7329"
      },
      "execution_count": 5,
      "outputs": [
        {
          "output_type": "stream",
          "name": "stdout",
          "text": [
            "Rows: 76,046\n",
            "Columns: 6\n",
            "$ country \u001b[3m\u001b[90m<chr>\u001b[39m\u001b[23m \"Afghanistan\", \"Afghanistan\", \"Afghanistan\", \"Afghanistan\", \"A…\n",
            "$ year    \u001b[3m\u001b[90m<int>\u001b[39m\u001b[23m 1997, 1997, 1997, 1997, 1997, 1997, 1997, 1997, 1997, 1997, 19…\n",
            "$ var     \u001b[3m\u001b[90m<chr>\u001b[39m\u001b[23m \"sp\", \"sp\", \"sp\", \"sp\", \"sp\", \"sp\", \"sp\", \"sp\", \"sp\", \"sp\", \"s…\n",
            "$ sex     \u001b[3m\u001b[90m<chr>\u001b[39m\u001b[23m \"m\", \"m\", \"m\", \"m\", \"m\", \"m\", \"m\", \"f\", \"f\", \"f\", \"f\", \"f\", \"f…\n",
            "$ age     \u001b[3m\u001b[90m<int>\u001b[39m\u001b[23m 14, 1524, 2534, 3544, 4554, 5564, 65, 14, 1524, 2534, 3544, 45…\n",
            "$ cases   \u001b[3m\u001b[90m<int>\u001b[39m\u001b[23m 0, 10, 6, 3, 5, 2, 0, 5, 38, 36, 14, 8, 0, 1, 30, 129, 128, 90…\n"
          ]
        }
      ]
    },
    {
      "cell_type": "code",
      "source": [
        "TB1= TB%>%rename('age_group'= 'age', 'tb_type'= 'var')\n",
        "glimpse(TB1)"
      ],
      "metadata": {
        "colab": {
          "base_uri": "https://localhost:8080/"
        },
        "id": "1DNUPfx7q9u1",
        "outputId": "34f60aec-a61d-4e4b-95c1-4ce6408c842c"
      },
      "execution_count": 7,
      "outputs": [
        {
          "output_type": "stream",
          "name": "stdout",
          "text": [
            "Rows: 76,046\n",
            "Columns: 6\n",
            "$ country   \u001b[3m\u001b[90m<chr>\u001b[39m\u001b[23m \"Afghanistan\", \"Afghanistan\", \"Afghanistan\", \"Afghanistan\", …\n",
            "$ year      \u001b[3m\u001b[90m<int>\u001b[39m\u001b[23m 1997, 1997, 1997, 1997, 1997, 1997, 1997, 1997, 1997, 1997, …\n",
            "$ tb_type   \u001b[3m\u001b[90m<chr>\u001b[39m\u001b[23m \"sp\", \"sp\", \"sp\", \"sp\", \"sp\", \"sp\", \"sp\", \"sp\", \"sp\", \"sp\", …\n",
            "$ sex       \u001b[3m\u001b[90m<chr>\u001b[39m\u001b[23m \"m\", \"m\", \"m\", \"m\", \"m\", \"m\", \"m\", \"f\", \"f\", \"f\", \"f\", \"f\", …\n",
            "$ age_group \u001b[3m\u001b[90m<int>\u001b[39m\u001b[23m 14, 1524, 2534, 3544, 4554, 5564, 65, 14, 1524, 2534, 3544, …\n",
            "$ cases     \u001b[3m\u001b[90m<int>\u001b[39m\u001b[23m 0, 10, 6, 3, 5, 2, 0, 5, 38, 36, 14, 8, 0, 1, 30, 129, 128, …\n"
          ]
        }
      ]
    },
    {
      "cell_type": "code",
      "source": [
        "TB1$tb_type%>%table()"
      ],
      "metadata": {
        "colab": {
          "base_uri": "https://localhost:8080/",
          "height": 69
        },
        "id": "qaJ6ADU-q919",
        "outputId": "e89e22c4-cbb9-4818-d32d-561ee6b78bf4"
      },
      "execution_count": 9,
      "outputs": [
        {
          "output_type": "display_data",
          "data": {
            "text/plain": [
              ".\n",
              "   ep   rel    sn    sp \n",
              "14304  2580 14342 44820 "
            ]
          },
          "metadata": {}
        }
      ]
    },
    {
      "cell_type": "code",
      "source": [
        "TB1%>%select(sex, tb_type)%>%table()"
      ],
      "metadata": {
        "colab": {
          "base_uri": "https://localhost:8080/",
          "height": 86
        },
        "id": "v0CvpSLiq9_e",
        "outputId": "21970f4b-0b65-4f58-9ed9-8434b00c0af6"
      },
      "execution_count": 13,
      "outputs": [
        {
          "output_type": "display_data",
          "data": {
            "text/plain": [
              "   tb_type\n",
              "sex    ep   rel    sn    sp\n",
              "  f  7143  1290  7152 22363\n",
              "  m  7161  1290  7190 22457"
            ]
          },
          "metadata": {}
        }
      ]
    },
    {
      "cell_type": "code",
      "source": [
        "TB_US= TB1%>%filter(year==2013 & country=='United States of America')%>%arrange(-cases)\n",
        "head(TB_US)"
      ],
      "metadata": {
        "colab": {
          "base_uri": "https://localhost:8080/",
          "height": 286
        },
        "id": "OpQdWqDpq-CO",
        "outputId": "e7e73e67-f37d-4983-b8c7-61304af3b55a"
      },
      "execution_count": 24,
      "outputs": [
        {
          "output_type": "display_data",
          "data": {
            "text/html": [
              "<table class=\"dataframe\">\n",
              "<caption>A data.frame: 6 × 6</caption>\n",
              "<thead>\n",
              "\t<tr><th></th><th scope=col>country</th><th scope=col>year</th><th scope=col>tb_type</th><th scope=col>sex</th><th scope=col>age_group</th><th scope=col>cases</th></tr>\n",
              "\t<tr><th></th><th scope=col>&lt;chr&gt;</th><th scope=col>&lt;int&gt;</th><th scope=col>&lt;chr&gt;</th><th scope=col>&lt;chr&gt;</th><th scope=col>&lt;int&gt;</th><th scope=col>&lt;int&gt;</th></tr>\n",
              "</thead>\n",
              "<tbody>\n",
              "\t<tr><th scope=row>1</th><td>United States of America</td><td>2013</td><td>rel</td><td>m</td><td>  65</td><td>1259</td></tr>\n",
              "\t<tr><th scope=row>2</th><td>United States of America</td><td>2013</td><td>rel</td><td>m</td><td>4554</td><td> 937</td></tr>\n",
              "\t<tr><th scope=row>3</th><td>United States of America</td><td>2013</td><td>rel</td><td>m</td><td>5564</td><td> 926</td></tr>\n",
              "\t<tr><th scope=row>4</th><td>United States of America</td><td>2013</td><td>rel</td><td>m</td><td>2534</td><td> 829</td></tr>\n",
              "\t<tr><th scope=row>5</th><td>United States of America</td><td>2013</td><td>rel</td><td>m</td><td>3544</td><td> 793</td></tr>\n",
              "\t<tr><th scope=row>6</th><td>United States of America</td><td>2013</td><td>rel</td><td>f</td><td>  65</td><td> 786</td></tr>\n",
              "</tbody>\n",
              "</table>\n"
            ],
            "text/markdown": "\nA data.frame: 6 × 6\n\n| <!--/--> | country &lt;chr&gt; | year &lt;int&gt; | tb_type &lt;chr&gt; | sex &lt;chr&gt; | age_group &lt;int&gt; | cases &lt;int&gt; |\n|---|---|---|---|---|---|---|\n| 1 | United States of America | 2013 | rel | m |   65 | 1259 |\n| 2 | United States of America | 2013 | rel | m | 4554 |  937 |\n| 3 | United States of America | 2013 | rel | m | 5564 |  926 |\n| 4 | United States of America | 2013 | rel | m | 2534 |  829 |\n| 5 | United States of America | 2013 | rel | m | 3544 |  793 |\n| 6 | United States of America | 2013 | rel | f |   65 |  786 |\n\n",
            "text/latex": "A data.frame: 6 × 6\n\\begin{tabular}{r|llllll}\n  & country & year & tb\\_type & sex & age\\_group & cases\\\\\n  & <chr> & <int> & <chr> & <chr> & <int> & <int>\\\\\n\\hline\n\t1 & United States of America & 2013 & rel & m &   65 & 1259\\\\\n\t2 & United States of America & 2013 & rel & m & 4554 &  937\\\\\n\t3 & United States of America & 2013 & rel & m & 5564 &  926\\\\\n\t4 & United States of America & 2013 & rel & m & 2534 &  829\\\\\n\t5 & United States of America & 2013 & rel & m & 3544 &  793\\\\\n\t6 & United States of America & 2013 & rel & f &   65 &  786\\\\\n\\end{tabular}\n",
            "text/plain": [
              "  country                  year tb_type sex age_group cases\n",
              "1 United States of America 2013 rel     m     65      1259 \n",
              "2 United States of America 2013 rel     m   4554       937 \n",
              "3 United States of America 2013 rel     m   5564       926 \n",
              "4 United States of America 2013 rel     m   2534       829 \n",
              "5 United States of America 2013 rel     m   3544       793 \n",
              "6 United States of America 2013 rel     f     65       786 "
            ]
          },
          "metadata": {}
        }
      ]
    },
    {
      "cell_type": "code",
      "source": [
        "TB_GH= TB1%>%filter(country=='Ghana' & year== 2013)\n",
        "TB_GH%>%group_by(sex)%>%summarise(Sum= sum(cases))"
      ],
      "metadata": {
        "colab": {
          "base_uri": "https://localhost:8080/",
          "height": 161
        },
        "id": "DBI4aoAMq-Ei",
        "outputId": "7cb5b568-a688-4306-9bb9-d52c78fd55fa"
      },
      "execution_count": 26,
      "outputs": [
        {
          "output_type": "display_data",
          "data": {
            "text/html": [
              "<table class=\"dataframe\">\n",
              "<caption>A tibble: 2 × 2</caption>\n",
              "<thead>\n",
              "\t<tr><th scope=col>sex</th><th scope=col>Sum</th></tr>\n",
              "\t<tr><th scope=col>&lt;chr&gt;</th><th scope=col>&lt;int&gt;</th></tr>\n",
              "</thead>\n",
              "<tbody>\n",
              "\t<tr><td>f</td><td>5305</td></tr>\n",
              "\t<tr><td>m</td><td>9738</td></tr>\n",
              "</tbody>\n",
              "</table>\n"
            ],
            "text/markdown": "\nA tibble: 2 × 2\n\n| sex &lt;chr&gt; | Sum &lt;int&gt; |\n|---|---|\n| f | 5305 |\n| m | 9738 |\n\n",
            "text/latex": "A tibble: 2 × 2\n\\begin{tabular}{ll}\n sex & Sum\\\\\n <chr> & <int>\\\\\n\\hline\n\t f & 5305\\\\\n\t m & 9738\\\\\n\\end{tabular}\n",
            "text/plain": [
              "  sex Sum \n",
              "1 f   5305\n",
              "2 m   9738"
            ]
          },
          "metadata": {}
        }
      ]
    },
    {
      "cell_type": "code",
      "source": [
        "TB_GH"
      ],
      "metadata": {
        "colab": {
          "base_uri": "https://localhost:8080/",
          "height": 537
        },
        "id": "TkYeTWBVq-ID",
        "outputId": "40e4d10d-9ed6-4d4d-a413-f961265feaa3"
      },
      "execution_count": 20,
      "outputs": [
        {
          "output_type": "display_data",
          "data": {
            "text/html": [
              "<table class=\"dataframe\">\n",
              "<caption>A data.frame: 14 × 6</caption>\n",
              "<thead>\n",
              "\t<tr><th scope=col>country</th><th scope=col>year</th><th scope=col>tb_type</th><th scope=col>sex</th><th scope=col>age_group</th><th scope=col>cases</th></tr>\n",
              "\t<tr><th scope=col>&lt;chr&gt;</th><th scope=col>&lt;int&gt;</th><th scope=col>&lt;chr&gt;</th><th scope=col>&lt;chr&gt;</th><th scope=col>&lt;int&gt;</th><th scope=col>&lt;int&gt;</th></tr>\n",
              "</thead>\n",
              "<tbody>\n",
              "\t<tr><td>Ghana</td><td>2013</td><td>rel</td><td>m</td><td>  14</td><td> 420</td></tr>\n",
              "\t<tr><td>Ghana</td><td>2013</td><td>rel</td><td>m</td><td>1524</td><td> 937</td></tr>\n",
              "\t<tr><td>Ghana</td><td>2013</td><td>rel</td><td>m</td><td>2534</td><td>1871</td></tr>\n",
              "\t<tr><td>Ghana</td><td>2013</td><td>rel</td><td>m</td><td>3544</td><td>2401</td></tr>\n",
              "\t<tr><td>Ghana</td><td>2013</td><td>rel</td><td>m</td><td>4554</td><td>1901</td></tr>\n",
              "\t<tr><td>Ghana</td><td>2013</td><td>rel</td><td>m</td><td>5564</td><td>1128</td></tr>\n",
              "\t<tr><td>Ghana</td><td>2013</td><td>rel</td><td>m</td><td>  65</td><td>1080</td></tr>\n",
              "\t<tr><td>Ghana</td><td>2013</td><td>rel</td><td>f</td><td>  14</td><td> 363</td></tr>\n",
              "\t<tr><td>Ghana</td><td>2013</td><td>rel</td><td>f</td><td>1524</td><td> 753</td></tr>\n",
              "\t<tr><td>Ghana</td><td>2013</td><td>rel</td><td>f</td><td>2534</td><td>1170</td></tr>\n",
              "\t<tr><td>Ghana</td><td>2013</td><td>rel</td><td>f</td><td>3544</td><td>1089</td></tr>\n",
              "\t<tr><td>Ghana</td><td>2013</td><td>rel</td><td>f</td><td>4554</td><td> 793</td></tr>\n",
              "\t<tr><td>Ghana</td><td>2013</td><td>rel</td><td>f</td><td>5564</td><td> 463</td></tr>\n",
              "\t<tr><td>Ghana</td><td>2013</td><td>rel</td><td>f</td><td>  65</td><td> 674</td></tr>\n",
              "</tbody>\n",
              "</table>\n"
            ],
            "text/markdown": "\nA data.frame: 14 × 6\n\n| country &lt;chr&gt; | year &lt;int&gt; | tb_type &lt;chr&gt; | sex &lt;chr&gt; | age_group &lt;int&gt; | cases &lt;int&gt; |\n|---|---|---|---|---|---|\n| Ghana | 2013 | rel | m |   14 |  420 |\n| Ghana | 2013 | rel | m | 1524 |  937 |\n| Ghana | 2013 | rel | m | 2534 | 1871 |\n| Ghana | 2013 | rel | m | 3544 | 2401 |\n| Ghana | 2013 | rel | m | 4554 | 1901 |\n| Ghana | 2013 | rel | m | 5564 | 1128 |\n| Ghana | 2013 | rel | m |   65 | 1080 |\n| Ghana | 2013 | rel | f |   14 |  363 |\n| Ghana | 2013 | rel | f | 1524 |  753 |\n| Ghana | 2013 | rel | f | 2534 | 1170 |\n| Ghana | 2013 | rel | f | 3544 | 1089 |\n| Ghana | 2013 | rel | f | 4554 |  793 |\n| Ghana | 2013 | rel | f | 5564 |  463 |\n| Ghana | 2013 | rel | f |   65 |  674 |\n\n",
            "text/latex": "A data.frame: 14 × 6\n\\begin{tabular}{llllll}\n country & year & tb\\_type & sex & age\\_group & cases\\\\\n <chr> & <int> & <chr> & <chr> & <int> & <int>\\\\\n\\hline\n\t Ghana & 2013 & rel & m &   14 &  420\\\\\n\t Ghana & 2013 & rel & m & 1524 &  937\\\\\n\t Ghana & 2013 & rel & m & 2534 & 1871\\\\\n\t Ghana & 2013 & rel & m & 3544 & 2401\\\\\n\t Ghana & 2013 & rel & m & 4554 & 1901\\\\\n\t Ghana & 2013 & rel & m & 5564 & 1128\\\\\n\t Ghana & 2013 & rel & m &   65 & 1080\\\\\n\t Ghana & 2013 & rel & f &   14 &  363\\\\\n\t Ghana & 2013 & rel & f & 1524 &  753\\\\\n\t Ghana & 2013 & rel & f & 2534 & 1170\\\\\n\t Ghana & 2013 & rel & f & 3544 & 1089\\\\\n\t Ghana & 2013 & rel & f & 4554 &  793\\\\\n\t Ghana & 2013 & rel & f & 5564 &  463\\\\\n\t Ghana & 2013 & rel & f &   65 &  674\\\\\n\\end{tabular}\n",
            "text/plain": [
              "   country year tb_type sex age_group cases\n",
              "1  Ghana   2013 rel     m     14       420 \n",
              "2  Ghana   2013 rel     m   1524       937 \n",
              "3  Ghana   2013 rel     m   2534      1871 \n",
              "4  Ghana   2013 rel     m   3544      2401 \n",
              "5  Ghana   2013 rel     m   4554      1901 \n",
              "6  Ghana   2013 rel     m   5564      1128 \n",
              "7  Ghana   2013 rel     m     65      1080 \n",
              "8  Ghana   2013 rel     f     14       363 \n",
              "9  Ghana   2013 rel     f   1524       753 \n",
              "10 Ghana   2013 rel     f   2534      1170 \n",
              "11 Ghana   2013 rel     f   3544      1089 \n",
              "12 Ghana   2013 rel     f   4554       793 \n",
              "13 Ghana   2013 rel     f   5564       463 \n",
              "14 Ghana   2013 rel     f     65       674 "
            ]
          },
          "metadata": {}
        }
      ]
    },
    {
      "cell_type": "code",
      "source": [
        "library(ggplot2)\n",
        "glimpse(diamonds)"
      ],
      "metadata": {
        "colab": {
          "base_uri": "https://localhost:8080/"
        },
        "id": "02j_5nJ-vyB5",
        "outputId": "0bb47c84-e5f4-4603-933e-203d903087c5"
      },
      "execution_count": 28,
      "outputs": [
        {
          "output_type": "stream",
          "name": "stdout",
          "text": [
            "Rows: 53,940\n",
            "Columns: 10\n",
            "$ carat   \u001b[3m\u001b[90m<dbl>\u001b[39m\u001b[23m 0.23, 0.21, 0.23, 0.29, 0.31, 0.24, 0.24, 0.26, 0.22, 0.23, 0.…\n",
            "$ cut     \u001b[3m\u001b[90m<ord>\u001b[39m\u001b[23m Ideal, Premium, Good, Premium, Good, Very Good, Very Good, Ver…\n",
            "$ color   \u001b[3m\u001b[90m<ord>\u001b[39m\u001b[23m E, E, E, I, J, J, I, H, E, H, J, J, F, J, E, E, I, J, J, J, I,…\n",
            "$ clarity \u001b[3m\u001b[90m<ord>\u001b[39m\u001b[23m SI2, SI1, VS1, VS2, SI2, VVS2, VVS1, SI1, VS2, VS1, SI1, VS1, …\n",
            "$ depth   \u001b[3m\u001b[90m<dbl>\u001b[39m\u001b[23m 61.5, 59.8, 56.9, 62.4, 63.3, 62.8, 62.3, 61.9, 65.1, 59.4, 64…\n",
            "$ table   \u001b[3m\u001b[90m<dbl>\u001b[39m\u001b[23m 55, 61, 65, 58, 58, 57, 57, 55, 61, 61, 55, 56, 61, 54, 62, 58…\n",
            "$ price   \u001b[3m\u001b[90m<int>\u001b[39m\u001b[23m 326, 326, 327, 334, 335, 336, 336, 337, 337, 338, 339, 340, 34…\n",
            "$ x       \u001b[3m\u001b[90m<dbl>\u001b[39m\u001b[23m 3.95, 3.89, 4.05, 4.20, 4.34, 3.94, 3.95, 4.07, 3.87, 4.00, 4.…\n",
            "$ y       \u001b[3m\u001b[90m<dbl>\u001b[39m\u001b[23m 3.98, 3.84, 4.07, 4.23, 4.35, 3.96, 3.98, 4.11, 3.78, 4.05, 4.…\n",
            "$ z       \u001b[3m\u001b[90m<dbl>\u001b[39m\u001b[23m 2.43, 2.31, 2.31, 2.63, 2.75, 2.48, 2.47, 2.53, 2.49, 2.39, 2.…\n"
          ]
        }
      ]
    },
    {
      "cell_type": "code",
      "source": [
        "diamonds%>%select(cut)%>%table()\n",
        "diamonds%>%select(cut, color)%>%table()"
      ],
      "metadata": {
        "colab": {
          "base_uri": "https://localhost:8080/",
          "height": 191
        },
        "id": "zgLOgekRv0k1",
        "outputId": "653b21f0-ee51-46b0-b2ae-1e626213f50a"
      },
      "execution_count": 30,
      "outputs": [
        {
          "output_type": "display_data",
          "data": {
            "text/plain": [
              "cut\n",
              "     Fair      Good Very Good   Premium     Ideal \n",
              "     1610      4906     12082     13791     21551 "
            ]
          },
          "metadata": {}
        },
        {
          "output_type": "display_data",
          "data": {
            "text/plain": [
              "           color\n",
              "cut            D    E    F    G    H    I    J\n",
              "  Fair       163  224  312  314  303  175  119\n",
              "  Good       662  933  909  871  702  522  307\n",
              "  Very Good 1513 2400 2164 2299 1824 1204  678\n",
              "  Premium   1603 2337 2331 2924 2360 1428  808\n",
              "  Ideal     2834 3903 3826 4884 3115 2093  896"
            ]
          },
          "metadata": {}
        }
      ]
    },
    {
      "cell_type": "code",
      "source": [
        "diamonds%>%filter(cut=='Ideal')%>%summarise(Avg_carat_idealCut= mean(carat))"
      ],
      "metadata": {
        "colab": {
          "base_uri": "https://localhost:8080/",
          "height": 129
        },
        "id": "tHi272MQxWmE",
        "outputId": "520eb88e-2a08-461f-cd51-571df4dcf05c"
      },
      "execution_count": 33,
      "outputs": [
        {
          "output_type": "display_data",
          "data": {
            "text/html": [
              "<table class=\"dataframe\">\n",
              "<caption>A tibble: 1 × 1</caption>\n",
              "<thead>\n",
              "\t<tr><th scope=col>Avg_carat_idealCut</th></tr>\n",
              "\t<tr><th scope=col>&lt;dbl&gt;</th></tr>\n",
              "</thead>\n",
              "<tbody>\n",
              "\t<tr><td>0.702837</td></tr>\n",
              "</tbody>\n",
              "</table>\n"
            ],
            "text/markdown": "\nA tibble: 1 × 1\n\n| Avg_carat_idealCut &lt;dbl&gt; |\n|---|\n| 0.702837 |\n\n",
            "text/latex": "A tibble: 1 × 1\n\\begin{tabular}{l}\n Avg\\_carat\\_idealCut\\\\\n <dbl>\\\\\n\\hline\n\t 0.702837\\\\\n\\end{tabular}\n",
            "text/plain": [
              "  Avg_carat_idealCut\n",
              "1 0.702837          "
            ]
          },
          "metadata": {}
        }
      ]
    },
    {
      "cell_type": "code",
      "source": [
        "aggregate(diamonds$price, list(diamonds$cut),mean)"
      ],
      "metadata": {
        "colab": {
          "base_uri": "https://localhost:8080/",
          "height": 255
        },
        "id": "xtKvcL-qxWyv",
        "outputId": "cce6f5e2-2fcb-42b1-db4c-7afdefd5799c"
      },
      "execution_count": 35,
      "outputs": [
        {
          "output_type": "display_data",
          "data": {
            "text/html": [
              "<table class=\"dataframe\">\n",
              "<caption>A data.frame: 5 × 2</caption>\n",
              "<thead>\n",
              "\t<tr><th scope=col>Group.1</th><th scope=col>x</th></tr>\n",
              "\t<tr><th scope=col>&lt;ord&gt;</th><th scope=col>&lt;dbl&gt;</th></tr>\n",
              "</thead>\n",
              "<tbody>\n",
              "\t<tr><td>Fair     </td><td>4358.758</td></tr>\n",
              "\t<tr><td>Good     </td><td>3928.864</td></tr>\n",
              "\t<tr><td>Very Good</td><td>3981.760</td></tr>\n",
              "\t<tr><td>Premium  </td><td>4584.258</td></tr>\n",
              "\t<tr><td>Ideal    </td><td>3457.542</td></tr>\n",
              "</tbody>\n",
              "</table>\n"
            ],
            "text/markdown": "\nA data.frame: 5 × 2\n\n| Group.1 &lt;ord&gt; | x &lt;dbl&gt; |\n|---|---|\n| Fair      | 4358.758 |\n| Good      | 3928.864 |\n| Very Good | 3981.760 |\n| Premium   | 4584.258 |\n| Ideal     | 3457.542 |\n\n",
            "text/latex": "A data.frame: 5 × 2\n\\begin{tabular}{ll}\n Group.1 & x\\\\\n <ord> & <dbl>\\\\\n\\hline\n\t Fair      & 4358.758\\\\\n\t Good      & 3928.864\\\\\n\t Very Good & 3981.760\\\\\n\t Premium   & 4584.258\\\\\n\t Ideal     & 3457.542\\\\\n\\end{tabular}\n",
            "text/plain": [
              "  Group.1   x       \n",
              "1 Fair      4358.758\n",
              "2 Good      3928.864\n",
              "3 Very Good 3981.760\n",
              "4 Premium   4584.258\n",
              "5 Ideal     3457.542"
            ]
          },
          "metadata": {}
        }
      ]
    },
    {
      "cell_type": "code",
      "source": [
        "diamonds%>%group_by(cut)%>%summarise(Avg_price= mean(price))"
      ],
      "metadata": {
        "colab": {
          "base_uri": "https://localhost:8080/",
          "height": 255
        },
        "id": "kuTFgOxZxXAS",
        "outputId": "8e30ecda-3307-44c8-b9e9-48280c421a2f"
      },
      "execution_count": 36,
      "outputs": [
        {
          "output_type": "display_data",
          "data": {
            "text/html": [
              "<table class=\"dataframe\">\n",
              "<caption>A tibble: 5 × 2</caption>\n",
              "<thead>\n",
              "\t<tr><th scope=col>cut</th><th scope=col>Avg_price</th></tr>\n",
              "\t<tr><th scope=col>&lt;ord&gt;</th><th scope=col>&lt;dbl&gt;</th></tr>\n",
              "</thead>\n",
              "<tbody>\n",
              "\t<tr><td>Fair     </td><td>4358.758</td></tr>\n",
              "\t<tr><td>Good     </td><td>3928.864</td></tr>\n",
              "\t<tr><td>Very Good</td><td>3981.760</td></tr>\n",
              "\t<tr><td>Premium  </td><td>4584.258</td></tr>\n",
              "\t<tr><td>Ideal    </td><td>3457.542</td></tr>\n",
              "</tbody>\n",
              "</table>\n"
            ],
            "text/markdown": "\nA tibble: 5 × 2\n\n| cut &lt;ord&gt; | Avg_price &lt;dbl&gt; |\n|---|---|\n| Fair      | 4358.758 |\n| Good      | 3928.864 |\n| Very Good | 3981.760 |\n| Premium   | 4584.258 |\n| Ideal     | 3457.542 |\n\n",
            "text/latex": "A tibble: 5 × 2\n\\begin{tabular}{ll}\n cut & Avg\\_price\\\\\n <ord> & <dbl>\\\\\n\\hline\n\t Fair      & 4358.758\\\\\n\t Good      & 3928.864\\\\\n\t Very Good & 3981.760\\\\\n\t Premium   & 4584.258\\\\\n\t Ideal     & 3457.542\\\\\n\\end{tabular}\n",
            "text/plain": [
              "  cut       Avg_price\n",
              "1 Fair      4358.758 \n",
              "2 Good      3928.864 \n",
              "3 Very Good 3981.760 \n",
              "4 Premium   4584.258 \n",
              "5 Ideal     3457.542 "
            ]
          },
          "metadata": {}
        }
      ]
    },
    {
      "cell_type": "code",
      "source": [
        "Diamonds1= diamonds%>%mutate(Area= x*y*z)\n",
        "glimpse(Diamonds1)"
      ],
      "metadata": {
        "colab": {
          "base_uri": "https://localhost:8080/"
        },
        "id": "UdfdiUqGzaq0",
        "outputId": "b4cb0aaa-c37f-4f83-d40f-86617308e248"
      },
      "execution_count": 38,
      "outputs": [
        {
          "output_type": "stream",
          "name": "stdout",
          "text": [
            "Rows: 53,940\n",
            "Columns: 11\n",
            "$ carat   \u001b[3m\u001b[90m<dbl>\u001b[39m\u001b[23m 0.23, 0.21, 0.23, 0.29, 0.31, 0.24, 0.24, 0.26, 0.22, 0.23, 0.…\n",
            "$ cut     \u001b[3m\u001b[90m<ord>\u001b[39m\u001b[23m Ideal, Premium, Good, Premium, Good, Very Good, Very Good, Ver…\n",
            "$ color   \u001b[3m\u001b[90m<ord>\u001b[39m\u001b[23m E, E, E, I, J, J, I, H, E, H, J, J, F, J, E, E, I, J, J, J, I,…\n",
            "$ clarity \u001b[3m\u001b[90m<ord>\u001b[39m\u001b[23m SI2, SI1, VS1, VS2, SI2, VVS2, VVS1, SI1, VS2, VS1, SI1, VS1, …\n",
            "$ depth   \u001b[3m\u001b[90m<dbl>\u001b[39m\u001b[23m 61.5, 59.8, 56.9, 62.4, 63.3, 62.8, 62.3, 61.9, 65.1, 59.4, 64…\n",
            "$ table   \u001b[3m\u001b[90m<dbl>\u001b[39m\u001b[23m 55, 61, 65, 58, 58, 57, 57, 55, 61, 61, 55, 56, 61, 54, 62, 58…\n",
            "$ price   \u001b[3m\u001b[90m<int>\u001b[39m\u001b[23m 326, 326, 327, 334, 335, 336, 336, 337, 337, 338, 339, 340, 34…\n",
            "$ x       \u001b[3m\u001b[90m<dbl>\u001b[39m\u001b[23m 3.95, 3.89, 4.05, 4.20, 4.34, 3.94, 3.95, 4.07, 3.87, 4.00, 4.…\n",
            "$ y       \u001b[3m\u001b[90m<dbl>\u001b[39m\u001b[23m 3.98, 3.84, 4.07, 4.23, 4.35, 3.96, 3.98, 4.11, 3.78, 4.05, 4.…\n",
            "$ z       \u001b[3m\u001b[90m<dbl>\u001b[39m\u001b[23m 2.43, 2.31, 2.31, 2.63, 2.75, 2.48, 2.47, 2.53, 2.49, 2.39, 2.…\n",
            "$ Area    \u001b[3m\u001b[90m<dbl>\u001b[39m\u001b[23m 38.20203, 34.50586, 38.07688, 46.72458, 51.91725, 38.69395, 38…\n"
          ]
        }
      ]
    }
  ]
}