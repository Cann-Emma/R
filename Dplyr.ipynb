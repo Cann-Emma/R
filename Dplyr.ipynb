{
  "nbformat": 4,
  "nbformat_minor": 0,
  "metadata": {
    "colab": {
      "provenance": [],
      "authorship_tag": "ABX9TyO+spv7DI68jOucacLvSjjw",
      "include_colab_link": true
    },
    "kernelspec": {
      "name": "ir",
      "display_name": "R"
    },
    "language_info": {
      "name": "R"
    }
  },
  "cells": [
    {
      "cell_type": "markdown",
      "metadata": {
        "id": "view-in-github",
        "colab_type": "text"
      },
      "source": [
        "<a href=\"https://colab.research.google.com/github/Cann-Emma/R/blob/main/Dplyr.ipynb\" target=\"_parent\"><img src=\"https://colab.research.google.com/assets/colab-badge.svg\" alt=\"Open In Colab\"/></a>"
      ]
    },
    {
      "cell_type": "markdown",
      "source": [
        "# DATA WRANGLING WITH DPLYR\n",
        "\n",
        "Summary: Renaming and adding variables; filtering,summarising, and joining datasets; creating frequency tables.\n"
      ],
      "metadata": {
        "id": "yticWspg0Mni"
      }
    },
    {
      "cell_type": "code",
      "execution_count": 4,
      "metadata": {
        "colab": {
          "base_uri": "https://localhost:8080/"
        },
        "id": "YEpGdXYBqisR",
        "outputId": "95ba10f4-6c34-49c6-e8c0-9ba0d54eb7ac"
      },
      "outputs": [
        {
          "output_type": "stream",
          "name": "stderr",
          "text": [
            "\n",
            "Attaching package: ‘dplyr’\n",
            "\n",
            "\n",
            "The following objects are masked from ‘package:stats’:\n",
            "\n",
            "    filter, lag\n",
            "\n",
            "\n",
            "The following objects are masked from ‘package:base’:\n",
            "\n",
            "    intersect, setdiff, setequal, union\n",
            "\n",
            "\n"
          ]
        }
      ],
      "source": [
        "TB= read.csv('who_dataset.csv')\n",
        "library(dplyr)"
      ]
    },
    {
      "cell_type": "code",
      "source": [
        "glimpse(TB)"
      ],
      "metadata": {
        "colab": {
          "base_uri": "https://localhost:8080/"
        },
        "id": "wslcnmecrHuv",
        "outputId": "5350a065-2bea-45d2-abde-70e6f4fc7329"
      },
      "execution_count": 5,
      "outputs": [
        {
          "output_type": "stream",
          "name": "stdout",
          "text": [
            "Rows: 76,046\n",
            "Columns: 6\n",
            "$ country \u001b[3m\u001b[90m<chr>\u001b[39m\u001b[23m \"Afghanistan\", \"Afghanistan\", \"Afghanistan\", \"Afghanistan\", \"A…\n",
            "$ year    \u001b[3m\u001b[90m<int>\u001b[39m\u001b[23m 1997, 1997, 1997, 1997, 1997, 1997, 1997, 1997, 1997, 1997, 19…\n",
            "$ var     \u001b[3m\u001b[90m<chr>\u001b[39m\u001b[23m \"sp\", \"sp\", \"sp\", \"sp\", \"sp\", \"sp\", \"sp\", \"sp\", \"sp\", \"sp\", \"s…\n",
            "$ sex     \u001b[3m\u001b[90m<chr>\u001b[39m\u001b[23m \"m\", \"m\", \"m\", \"m\", \"m\", \"m\", \"m\", \"f\", \"f\", \"f\", \"f\", \"f\", \"f…\n",
            "$ age     \u001b[3m\u001b[90m<int>\u001b[39m\u001b[23m 14, 1524, 2534, 3544, 4554, 5564, 65, 14, 1524, 2534, 3544, 45…\n",
            "$ cases   \u001b[3m\u001b[90m<int>\u001b[39m\u001b[23m 0, 10, 6, 3, 5, 2, 0, 5, 38, 36, 14, 8, 0, 1, 30, 129, 128, 90…\n"
          ]
        }
      ]
    },
    {
      "cell_type": "code",
      "source": [
        "TB1= TB%>%rename('age_group'= 'age', 'tb_type'= 'var')\n",
        "glimpse(TB1)"
      ],
      "metadata": {
        "colab": {
          "base_uri": "https://localhost:8080/"
        },
        "id": "1DNUPfx7q9u1",
        "outputId": "34f60aec-a61d-4e4b-95c1-4ce6408c842c"
      },
      "execution_count": 7,
      "outputs": [
        {
          "output_type": "stream",
          "name": "stdout",
          "text": [
            "Rows: 76,046\n",
            "Columns: 6\n",
            "$ country   \u001b[3m\u001b[90m<chr>\u001b[39m\u001b[23m \"Afghanistan\", \"Afghanistan\", \"Afghanistan\", \"Afghanistan\", …\n",
            "$ year      \u001b[3m\u001b[90m<int>\u001b[39m\u001b[23m 1997, 1997, 1997, 1997, 1997, 1997, 1997, 1997, 1997, 1997, …\n",
            "$ tb_type   \u001b[3m\u001b[90m<chr>\u001b[39m\u001b[23m \"sp\", \"sp\", \"sp\", \"sp\", \"sp\", \"sp\", \"sp\", \"sp\", \"sp\", \"sp\", …\n",
            "$ sex       \u001b[3m\u001b[90m<chr>\u001b[39m\u001b[23m \"m\", \"m\", \"m\", \"m\", \"m\", \"m\", \"m\", \"f\", \"f\", \"f\", \"f\", \"f\", …\n",
            "$ age_group \u001b[3m\u001b[90m<int>\u001b[39m\u001b[23m 14, 1524, 2534, 3544, 4554, 5564, 65, 14, 1524, 2534, 3544, …\n",
            "$ cases     \u001b[3m\u001b[90m<int>\u001b[39m\u001b[23m 0, 10, 6, 3, 5, 2, 0, 5, 38, 36, 14, 8, 0, 1, 30, 129, 128, …\n"
          ]
        }
      ]
    },
    {
      "cell_type": "code",
      "source": [
        "TB1$tb_type%>%table()"
      ],
      "metadata": {
        "colab": {
          "base_uri": "https://localhost:8080/",
          "height": 69
        },
        "id": "qaJ6ADU-q919",
        "outputId": "e89e22c4-cbb9-4818-d32d-561ee6b78bf4"
      },
      "execution_count": 9,
      "outputs": [
        {
          "output_type": "display_data",
          "data": {
            "text/plain": [
              ".\n",
              "   ep   rel    sn    sp \n",
              "14304  2580 14342 44820 "
            ]
          },
          "metadata": {}
        }
      ]
    },
    {
      "cell_type": "code",
      "source": [
        "TB1%>%select(sex, tb_type)%>%table()"
      ],
      "metadata": {
        "colab": {
          "base_uri": "https://localhost:8080/",
          "height": 86
        },
        "id": "v0CvpSLiq9_e",
        "outputId": "21970f4b-0b65-4f58-9ed9-8434b00c0af6"
      },
      "execution_count": 13,
      "outputs": [
        {
          "output_type": "display_data",
          "data": {
            "text/plain": [
              "   tb_type\n",
              "sex    ep   rel    sn    sp\n",
              "  f  7143  1290  7152 22363\n",
              "  m  7161  1290  7190 22457"
            ]
          },
          "metadata": {}
        }
      ]
    },
    {
      "cell_type": "code",
      "source": [
        "TB_US= TB1%>%filter(year==2013 & country=='United States of America')%>%arrange(-cases)\n",
        "head(TB_US)"
      ],
      "metadata": {
        "colab": {
          "base_uri": "https://localhost:8080/",
          "height": 286
        },
        "id": "OpQdWqDpq-CO",
        "outputId": "e7e73e67-f37d-4983-b8c7-61304af3b55a"
      },
      "execution_count": 24,
      "outputs": [
        {
          "output_type": "display_data",
          "data": {
            "text/html": [
              "<table class=\"dataframe\">\n",
              "<caption>A data.frame: 6 × 6</caption>\n",
              "<thead>\n",
              "\t<tr><th></th><th scope=col>country</th><th scope=col>year</th><th scope=col>tb_type</th><th scope=col>sex</th><th scope=col>age_group</th><th scope=col>cases</th></tr>\n",
              "\t<tr><th></th><th scope=col>&lt;chr&gt;</th><th scope=col>&lt;int&gt;</th><th scope=col>&lt;chr&gt;</th><th scope=col>&lt;chr&gt;</th><th scope=col>&lt;int&gt;</th><th scope=col>&lt;int&gt;</th></tr>\n",
              "</thead>\n",
              "<tbody>\n",
              "\t<tr><th scope=row>1</th><td>United States of America</td><td>2013</td><td>rel</td><td>m</td><td>  65</td><td>1259</td></tr>\n",
              "\t<tr><th scope=row>2</th><td>United States of America</td><td>2013</td><td>rel</td><td>m</td><td>4554</td><td> 937</td></tr>\n",
              "\t<tr><th scope=row>3</th><td>United States of America</td><td>2013</td><td>rel</td><td>m</td><td>5564</td><td> 926</td></tr>\n",
              "\t<tr><th scope=row>4</th><td>United States of America</td><td>2013</td><td>rel</td><td>m</td><td>2534</td><td> 829</td></tr>\n",
              "\t<tr><th scope=row>5</th><td>United States of America</td><td>2013</td><td>rel</td><td>m</td><td>3544</td><td> 793</td></tr>\n",
              "\t<tr><th scope=row>6</th><td>United States of America</td><td>2013</td><td>rel</td><td>f</td><td>  65</td><td> 786</td></tr>\n",
              "</tbody>\n",
              "</table>\n"
            ],
            "text/markdown": "\nA data.frame: 6 × 6\n\n| <!--/--> | country &lt;chr&gt; | year &lt;int&gt; | tb_type &lt;chr&gt; | sex &lt;chr&gt; | age_group &lt;int&gt; | cases &lt;int&gt; |\n|---|---|---|---|---|---|---|\n| 1 | United States of America | 2013 | rel | m |   65 | 1259 |\n| 2 | United States of America | 2013 | rel | m | 4554 |  937 |\n| 3 | United States of America | 2013 | rel | m | 5564 |  926 |\n| 4 | United States of America | 2013 | rel | m | 2534 |  829 |\n| 5 | United States of America | 2013 | rel | m | 3544 |  793 |\n| 6 | United States of America | 2013 | rel | f |   65 |  786 |\n\n",
            "text/latex": "A data.frame: 6 × 6\n\\begin{tabular}{r|llllll}\n  & country & year & tb\\_type & sex & age\\_group & cases\\\\\n  & <chr> & <int> & <chr> & <chr> & <int> & <int>\\\\\n\\hline\n\t1 & United States of America & 2013 & rel & m &   65 & 1259\\\\\n\t2 & United States of America & 2013 & rel & m & 4554 &  937\\\\\n\t3 & United States of America & 2013 & rel & m & 5564 &  926\\\\\n\t4 & United States of America & 2013 & rel & m & 2534 &  829\\\\\n\t5 & United States of America & 2013 & rel & m & 3544 &  793\\\\\n\t6 & United States of America & 2013 & rel & f &   65 &  786\\\\\n\\end{tabular}\n",
            "text/plain": [
              "  country                  year tb_type sex age_group cases\n",
              "1 United States of America 2013 rel     m     65      1259 \n",
              "2 United States of America 2013 rel     m   4554       937 \n",
              "3 United States of America 2013 rel     m   5564       926 \n",
              "4 United States of America 2013 rel     m   2534       829 \n",
              "5 United States of America 2013 rel     m   3544       793 \n",
              "6 United States of America 2013 rel     f     65       786 "
            ]
          },
          "metadata": {}
        }
      ]
    },
    {
      "cell_type": "code",
      "source": [
        "TB_GH= TB1%>%filter(country=='Ghana' & year== 2013)\n",
        "TB_GH%>%group_by(sex)%>%summarise(Sum= sum(cases))"
      ],
      "metadata": {
        "colab": {
          "base_uri": "https://localhost:8080/",
          "height": 161
        },
        "id": "DBI4aoAMq-Ei",
        "outputId": "7cb5b568-a688-4306-9bb9-d52c78fd55fa"
      },
      "execution_count": 26,
      "outputs": [
        {
          "output_type": "display_data",
          "data": {
            "text/html": [
              "<table class=\"dataframe\">\n",
              "<caption>A tibble: 2 × 2</caption>\n",
              "<thead>\n",
              "\t<tr><th scope=col>sex</th><th scope=col>Sum</th></tr>\n",
              "\t<tr><th scope=col>&lt;chr&gt;</th><th scope=col>&lt;int&gt;</th></tr>\n",
              "</thead>\n",
              "<tbody>\n",
              "\t<tr><td>f</td><td>5305</td></tr>\n",
              "\t<tr><td>m</td><td>9738</td></tr>\n",
              "</tbody>\n",
              "</table>\n"
            ],
            "text/markdown": "\nA tibble: 2 × 2\n\n| sex &lt;chr&gt; | Sum &lt;int&gt; |\n|---|---|\n| f | 5305 |\n| m | 9738 |\n\n",
            "text/latex": "A tibble: 2 × 2\n\\begin{tabular}{ll}\n sex & Sum\\\\\n <chr> & <int>\\\\\n\\hline\n\t f & 5305\\\\\n\t m & 9738\\\\\n\\end{tabular}\n",
            "text/plain": [
              "  sex Sum \n",
              "1 f   5305\n",
              "2 m   9738"
            ]
          },
          "metadata": {}
        }
      ]
    },
    {
      "cell_type": "code",
      "source": [
        "TB_GH"
      ],
      "metadata": {
        "colab": {
          "base_uri": "https://localhost:8080/",
          "height": 537
        },
        "id": "TkYeTWBVq-ID",
        "outputId": "40e4d10d-9ed6-4d4d-a413-f961265feaa3"
      },
      "execution_count": 20,
      "outputs": [
        {
          "output_type": "display_data",
          "data": {
            "text/html": [
              "<table class=\"dataframe\">\n",
              "<caption>A data.frame: 14 × 6</caption>\n",
              "<thead>\n",
              "\t<tr><th scope=col>country</th><th scope=col>year</th><th scope=col>tb_type</th><th scope=col>sex</th><th scope=col>age_group</th><th scope=col>cases</th></tr>\n",
              "\t<tr><th scope=col>&lt;chr&gt;</th><th scope=col>&lt;int&gt;</th><th scope=col>&lt;chr&gt;</th><th scope=col>&lt;chr&gt;</th><th scope=col>&lt;int&gt;</th><th scope=col>&lt;int&gt;</th></tr>\n",
              "</thead>\n",
              "<tbody>\n",
              "\t<tr><td>Ghana</td><td>2013</td><td>rel</td><td>m</td><td>  14</td><td> 420</td></tr>\n",
              "\t<tr><td>Ghana</td><td>2013</td><td>rel</td><td>m</td><td>1524</td><td> 937</td></tr>\n",
              "\t<tr><td>Ghana</td><td>2013</td><td>rel</td><td>m</td><td>2534</td><td>1871</td></tr>\n",
              "\t<tr><td>Ghana</td><td>2013</td><td>rel</td><td>m</td><td>3544</td><td>2401</td></tr>\n",
              "\t<tr><td>Ghana</td><td>2013</td><td>rel</td><td>m</td><td>4554</td><td>1901</td></tr>\n",
              "\t<tr><td>Ghana</td><td>2013</td><td>rel</td><td>m</td><td>5564</td><td>1128</td></tr>\n",
              "\t<tr><td>Ghana</td><td>2013</td><td>rel</td><td>m</td><td>  65</td><td>1080</td></tr>\n",
              "\t<tr><td>Ghana</td><td>2013</td><td>rel</td><td>f</td><td>  14</td><td> 363</td></tr>\n",
              "\t<tr><td>Ghana</td><td>2013</td><td>rel</td><td>f</td><td>1524</td><td> 753</td></tr>\n",
              "\t<tr><td>Ghana</td><td>2013</td><td>rel</td><td>f</td><td>2534</td><td>1170</td></tr>\n",
              "\t<tr><td>Ghana</td><td>2013</td><td>rel</td><td>f</td><td>3544</td><td>1089</td></tr>\n",
              "\t<tr><td>Ghana</td><td>2013</td><td>rel</td><td>f</td><td>4554</td><td> 793</td></tr>\n",
              "\t<tr><td>Ghana</td><td>2013</td><td>rel</td><td>f</td><td>5564</td><td> 463</td></tr>\n",
              "\t<tr><td>Ghana</td><td>2013</td><td>rel</td><td>f</td><td>  65</td><td> 674</td></tr>\n",
              "</tbody>\n",
              "</table>\n"
            ],
            "text/markdown": "\nA data.frame: 14 × 6\n\n| country &lt;chr&gt; | year &lt;int&gt; | tb_type &lt;chr&gt; | sex &lt;chr&gt; | age_group &lt;int&gt; | cases &lt;int&gt; |\n|---|---|---|---|---|---|\n| Ghana | 2013 | rel | m |   14 |  420 |\n| Ghana | 2013 | rel | m | 1524 |  937 |\n| Ghana | 2013 | rel | m | 2534 | 1871 |\n| Ghana | 2013 | rel | m | 3544 | 2401 |\n| Ghana | 2013 | rel | m | 4554 | 1901 |\n| Ghana | 2013 | rel | m | 5564 | 1128 |\n| Ghana | 2013 | rel | m |   65 | 1080 |\n| Ghana | 2013 | rel | f |   14 |  363 |\n| Ghana | 2013 | rel | f | 1524 |  753 |\n| Ghana | 2013 | rel | f | 2534 | 1170 |\n| Ghana | 2013 | rel | f | 3544 | 1089 |\n| Ghana | 2013 | rel | f | 4554 |  793 |\n| Ghana | 2013 | rel | f | 5564 |  463 |\n| Ghana | 2013 | rel | f |   65 |  674 |\n\n",
            "text/latex": "A data.frame: 14 × 6\n\\begin{tabular}{llllll}\n country & year & tb\\_type & sex & age\\_group & cases\\\\\n <chr> & <int> & <chr> & <chr> & <int> & <int>\\\\\n\\hline\n\t Ghana & 2013 & rel & m &   14 &  420\\\\\n\t Ghana & 2013 & rel & m & 1524 &  937\\\\\n\t Ghana & 2013 & rel & m & 2534 & 1871\\\\\n\t Ghana & 2013 & rel & m & 3544 & 2401\\\\\n\t Ghana & 2013 & rel & m & 4554 & 1901\\\\\n\t Ghana & 2013 & rel & m & 5564 & 1128\\\\\n\t Ghana & 2013 & rel & m &   65 & 1080\\\\\n\t Ghana & 2013 & rel & f &   14 &  363\\\\\n\t Ghana & 2013 & rel & f & 1524 &  753\\\\\n\t Ghana & 2013 & rel & f & 2534 & 1170\\\\\n\t Ghana & 2013 & rel & f & 3544 & 1089\\\\\n\t Ghana & 2013 & rel & f & 4554 &  793\\\\\n\t Ghana & 2013 & rel & f & 5564 &  463\\\\\n\t Ghana & 2013 & rel & f &   65 &  674\\\\\n\\end{tabular}\n",
            "text/plain": [
              "   country year tb_type sex age_group cases\n",
              "1  Ghana   2013 rel     m     14       420 \n",
              "2  Ghana   2013 rel     m   1524       937 \n",
              "3  Ghana   2013 rel     m   2534      1871 \n",
              "4  Ghana   2013 rel     m   3544      2401 \n",
              "5  Ghana   2013 rel     m   4554      1901 \n",
              "6  Ghana   2013 rel     m   5564      1128 \n",
              "7  Ghana   2013 rel     m     65      1080 \n",
              "8  Ghana   2013 rel     f     14       363 \n",
              "9  Ghana   2013 rel     f   1524       753 \n",
              "10 Ghana   2013 rel     f   2534      1170 \n",
              "11 Ghana   2013 rel     f   3544      1089 \n",
              "12 Ghana   2013 rel     f   4554       793 \n",
              "13 Ghana   2013 rel     f   5564       463 \n",
              "14 Ghana   2013 rel     f     65       674 "
            ]
          },
          "metadata": {}
        }
      ]
    },
    {
      "cell_type": "code",
      "source": [
        "library(ggplot2)\n",
        "glimpse(diamonds)"
      ],
      "metadata": {
        "colab": {
          "base_uri": "https://localhost:8080/"
        },
        "id": "02j_5nJ-vyB5",
        "outputId": "0bb47c84-e5f4-4603-933e-203d903087c5"
      },
      "execution_count": 28,
      "outputs": [
        {
          "output_type": "stream",
          "name": "stdout",
          "text": [
            "Rows: 53,940\n",
            "Columns: 10\n",
            "$ carat   \u001b[3m\u001b[90m<dbl>\u001b[39m\u001b[23m 0.23, 0.21, 0.23, 0.29, 0.31, 0.24, 0.24, 0.26, 0.22, 0.23, 0.…\n",
            "$ cut     \u001b[3m\u001b[90m<ord>\u001b[39m\u001b[23m Ideal, Premium, Good, Premium, Good, Very Good, Very Good, Ver…\n",
            "$ color   \u001b[3m\u001b[90m<ord>\u001b[39m\u001b[23m E, E, E, I, J, J, I, H, E, H, J, J, F, J, E, E, I, J, J, J, I,…\n",
            "$ clarity \u001b[3m\u001b[90m<ord>\u001b[39m\u001b[23m SI2, SI1, VS1, VS2, SI2, VVS2, VVS1, SI1, VS2, VS1, SI1, VS1, …\n",
            "$ depth   \u001b[3m\u001b[90m<dbl>\u001b[39m\u001b[23m 61.5, 59.8, 56.9, 62.4, 63.3, 62.8, 62.3, 61.9, 65.1, 59.4, 64…\n",
            "$ table   \u001b[3m\u001b[90m<dbl>\u001b[39m\u001b[23m 55, 61, 65, 58, 58, 57, 57, 55, 61, 61, 55, 56, 61, 54, 62, 58…\n",
            "$ price   \u001b[3m\u001b[90m<int>\u001b[39m\u001b[23m 326, 326, 327, 334, 335, 336, 336, 337, 337, 338, 339, 340, 34…\n",
            "$ x       \u001b[3m\u001b[90m<dbl>\u001b[39m\u001b[23m 3.95, 3.89, 4.05, 4.20, 4.34, 3.94, 3.95, 4.07, 3.87, 4.00, 4.…\n",
            "$ y       \u001b[3m\u001b[90m<dbl>\u001b[39m\u001b[23m 3.98, 3.84, 4.07, 4.23, 4.35, 3.96, 3.98, 4.11, 3.78, 4.05, 4.…\n",
            "$ z       \u001b[3m\u001b[90m<dbl>\u001b[39m\u001b[23m 2.43, 2.31, 2.31, 2.63, 2.75, 2.48, 2.47, 2.53, 2.49, 2.39, 2.…\n"
          ]
        }
      ]
    },
    {
      "cell_type": "code",
      "source": [
        "diamonds%>%select(cut)%>%table()\n",
        "diamonds%>%select(cut, color)%>%table()"
      ],
      "metadata": {
        "colab": {
          "base_uri": "https://localhost:8080/",
          "height": 191
        },
        "id": "zgLOgekRv0k1",
        "outputId": "653b21f0-ee51-46b0-b2ae-1e626213f50a"
      },
      "execution_count": 30,
      "outputs": [
        {
          "output_type": "display_data",
          "data": {
            "text/plain": [
              "cut\n",
              "     Fair      Good Very Good   Premium     Ideal \n",
              "     1610      4906     12082     13791     21551 "
            ]
          },
          "metadata": {}
        },
        {
          "output_type": "display_data",
          "data": {
            "text/plain": [
              "           color\n",
              "cut            D    E    F    G    H    I    J\n",
              "  Fair       163  224  312  314  303  175  119\n",
              "  Good       662  933  909  871  702  522  307\n",
              "  Very Good 1513 2400 2164 2299 1824 1204  678\n",
              "  Premium   1603 2337 2331 2924 2360 1428  808\n",
              "  Ideal     2834 3903 3826 4884 3115 2093  896"
            ]
          },
          "metadata": {}
        }
      ]
    },
    {
      "cell_type": "code",
      "source": [
        "diamonds%>%filter(cut=='Ideal')%>%summarise(Avg_carat_idealCut= mean(carat))"
      ],
      "metadata": {
        "colab": {
          "base_uri": "https://localhost:8080/",
          "height": 129
        },
        "id": "tHi272MQxWmE",
        "outputId": "520eb88e-2a08-461f-cd51-571df4dcf05c"
      },
      "execution_count": 33,
      "outputs": [
        {
          "output_type": "display_data",
          "data": {
            "text/html": [
              "<table class=\"dataframe\">\n",
              "<caption>A tibble: 1 × 1</caption>\n",
              "<thead>\n",
              "\t<tr><th scope=col>Avg_carat_idealCut</th></tr>\n",
              "\t<tr><th scope=col>&lt;dbl&gt;</th></tr>\n",
              "</thead>\n",
              "<tbody>\n",
              "\t<tr><td>0.702837</td></tr>\n",
              "</tbody>\n",
              "</table>\n"
            ],
            "text/markdown": "\nA tibble: 1 × 1\n\n| Avg_carat_idealCut &lt;dbl&gt; |\n|---|\n| 0.702837 |\n\n",
            "text/latex": "A tibble: 1 × 1\n\\begin{tabular}{l}\n Avg\\_carat\\_idealCut\\\\\n <dbl>\\\\\n\\hline\n\t 0.702837\\\\\n\\end{tabular}\n",
            "text/plain": [
              "  Avg_carat_idealCut\n",
              "1 0.702837          "
            ]
          },
          "metadata": {}
        }
      ]
    },
    {
      "cell_type": "code",
      "source": [
        "aggregate(diamonds$price, list(diamonds$cut),mean)"
      ],
      "metadata": {
        "colab": {
          "base_uri": "https://localhost:8080/",
          "height": 255
        },
        "id": "xtKvcL-qxWyv",
        "outputId": "cce6f5e2-2fcb-42b1-db4c-7afdefd5799c"
      },
      "execution_count": 35,
      "outputs": [
        {
          "output_type": "display_data",
          "data": {
            "text/html": [
              "<table class=\"dataframe\">\n",
              "<caption>A data.frame: 5 × 2</caption>\n",
              "<thead>\n",
              "\t<tr><th scope=col>Group.1</th><th scope=col>x</th></tr>\n",
              "\t<tr><th scope=col>&lt;ord&gt;</th><th scope=col>&lt;dbl&gt;</th></tr>\n",
              "</thead>\n",
              "<tbody>\n",
              "\t<tr><td>Fair     </td><td>4358.758</td></tr>\n",
              "\t<tr><td>Good     </td><td>3928.864</td></tr>\n",
              "\t<tr><td>Very Good</td><td>3981.760</td></tr>\n",
              "\t<tr><td>Premium  </td><td>4584.258</td></tr>\n",
              "\t<tr><td>Ideal    </td><td>3457.542</td></tr>\n",
              "</tbody>\n",
              "</table>\n"
            ],
            "text/markdown": "\nA data.frame: 5 × 2\n\n| Group.1 &lt;ord&gt; | x &lt;dbl&gt; |\n|---|---|\n| Fair      | 4358.758 |\n| Good      | 3928.864 |\n| Very Good | 3981.760 |\n| Premium   | 4584.258 |\n| Ideal     | 3457.542 |\n\n",
            "text/latex": "A data.frame: 5 × 2\n\\begin{tabular}{ll}\n Group.1 & x\\\\\n <ord> & <dbl>\\\\\n\\hline\n\t Fair      & 4358.758\\\\\n\t Good      & 3928.864\\\\\n\t Very Good & 3981.760\\\\\n\t Premium   & 4584.258\\\\\n\t Ideal     & 3457.542\\\\\n\\end{tabular}\n",
            "text/plain": [
              "  Group.1   x       \n",
              "1 Fair      4358.758\n",
              "2 Good      3928.864\n",
              "3 Very Good 3981.760\n",
              "4 Premium   4584.258\n",
              "5 Ideal     3457.542"
            ]
          },
          "metadata": {}
        }
      ]
    },
    {
      "cell_type": "code",
      "source": [
        "diamonds%>%group_by(cut)%>%summarise(Avg_price= mean(price))"
      ],
      "metadata": {
        "colab": {
          "base_uri": "https://localhost:8080/",
          "height": 255
        },
        "id": "kuTFgOxZxXAS",
        "outputId": "8e30ecda-3307-44c8-b9e9-48280c421a2f"
      },
      "execution_count": 36,
      "outputs": [
        {
          "output_type": "display_data",
          "data": {
            "text/html": [
              "<table class=\"dataframe\">\n",
              "<caption>A tibble: 5 × 2</caption>\n",
              "<thead>\n",
              "\t<tr><th scope=col>cut</th><th scope=col>Avg_price</th></tr>\n",
              "\t<tr><th scope=col>&lt;ord&gt;</th><th scope=col>&lt;dbl&gt;</th></tr>\n",
              "</thead>\n",
              "<tbody>\n",
              "\t<tr><td>Fair     </td><td>4358.758</td></tr>\n",
              "\t<tr><td>Good     </td><td>3928.864</td></tr>\n",
              "\t<tr><td>Very Good</td><td>3981.760</td></tr>\n",
              "\t<tr><td>Premium  </td><td>4584.258</td></tr>\n",
              "\t<tr><td>Ideal    </td><td>3457.542</td></tr>\n",
              "</tbody>\n",
              "</table>\n"
            ],
            "text/markdown": "\nA tibble: 5 × 2\n\n| cut &lt;ord&gt; | Avg_price &lt;dbl&gt; |\n|---|---|\n| Fair      | 4358.758 |\n| Good      | 3928.864 |\n| Very Good | 3981.760 |\n| Premium   | 4584.258 |\n| Ideal     | 3457.542 |\n\n",
            "text/latex": "A tibble: 5 × 2\n\\begin{tabular}{ll}\n cut & Avg\\_price\\\\\n <ord> & <dbl>\\\\\n\\hline\n\t Fair      & 4358.758\\\\\n\t Good      & 3928.864\\\\\n\t Very Good & 3981.760\\\\\n\t Premium   & 4584.258\\\\\n\t Ideal     & 3457.542\\\\\n\\end{tabular}\n",
            "text/plain": [
              "  cut       Avg_price\n",
              "1 Fair      4358.758 \n",
              "2 Good      3928.864 \n",
              "3 Very Good 3981.760 \n",
              "4 Premium   4584.258 \n",
              "5 Ideal     3457.542 "
            ]
          },
          "metadata": {}
        }
      ]
    },
    {
      "cell_type": "code",
      "source": [
        "Diamonds1= diamonds%>%mutate(Area= x*y*z)\n",
        "glimpse(Diamonds1)"
      ],
      "metadata": {
        "colab": {
          "base_uri": "https://localhost:8080/"
        },
        "id": "UdfdiUqGzaq0",
        "outputId": "b4cb0aaa-c37f-4f83-d40f-86617308e248"
      },
      "execution_count": 38,
      "outputs": [
        {
          "output_type": "stream",
          "name": "stdout",
          "text": [
            "Rows: 53,940\n",
            "Columns: 11\n",
            "$ carat   \u001b[3m\u001b[90m<dbl>\u001b[39m\u001b[23m 0.23, 0.21, 0.23, 0.29, 0.31, 0.24, 0.24, 0.26, 0.22, 0.23, 0.…\n",
            "$ cut     \u001b[3m\u001b[90m<ord>\u001b[39m\u001b[23m Ideal, Premium, Good, Premium, Good, Very Good, Very Good, Ver…\n",
            "$ color   \u001b[3m\u001b[90m<ord>\u001b[39m\u001b[23m E, E, E, I, J, J, I, H, E, H, J, J, F, J, E, E, I, J, J, J, I,…\n",
            "$ clarity \u001b[3m\u001b[90m<ord>\u001b[39m\u001b[23m SI2, SI1, VS1, VS2, SI2, VVS2, VVS1, SI1, VS2, VS1, SI1, VS1, …\n",
            "$ depth   \u001b[3m\u001b[90m<dbl>\u001b[39m\u001b[23m 61.5, 59.8, 56.9, 62.4, 63.3, 62.8, 62.3, 61.9, 65.1, 59.4, 64…\n",
            "$ table   \u001b[3m\u001b[90m<dbl>\u001b[39m\u001b[23m 55, 61, 65, 58, 58, 57, 57, 55, 61, 61, 55, 56, 61, 54, 62, 58…\n",
            "$ price   \u001b[3m\u001b[90m<int>\u001b[39m\u001b[23m 326, 326, 327, 334, 335, 336, 336, 337, 337, 338, 339, 340, 34…\n",
            "$ x       \u001b[3m\u001b[90m<dbl>\u001b[39m\u001b[23m 3.95, 3.89, 4.05, 4.20, 4.34, 3.94, 3.95, 4.07, 3.87, 4.00, 4.…\n",
            "$ y       \u001b[3m\u001b[90m<dbl>\u001b[39m\u001b[23m 3.98, 3.84, 4.07, 4.23, 4.35, 3.96, 3.98, 4.11, 3.78, 4.05, 4.…\n",
            "$ z       \u001b[3m\u001b[90m<dbl>\u001b[39m\u001b[23m 2.43, 2.31, 2.31, 2.63, 2.75, 2.48, 2.47, 2.53, 2.49, 2.39, 2.…\n",
            "$ Area    \u001b[3m\u001b[90m<dbl>\u001b[39m\u001b[23m 38.20203, 34.50586, 38.07688, 46.72458, 51.91725, 38.69395, 38…\n"
          ]
        }
      ]
    },
    {
      "cell_type": "code",
      "source": [
        "install.packages('nycflights13')\n",
        "library(nycflights13)"
      ],
      "metadata": {
        "colab": {
          "base_uri": "https://localhost:8080/"
        },
        "id": "GgCErhWJ1n0S",
        "outputId": "480389a6-c118-465a-c70d-201f8f6fcfa6"
      },
      "execution_count": 65,
      "outputs": [
        {
          "output_type": "stream",
          "name": "stderr",
          "text": [
            "Installing package into ‘/usr/local/lib/R/site-library’\n",
            "(as ‘lib’ is unspecified)\n",
            "\n"
          ]
        }
      ]
    },
    {
      "cell_type": "code",
      "source": [
        "head(weather)"
      ],
      "metadata": {
        "colab": {
          "base_uri": "https://localhost:8080/",
          "height": 286
        },
        "id": "VBq6P6NT1n-q",
        "outputId": "1bfa545a-fd78-4491-f7b9-a406fd9d09da"
      },
      "execution_count": 44,
      "outputs": [
        {
          "output_type": "display_data",
          "data": {
            "text/html": [
              "<table class=\"dataframe\">\n",
              "<caption>A tibble: 6 × 15</caption>\n",
              "<thead>\n",
              "\t<tr><th scope=col>origin</th><th scope=col>year</th><th scope=col>month</th><th scope=col>day</th><th scope=col>hour</th><th scope=col>temp</th><th scope=col>dewp</th><th scope=col>humid</th><th scope=col>wind_dir</th><th scope=col>wind_speed</th><th scope=col>wind_gust</th><th scope=col>precip</th><th scope=col>pressure</th><th scope=col>visib</th><th scope=col>time_hour</th></tr>\n",
              "\t<tr><th scope=col>&lt;chr&gt;</th><th scope=col>&lt;int&gt;</th><th scope=col>&lt;int&gt;</th><th scope=col>&lt;int&gt;</th><th scope=col>&lt;int&gt;</th><th scope=col>&lt;dbl&gt;</th><th scope=col>&lt;dbl&gt;</th><th scope=col>&lt;dbl&gt;</th><th scope=col>&lt;dbl&gt;</th><th scope=col>&lt;dbl&gt;</th><th scope=col>&lt;dbl&gt;</th><th scope=col>&lt;dbl&gt;</th><th scope=col>&lt;dbl&gt;</th><th scope=col>&lt;dbl&gt;</th><th scope=col>&lt;dttm&gt;</th></tr>\n",
              "</thead>\n",
              "<tbody>\n",
              "\t<tr><td>EWR</td><td>2013</td><td>1</td><td>1</td><td>1</td><td>39.02</td><td>26.06</td><td>59.37</td><td>270</td><td>10.35702</td><td>NA</td><td>0</td><td>1012.0</td><td>10</td><td>2013-01-01 01:00:00</td></tr>\n",
              "\t<tr><td>EWR</td><td>2013</td><td>1</td><td>1</td><td>2</td><td>39.02</td><td>26.96</td><td>61.63</td><td>250</td><td> 8.05546</td><td>NA</td><td>0</td><td>1012.3</td><td>10</td><td>2013-01-01 02:00:00</td></tr>\n",
              "\t<tr><td>EWR</td><td>2013</td><td>1</td><td>1</td><td>3</td><td>39.02</td><td>28.04</td><td>64.43</td><td>240</td><td>11.50780</td><td>NA</td><td>0</td><td>1012.5</td><td>10</td><td>2013-01-01 03:00:00</td></tr>\n",
              "\t<tr><td>EWR</td><td>2013</td><td>1</td><td>1</td><td>4</td><td>39.92</td><td>28.04</td><td>62.21</td><td>250</td><td>12.65858</td><td>NA</td><td>0</td><td>1012.2</td><td>10</td><td>2013-01-01 04:00:00</td></tr>\n",
              "\t<tr><td>EWR</td><td>2013</td><td>1</td><td>1</td><td>5</td><td>39.02</td><td>28.04</td><td>64.43</td><td>260</td><td>12.65858</td><td>NA</td><td>0</td><td>1011.9</td><td>10</td><td>2013-01-01 05:00:00</td></tr>\n",
              "\t<tr><td>EWR</td><td>2013</td><td>1</td><td>1</td><td>6</td><td>37.94</td><td>28.04</td><td>67.21</td><td>240</td><td>11.50780</td><td>NA</td><td>0</td><td>1012.4</td><td>10</td><td>2013-01-01 06:00:00</td></tr>\n",
              "</tbody>\n",
              "</table>\n"
            ],
            "text/markdown": "\nA tibble: 6 × 15\n\n| origin &lt;chr&gt; | year &lt;int&gt; | month &lt;int&gt; | day &lt;int&gt; | hour &lt;int&gt; | temp &lt;dbl&gt; | dewp &lt;dbl&gt; | humid &lt;dbl&gt; | wind_dir &lt;dbl&gt; | wind_speed &lt;dbl&gt; | wind_gust &lt;dbl&gt; | precip &lt;dbl&gt; | pressure &lt;dbl&gt; | visib &lt;dbl&gt; | time_hour &lt;dttm&gt; |\n|---|---|---|---|---|---|---|---|---|---|---|---|---|---|---|\n| EWR | 2013 | 1 | 1 | 1 | 39.02 | 26.06 | 59.37 | 270 | 10.35702 | NA | 0 | 1012.0 | 10 | 2013-01-01 01:00:00 |\n| EWR | 2013 | 1 | 1 | 2 | 39.02 | 26.96 | 61.63 | 250 |  8.05546 | NA | 0 | 1012.3 | 10 | 2013-01-01 02:00:00 |\n| EWR | 2013 | 1 | 1 | 3 | 39.02 | 28.04 | 64.43 | 240 | 11.50780 | NA | 0 | 1012.5 | 10 | 2013-01-01 03:00:00 |\n| EWR | 2013 | 1 | 1 | 4 | 39.92 | 28.04 | 62.21 | 250 | 12.65858 | NA | 0 | 1012.2 | 10 | 2013-01-01 04:00:00 |\n| EWR | 2013 | 1 | 1 | 5 | 39.02 | 28.04 | 64.43 | 260 | 12.65858 | NA | 0 | 1011.9 | 10 | 2013-01-01 05:00:00 |\n| EWR | 2013 | 1 | 1 | 6 | 37.94 | 28.04 | 67.21 | 240 | 11.50780 | NA | 0 | 1012.4 | 10 | 2013-01-01 06:00:00 |\n\n",
            "text/latex": "A tibble: 6 × 15\n\\begin{tabular}{lllllllllllllll}\n origin & year & month & day & hour & temp & dewp & humid & wind\\_dir & wind\\_speed & wind\\_gust & precip & pressure & visib & time\\_hour\\\\\n <chr> & <int> & <int> & <int> & <int> & <dbl> & <dbl> & <dbl> & <dbl> & <dbl> & <dbl> & <dbl> & <dbl> & <dbl> & <dttm>\\\\\n\\hline\n\t EWR & 2013 & 1 & 1 & 1 & 39.02 & 26.06 & 59.37 & 270 & 10.35702 & NA & 0 & 1012.0 & 10 & 2013-01-01 01:00:00\\\\\n\t EWR & 2013 & 1 & 1 & 2 & 39.02 & 26.96 & 61.63 & 250 &  8.05546 & NA & 0 & 1012.3 & 10 & 2013-01-01 02:00:00\\\\\n\t EWR & 2013 & 1 & 1 & 3 & 39.02 & 28.04 & 64.43 & 240 & 11.50780 & NA & 0 & 1012.5 & 10 & 2013-01-01 03:00:00\\\\\n\t EWR & 2013 & 1 & 1 & 4 & 39.92 & 28.04 & 62.21 & 250 & 12.65858 & NA & 0 & 1012.2 & 10 & 2013-01-01 04:00:00\\\\\n\t EWR & 2013 & 1 & 1 & 5 & 39.02 & 28.04 & 64.43 & 260 & 12.65858 & NA & 0 & 1011.9 & 10 & 2013-01-01 05:00:00\\\\\n\t EWR & 2013 & 1 & 1 & 6 & 37.94 & 28.04 & 67.21 & 240 & 11.50780 & NA & 0 & 1012.4 & 10 & 2013-01-01 06:00:00\\\\\n\\end{tabular}\n",
            "text/plain": [
              "  origin year month day hour temp  dewp  humid wind_dir wind_speed wind_gust\n",
              "1 EWR    2013 1     1   1    39.02 26.06 59.37 270      10.35702   NA       \n",
              "2 EWR    2013 1     1   2    39.02 26.96 61.63 250       8.05546   NA       \n",
              "3 EWR    2013 1     1   3    39.02 28.04 64.43 240      11.50780   NA       \n",
              "4 EWR    2013 1     1   4    39.92 28.04 62.21 250      12.65858   NA       \n",
              "5 EWR    2013 1     1   5    39.02 28.04 64.43 260      12.65858   NA       \n",
              "6 EWR    2013 1     1   6    37.94 28.04 67.21 240      11.50780   NA       \n",
              "  precip pressure visib time_hour          \n",
              "1 0      1012.0   10    2013-01-01 01:00:00\n",
              "2 0      1012.3   10    2013-01-01 02:00:00\n",
              "3 0      1012.5   10    2013-01-01 03:00:00\n",
              "4 0      1012.2   10    2013-01-01 04:00:00\n",
              "5 0      1011.9   10    2013-01-01 05:00:00\n",
              "6 0      1012.4   10    2013-01-01 06:00:00"
            ]
          },
          "metadata": {}
        }
      ]
    },
    {
      "cell_type": "code",
      "source": [
        "weather%>%group_by(month)%>%summarise(Avg_temp= round(mean(temp, na.rm=T),2), datapoints= n())"
      ],
      "metadata": {
        "colab": {
          "base_uri": "https://localhost:8080/",
          "height": 474
        },
        "id": "jakVldv91oCQ",
        "outputId": "dfd9d7e6-2590-4f8e-c5b0-2887c26f391a"
      },
      "execution_count": 50,
      "outputs": [
        {
          "output_type": "display_data",
          "data": {
            "text/html": [
              "<table class=\"dataframe\">\n",
              "<caption>A tibble: 12 × 3</caption>\n",
              "<thead>\n",
              "\t<tr><th scope=col>month</th><th scope=col>Avg_temp</th><th scope=col>datapoints</th></tr>\n",
              "\t<tr><th scope=col>&lt;int&gt;</th><th scope=col>&lt;dbl&gt;</th><th scope=col>&lt;int&gt;</th></tr>\n",
              "</thead>\n",
              "<tbody>\n",
              "\t<tr><td> 1</td><td>35.64</td><td>2226</td></tr>\n",
              "\t<tr><td> 2</td><td>34.27</td><td>2010</td></tr>\n",
              "\t<tr><td> 3</td><td>39.88</td><td>2227</td></tr>\n",
              "\t<tr><td> 4</td><td>51.75</td><td>2159</td></tr>\n",
              "\t<tr><td> 5</td><td>61.80</td><td>2232</td></tr>\n",
              "\t<tr><td> 6</td><td>72.18</td><td>2160</td></tr>\n",
              "\t<tr><td> 7</td><td>80.07</td><td>2228</td></tr>\n",
              "\t<tr><td> 8</td><td>74.47</td><td>2217</td></tr>\n",
              "\t<tr><td> 9</td><td>67.37</td><td>2159</td></tr>\n",
              "\t<tr><td>10</td><td>60.07</td><td>2212</td></tr>\n",
              "\t<tr><td>11</td><td>44.99</td><td>2141</td></tr>\n",
              "\t<tr><td>12</td><td>38.44</td><td>2144</td></tr>\n",
              "</tbody>\n",
              "</table>\n"
            ],
            "text/markdown": "\nA tibble: 12 × 3\n\n| month &lt;int&gt; | Avg_temp &lt;dbl&gt; | datapoints &lt;int&gt; |\n|---|---|---|\n|  1 | 35.64 | 2226 |\n|  2 | 34.27 | 2010 |\n|  3 | 39.88 | 2227 |\n|  4 | 51.75 | 2159 |\n|  5 | 61.80 | 2232 |\n|  6 | 72.18 | 2160 |\n|  7 | 80.07 | 2228 |\n|  8 | 74.47 | 2217 |\n|  9 | 67.37 | 2159 |\n| 10 | 60.07 | 2212 |\n| 11 | 44.99 | 2141 |\n| 12 | 38.44 | 2144 |\n\n",
            "text/latex": "A tibble: 12 × 3\n\\begin{tabular}{lll}\n month & Avg\\_temp & datapoints\\\\\n <int> & <dbl> & <int>\\\\\n\\hline\n\t  1 & 35.64 & 2226\\\\\n\t  2 & 34.27 & 2010\\\\\n\t  3 & 39.88 & 2227\\\\\n\t  4 & 51.75 & 2159\\\\\n\t  5 & 61.80 & 2232\\\\\n\t  6 & 72.18 & 2160\\\\\n\t  7 & 80.07 & 2228\\\\\n\t  8 & 74.47 & 2217\\\\\n\t  9 & 67.37 & 2159\\\\\n\t 10 & 60.07 & 2212\\\\\n\t 11 & 44.99 & 2141\\\\\n\t 12 & 38.44 & 2144\\\\\n\\end{tabular}\n",
            "text/plain": [
              "   month Avg_temp datapoints\n",
              "1   1    35.64    2226      \n",
              "2   2    34.27    2010      \n",
              "3   3    39.88    2227      \n",
              "4   4    51.75    2159      \n",
              "5   5    61.80    2232      \n",
              "6   6    72.18    2160      \n",
              "7   7    80.07    2228      \n",
              "8   8    74.47    2217      \n",
              "9   9    67.37    2159      \n",
              "10 10    60.07    2212      \n",
              "11 11    44.99    2141      \n",
              "12 12    38.44    2144      "
            ]
          },
          "metadata": {}
        }
      ]
    },
    {
      "cell_type": "code",
      "source": [
        "weather2= weather%>%mutate(temp_in_C= 5/9 * (temp-32))\n",
        "glimpse(weather2)"
      ],
      "metadata": {
        "colab": {
          "base_uri": "https://localhost:8080/"
        },
        "id": "VceP_3VU38I_",
        "outputId": "20159df9-7bbd-4adb-da37-3b7581b518d8"
      },
      "execution_count": 59,
      "outputs": [
        {
          "output_type": "stream",
          "name": "stdout",
          "text": [
            "Rows: 26,115\n",
            "Columns: 16\n",
            "$ origin     \u001b[3m\u001b[90m<chr>\u001b[39m\u001b[23m \"EWR\", \"EWR\", \"EWR\", \"EWR\", \"EWR\", \"EWR\", \"EWR\", \"EWR\", \"EW…\n",
            "$ year       \u001b[3m\u001b[90m<int>\u001b[39m\u001b[23m 2013, 2013, 2013, 2013, 2013, 2013, 2013, 2013, 2013, 2013,…\n",
            "$ month      \u001b[3m\u001b[90m<int>\u001b[39m\u001b[23m 1, 1, 1, 1, 1, 1, 1, 1, 1, 1, 1, 1, 1, 1, 1, 1, 1, 1, 1, 1,…\n",
            "$ day        \u001b[3m\u001b[90m<int>\u001b[39m\u001b[23m 1, 1, 1, 1, 1, 1, 1, 1, 1, 1, 1, 1, 1, 1, 1, 1, 1, 1, 1, 1,…\n",
            "$ hour       \u001b[3m\u001b[90m<int>\u001b[39m\u001b[23m 1, 2, 3, 4, 5, 6, 7, 8, 9, 10, 11, 13, 14, 15, 16, 17, 18, …\n",
            "$ temp       \u001b[3m\u001b[90m<dbl>\u001b[39m\u001b[23m 39.02, 39.02, 39.02, 39.92, 39.02, 37.94, 39.02, 39.92, 39.…\n",
            "$ dewp       \u001b[3m\u001b[90m<dbl>\u001b[39m\u001b[23m 26.06, 26.96, 28.04, 28.04, 28.04, 28.04, 28.04, 28.04, 28.…\n",
            "$ humid      \u001b[3m\u001b[90m<dbl>\u001b[39m\u001b[23m 59.37, 61.63, 64.43, 62.21, 64.43, 67.21, 64.43, 62.21, 62.…\n",
            "$ wind_dir   \u001b[3m\u001b[90m<dbl>\u001b[39m\u001b[23m 270, 250, 240, 250, 260, 240, 240, 250, 260, 260, 260, 330,…\n",
            "$ wind_speed \u001b[3m\u001b[90m<dbl>\u001b[39m\u001b[23m 10.35702, 8.05546, 11.50780, 12.65858, 12.65858, 11.50780, …\n",
            "$ wind_gust  \u001b[3m\u001b[90m<dbl>\u001b[39m\u001b[23m NA, NA, NA, NA, NA, NA, NA, NA, NA, NA, NA, NA, NA, NA, 20.…\n",
            "$ precip     \u001b[3m\u001b[90m<dbl>\u001b[39m\u001b[23m 0, 0, 0, 0, 0, 0, 0, 0, 0, 0, 0, 0, 0, 0, 0, 0, 0, 0, 0, 0,…\n",
            "$ pressure   \u001b[3m\u001b[90m<dbl>\u001b[39m\u001b[23m 1012.0, 1012.3, 1012.5, 1012.2, 1011.9, 1012.4, 1012.2, 101…\n",
            "$ visib      \u001b[3m\u001b[90m<dbl>\u001b[39m\u001b[23m 10, 10, 10, 10, 10, 10, 10, 10, 10, 10, 10, 10, 10, 10, 10,…\n",
            "$ time_hour  \u001b[3m\u001b[90m<dttm>\u001b[39m\u001b[23m 2013-01-01 01:00:00, 2013-01-01 02:00:00, 2013-01-01 03:00…\n",
            "$ temp_in_C  \u001b[3m\u001b[90m<dbl>\u001b[39m\u001b[23m 3.9, 3.9, 3.9, 4.4, 3.9, 3.3, 3.9, 4.4, 4.4, 5.0, 5.0, 4.0,…\n"
          ]
        }
      ]
    },
    {
      "cell_type": "code",
      "source": [
        "head(nycflights13::flights, 2)"
      ],
      "metadata": {
        "colab": {
          "base_uri": "https://localhost:8080/",
          "height": 195
        },
        "id": "T0oxyCP21oJp",
        "outputId": "3da0f607-fbe9-4ed9-8b01-a7b963e4720e"
      },
      "execution_count": 61,
      "outputs": [
        {
          "output_type": "display_data",
          "data": {
            "text/html": [
              "<table class=\"dataframe\">\n",
              "<caption>A tibble: 2 × 19</caption>\n",
              "<thead>\n",
              "\t<tr><th scope=col>year</th><th scope=col>month</th><th scope=col>day</th><th scope=col>dep_time</th><th scope=col>sched_dep_time</th><th scope=col>dep_delay</th><th scope=col>arr_time</th><th scope=col>sched_arr_time</th><th scope=col>arr_delay</th><th scope=col>carrier</th><th scope=col>flight</th><th scope=col>tailnum</th><th scope=col>origin</th><th scope=col>dest</th><th scope=col>air_time</th><th scope=col>distance</th><th scope=col>hour</th><th scope=col>minute</th><th scope=col>time_hour</th></tr>\n",
              "\t<tr><th scope=col>&lt;int&gt;</th><th scope=col>&lt;int&gt;</th><th scope=col>&lt;int&gt;</th><th scope=col>&lt;int&gt;</th><th scope=col>&lt;int&gt;</th><th scope=col>&lt;dbl&gt;</th><th scope=col>&lt;int&gt;</th><th scope=col>&lt;int&gt;</th><th scope=col>&lt;dbl&gt;</th><th scope=col>&lt;chr&gt;</th><th scope=col>&lt;int&gt;</th><th scope=col>&lt;chr&gt;</th><th scope=col>&lt;chr&gt;</th><th scope=col>&lt;chr&gt;</th><th scope=col>&lt;dbl&gt;</th><th scope=col>&lt;dbl&gt;</th><th scope=col>&lt;dbl&gt;</th><th scope=col>&lt;dbl&gt;</th><th scope=col>&lt;dttm&gt;</th></tr>\n",
              "</thead>\n",
              "<tbody>\n",
              "\t<tr><td>2013</td><td>1</td><td>1</td><td>517</td><td>515</td><td>2</td><td>830</td><td>819</td><td>11</td><td>UA</td><td>1545</td><td>N14228</td><td>EWR</td><td>IAH</td><td>227</td><td>1400</td><td>5</td><td>15</td><td>2013-01-01 05:00:00</td></tr>\n",
              "\t<tr><td>2013</td><td>1</td><td>1</td><td>533</td><td>529</td><td>4</td><td>850</td><td>830</td><td>20</td><td>UA</td><td>1714</td><td>N24211</td><td>LGA</td><td>IAH</td><td>227</td><td>1416</td><td>5</td><td>29</td><td>2013-01-01 05:00:00</td></tr>\n",
              "</tbody>\n",
              "</table>\n"
            ],
            "text/markdown": "\nA tibble: 2 × 19\n\n| year &lt;int&gt; | month &lt;int&gt; | day &lt;int&gt; | dep_time &lt;int&gt; | sched_dep_time &lt;int&gt; | dep_delay &lt;dbl&gt; | arr_time &lt;int&gt; | sched_arr_time &lt;int&gt; | arr_delay &lt;dbl&gt; | carrier &lt;chr&gt; | flight &lt;int&gt; | tailnum &lt;chr&gt; | origin &lt;chr&gt; | dest &lt;chr&gt; | air_time &lt;dbl&gt; | distance &lt;dbl&gt; | hour &lt;dbl&gt; | minute &lt;dbl&gt; | time_hour &lt;dttm&gt; |\n|---|---|---|---|---|---|---|---|---|---|---|---|---|---|---|---|---|---|---|\n| 2013 | 1 | 1 | 517 | 515 | 2 | 830 | 819 | 11 | UA | 1545 | N14228 | EWR | IAH | 227 | 1400 | 5 | 15 | 2013-01-01 05:00:00 |\n| 2013 | 1 | 1 | 533 | 529 | 4 | 850 | 830 | 20 | UA | 1714 | N24211 | LGA | IAH | 227 | 1416 | 5 | 29 | 2013-01-01 05:00:00 |\n\n",
            "text/latex": "A tibble: 2 × 19\n\\begin{tabular}{lllllllllllllllllll}\n year & month & day & dep\\_time & sched\\_dep\\_time & dep\\_delay & arr\\_time & sched\\_arr\\_time & arr\\_delay & carrier & flight & tailnum & origin & dest & air\\_time & distance & hour & minute & time\\_hour\\\\\n <int> & <int> & <int> & <int> & <int> & <dbl> & <int> & <int> & <dbl> & <chr> & <int> & <chr> & <chr> & <chr> & <dbl> & <dbl> & <dbl> & <dbl> & <dttm>\\\\\n\\hline\n\t 2013 & 1 & 1 & 517 & 515 & 2 & 830 & 819 & 11 & UA & 1545 & N14228 & EWR & IAH & 227 & 1400 & 5 & 15 & 2013-01-01 05:00:00\\\\\n\t 2013 & 1 & 1 & 533 & 529 & 4 & 850 & 830 & 20 & UA & 1714 & N24211 & LGA & IAH & 227 & 1416 & 5 & 29 & 2013-01-01 05:00:00\\\\\n\\end{tabular}\n",
            "text/plain": [
              "  year month day dep_time sched_dep_time dep_delay arr_time sched_arr_time\n",
              "1 2013 1     1   517      515            2         830      819           \n",
              "2 2013 1     1   533      529            4         850      830           \n",
              "  arr_delay carrier flight tailnum origin dest air_time distance hour minute\n",
              "1 11        UA      1545   N14228  EWR    IAH  227      1400     5    15    \n",
              "2 20        UA      1714   N24211  LGA    IAH  227      1416     5    29    \n",
              "  time_hour          \n",
              "1 2013-01-01 05:00:00\n",
              "2 2013-01-01 05:00:00"
            ]
          },
          "metadata": {}
        }
      ]
    },
    {
      "cell_type": "code",
      "source": [
        "head(nycflights13::airlines,2)"
      ],
      "metadata": {
        "colab": {
          "base_uri": "https://localhost:8080/",
          "height": 161
        },
        "id": "0hPFb-Le1oNO",
        "outputId": "4a8723a2-1416-4f6c-ceac-3d358b76ac90"
      },
      "execution_count": 62,
      "outputs": [
        {
          "output_type": "display_data",
          "data": {
            "text/html": [
              "<table class=\"dataframe\">\n",
              "<caption>A tibble: 2 × 2</caption>\n",
              "<thead>\n",
              "\t<tr><th scope=col>carrier</th><th scope=col>name</th></tr>\n",
              "\t<tr><th scope=col>&lt;chr&gt;</th><th scope=col>&lt;chr&gt;</th></tr>\n",
              "</thead>\n",
              "<tbody>\n",
              "\t<tr><td>9E</td><td>Endeavor Air Inc.     </td></tr>\n",
              "\t<tr><td>AA</td><td>American Airlines Inc.</td></tr>\n",
              "</tbody>\n",
              "</table>\n"
            ],
            "text/markdown": "\nA tibble: 2 × 2\n\n| carrier &lt;chr&gt; | name &lt;chr&gt; |\n|---|---|\n| 9E | Endeavor Air Inc.      |\n| AA | American Airlines Inc. |\n\n",
            "text/latex": "A tibble: 2 × 2\n\\begin{tabular}{ll}\n carrier & name\\\\\n <chr> & <chr>\\\\\n\\hline\n\t 9E & Endeavor Air Inc.     \\\\\n\t AA & American Airlines Inc.\\\\\n\\end{tabular}\n",
            "text/plain": [
              "  carrier name                  \n",
              "1 9E      Endeavor Air Inc.     \n",
              "2 AA      American Airlines Inc."
            ]
          },
          "metadata": {}
        }
      ]
    },
    {
      "cell_type": "code",
      "source": [
        "flights%>%full_join(airlines, by= 'carrier')%>%group_by(carrier)%>%summarise(Avg_delay= round(mean(dep_delay, na.rm=T),1))%>%arrange(-Avg_delay)%>%full_join(airlines, by= 'carrier')"
      ],
      "metadata": {
        "colab": {
          "base_uri": "https://localhost:8080/",
          "height": 599
        },
        "id": "5O2KCFd3-kdG",
        "outputId": "2bbc66e2-a4fe-4cdd-97e5-cbdbbf410991"
      },
      "execution_count": 75,
      "outputs": [
        {
          "output_type": "display_data",
          "data": {
            "text/html": [
              "<table class=\"dataframe\">\n",
              "<caption>A tibble: 16 × 3</caption>\n",
              "<thead>\n",
              "\t<tr><th scope=col>carrier</th><th scope=col>Avg_delay</th><th scope=col>name</th></tr>\n",
              "\t<tr><th scope=col>&lt;chr&gt;</th><th scope=col>&lt;dbl&gt;</th><th scope=col>&lt;chr&gt;</th></tr>\n",
              "</thead>\n",
              "<tbody>\n",
              "\t<tr><td>F9</td><td>20.2</td><td>Frontier Airlines Inc.     </td></tr>\n",
              "\t<tr><td>EV</td><td>20.0</td><td>ExpressJet Airlines Inc.   </td></tr>\n",
              "\t<tr><td>YV</td><td>19.0</td><td>Mesa Airlines Inc.         </td></tr>\n",
              "\t<tr><td>FL</td><td>18.7</td><td>AirTran Airways Corporation</td></tr>\n",
              "\t<tr><td>WN</td><td>17.7</td><td>Southwest Airlines Co.     </td></tr>\n",
              "\t<tr><td>9E</td><td>16.7</td><td>Endeavor Air Inc.          </td></tr>\n",
              "\t<tr><td>B6</td><td>13.0</td><td>JetBlue Airways            </td></tr>\n",
              "\t<tr><td>VX</td><td>12.9</td><td>Virgin America             </td></tr>\n",
              "\t<tr><td>OO</td><td>12.6</td><td>SkyWest Airlines Inc.      </td></tr>\n",
              "\t<tr><td>UA</td><td>12.1</td><td>United Air Lines Inc.      </td></tr>\n",
              "\t<tr><td>MQ</td><td>10.6</td><td>Envoy Air                  </td></tr>\n",
              "\t<tr><td>DL</td><td> 9.3</td><td>Delta Air Lines Inc.       </td></tr>\n",
              "\t<tr><td>AA</td><td> 8.6</td><td>American Airlines Inc.     </td></tr>\n",
              "\t<tr><td>AS</td><td> 5.8</td><td>Alaska Airlines Inc.       </td></tr>\n",
              "\t<tr><td>HA</td><td> 4.9</td><td>Hawaiian Airlines Inc.     </td></tr>\n",
              "\t<tr><td>US</td><td> 3.8</td><td>US Airways Inc.            </td></tr>\n",
              "</tbody>\n",
              "</table>\n"
            ],
            "text/markdown": "\nA tibble: 16 × 3\n\n| carrier &lt;chr&gt; | Avg_delay &lt;dbl&gt; | name &lt;chr&gt; |\n|---|---|---|\n| F9 | 20.2 | Frontier Airlines Inc.      |\n| EV | 20.0 | ExpressJet Airlines Inc.    |\n| YV | 19.0 | Mesa Airlines Inc.          |\n| FL | 18.7 | AirTran Airways Corporation |\n| WN | 17.7 | Southwest Airlines Co.      |\n| 9E | 16.7 | Endeavor Air Inc.           |\n| B6 | 13.0 | JetBlue Airways             |\n| VX | 12.9 | Virgin America              |\n| OO | 12.6 | SkyWest Airlines Inc.       |\n| UA | 12.1 | United Air Lines Inc.       |\n| MQ | 10.6 | Envoy Air                   |\n| DL |  9.3 | Delta Air Lines Inc.        |\n| AA |  8.6 | American Airlines Inc.      |\n| AS |  5.8 | Alaska Airlines Inc.        |\n| HA |  4.9 | Hawaiian Airlines Inc.      |\n| US |  3.8 | US Airways Inc.             |\n\n",
            "text/latex": "A tibble: 16 × 3\n\\begin{tabular}{lll}\n carrier & Avg\\_delay & name\\\\\n <chr> & <dbl> & <chr>\\\\\n\\hline\n\t F9 & 20.2 & Frontier Airlines Inc.     \\\\\n\t EV & 20.0 & ExpressJet Airlines Inc.   \\\\\n\t YV & 19.0 & Mesa Airlines Inc.         \\\\\n\t FL & 18.7 & AirTran Airways Corporation\\\\\n\t WN & 17.7 & Southwest Airlines Co.     \\\\\n\t 9E & 16.7 & Endeavor Air Inc.          \\\\\n\t B6 & 13.0 & JetBlue Airways            \\\\\n\t VX & 12.9 & Virgin America             \\\\\n\t OO & 12.6 & SkyWest Airlines Inc.      \\\\\n\t UA & 12.1 & United Air Lines Inc.      \\\\\n\t MQ & 10.6 & Envoy Air                  \\\\\n\t DL &  9.3 & Delta Air Lines Inc.       \\\\\n\t AA &  8.6 & American Airlines Inc.     \\\\\n\t AS &  5.8 & Alaska Airlines Inc.       \\\\\n\t HA &  4.9 & Hawaiian Airlines Inc.     \\\\\n\t US &  3.8 & US Airways Inc.            \\\\\n\\end{tabular}\n",
            "text/plain": [
              "   carrier Avg_delay name                       \n",
              "1  F9      20.2      Frontier Airlines Inc.     \n",
              "2  EV      20.0      ExpressJet Airlines Inc.   \n",
              "3  YV      19.0      Mesa Airlines Inc.         \n",
              "4  FL      18.7      AirTran Airways Corporation\n",
              "5  WN      17.7      Southwest Airlines Co.     \n",
              "6  9E      16.7      Endeavor Air Inc.          \n",
              "7  B6      13.0      JetBlue Airways            \n",
              "8  VX      12.9      Virgin America             \n",
              "9  OO      12.6      SkyWest Airlines Inc.      \n",
              "10 UA      12.1      United Air Lines Inc.      \n",
              "11 MQ      10.6      Envoy Air                  \n",
              "12 DL       9.3      Delta Air Lines Inc.       \n",
              "13 AA       8.6      American Airlines Inc.     \n",
              "14 AS       5.8      Alaska Airlines Inc.       \n",
              "15 HA       4.9      Hawaiian Airlines Inc.     \n",
              "16 US       3.8      US Airways Inc.            "
            ]
          },
          "metadata": {}
        }
      ]
    }
  ]
}