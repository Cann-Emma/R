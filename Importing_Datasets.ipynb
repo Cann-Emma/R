{
  "nbformat": 4,
  "nbformat_minor": 0,
  "metadata": {
    "colab": {
      "provenance": [],
      "authorship_tag": "ABX9TyMwwJuAh6FVqfd3TmvQNgG7",
      "include_colab_link": true
    },
    "kernelspec": {
      "name": "ir",
      "display_name": "R"
    },
    "language_info": {
      "name": "R"
    }
  },
  "cells": [
    {
      "cell_type": "markdown",
      "metadata": {
        "id": "view-in-github",
        "colab_type": "text"
      },
      "source": [
        "<a href=\"https://colab.research.google.com/github/Cann-Emma/R/blob/main/Importing_Datasets.ipynb\" target=\"_parent\"><img src=\"https://colab.research.google.com/assets/colab-badge.svg\" alt=\"Open In Colab\"/></a>"
      ]
    },
    {
      "cell_type": "markdown",
      "source": [
        "# IMPORTING AND EXPORTING DATASETS"
      ],
      "metadata": {
        "id": "qBWHb0zG-nHR"
      }
    },
    {
      "cell_type": "code",
      "execution_count": 3,
      "metadata": {
        "id": "LQY6jDZO3nJm"
      },
      "outputs": [],
      "source": [
        "# Importing nba dataset\n",
        "nba= read.csv('nba.csv')"
      ]
    },
    {
      "cell_type": "code",
      "source": [
        "# Creating a frequency table and finding maximums\n",
        "table(nba$TEAM)\n",
        "max(nba$PTS)"
      ],
      "metadata": {
        "colab": {
          "base_uri": "https://localhost:8080/",
          "height": 121
        },
        "id": "JCTepPdN4WQV",
        "outputId": "8d08239a-037c-40c3-a956-99da573d0845"
      },
      "execution_count": 9,
      "outputs": [
        {
          "output_type": "display_data",
          "data": {
            "text/plain": [
              "\n",
              "ATL BKN BOS CHA CHI CLE DAL DEN DET GSW HOU IND LAC LAL MEM MIA MIL MIN NOP NYK \n",
              " 82  82  82  82  82  82  82  82  82  82  82  82  82  82  82  82  82  82  82  82 \n",
              "OKC ORL PHI PHX POR SAC SAS TOR UTA WAS \n",
              " 82  82  82  82  82  82  82  82  82  82 "
            ]
          },
          "metadata": {}
        },
        {
          "output_type": "display_data",
          "data": {
            "text/html": [
              "149"
            ],
            "text/markdown": "149",
            "text/latex": "149",
            "text/plain": [
              "[1] 149"
            ]
          },
          "metadata": {}
        }
      ]
    },
    {
      "cell_type": "code",
      "source": [
        "# Packages in R\n",
        "install.packages('nycflights13')\n",
        "library(nycflights13)"
      ],
      "metadata": {
        "colab": {
          "base_uri": "https://localhost:8080/"
        },
        "id": "nStn9o7U48X9",
        "outputId": "ff06b566-ffef-4f70-fde2-1c7cb0f72131"
      },
      "execution_count": 10,
      "outputs": [
        {
          "output_type": "stream",
          "name": "stderr",
          "text": [
            "Installing package into ‘/usr/local/lib/R/site-library’\n",
            "(as ‘lib’ is unspecified)\n",
            "\n"
          ]
        }
      ]
    },
    {
      "cell_type": "code",
      "source": [
        "# Finding the type/class of a variable, removing null values\n",
        "class(nycflights13::flights$dep_delay)\n",
        "round(mean(flights$dep_delay, na.rm = TRUE), 2)"
      ],
      "metadata": {
        "colab": {
          "base_uri": "https://localhost:8080/",
          "height": 52
        },
        "id": "2e4CWPRJ5mha",
        "outputId": "f0f5518f-4fa7-4245-d94c-10d58ae4d36b"
      },
      "execution_count": 15,
      "outputs": [
        {
          "output_type": "display_data",
          "data": {
            "text/html": [
              "'numeric'"
            ],
            "text/markdown": "'numeric'",
            "text/latex": "'numeric'",
            "text/plain": [
              "[1] \"numeric\""
            ]
          },
          "metadata": {}
        },
        {
          "output_type": "display_data",
          "data": {
            "text/html": [
              "12.64"
            ],
            "text/markdown": "12.64",
            "text/latex": "12.64",
            "text/plain": [
              "[1] 12.64"
            ]
          },
          "metadata": {}
        }
      ]
    },
    {
      "cell_type": "code",
      "source": [
        "# Contigency Table\n",
        "table(flights$origin, flights$carrier)"
      ],
      "metadata": {
        "colab": {
          "base_uri": "https://localhost:8080/",
          "height": 191
        },
        "id": "70iZj5dO5mqU",
        "outputId": "b7fdfcb6-69d3-47ba-99cf-ba610942d374"
      },
      "execution_count": 16,
      "outputs": [
        {
          "output_type": "display_data",
          "data": {
            "text/plain": [
              "     \n",
              "         9E    AA    AS    B6    DL    EV    F9    FL    HA    MQ    OO    UA\n",
              "  EWR  1268  3487   714  6557  4342 43939     0     0     0  2276     6 46087\n",
              "  JFK 14651 13783     0 42076 20701  1408     0     0   342  7193     0  4534\n",
              "  LGA  2541 15459     0  6002 23067  8826   685  3260     0 16928    26  8044\n",
              "     \n",
              "         US    VX    WN    YV\n",
              "  EWR  4405  1566  6188     0\n",
              "  JFK  2995  3596     0     0\n",
              "  LGA 13136     0  6087   601"
            ]
          },
          "metadata": {}
        }
      ]
    },
    {
      "cell_type": "markdown",
      "source": [
        "# REPETITIONS AND SEQUENCES"
      ],
      "metadata": {
        "id": "RPVZEvH7_lN8"
      }
    },
    {
      "cell_type": "code",
      "source": [
        "rep('Q1', 4)"
      ],
      "metadata": {
        "colab": {
          "base_uri": "https://localhost:8080/",
          "height": 34
        },
        "id": "pQ1CDA4R5mut",
        "outputId": "83b91f09-5878-4eed-9ded-00fd76e7f437"
      },
      "execution_count": 17,
      "outputs": [
        {
          "output_type": "display_data",
          "data": {
            "text/html": [
              "<style>\n",
              ".list-inline {list-style: none; margin:0; padding: 0}\n",
              ".list-inline>li {display: inline-block}\n",
              ".list-inline>li:not(:last-child)::after {content: \"\\00b7\"; padding: 0 .5ex}\n",
              "</style>\n",
              "<ol class=list-inline><li>'Q1'</li><li>'Q1'</li><li>'Q1'</li><li>'Q1'</li></ol>\n"
            ],
            "text/markdown": "1. 'Q1'\n2. 'Q1'\n3. 'Q1'\n4. 'Q1'\n\n\n",
            "text/latex": "\\begin{enumerate*}\n\\item 'Q1'\n\\item 'Q1'\n\\item 'Q1'\n\\item 'Q1'\n\\end{enumerate*}\n",
            "text/plain": [
              "[1] \"Q1\" \"Q1\" \"Q1\" \"Q1\""
            ]
          },
          "metadata": {}
        }
      ]
    },
    {
      "cell_type": "code",
      "source": [
        "rep(c(2010, 2011, 2012, 2013, 2014, 2015, 2017), c(4,4,4,4,4,4,4))"
      ],
      "metadata": {
        "colab": {
          "base_uri": "https://localhost:8080/",
          "height": 52
        },
        "id": "mblSTqmf5m2f",
        "outputId": "f20cc4cc-d670-4630-8b2b-f477780af722"
      },
      "execution_count": 24,
      "outputs": [
        {
          "output_type": "display_data",
          "data": {
            "text/html": [
              "<style>\n",
              ".list-inline {list-style: none; margin:0; padding: 0}\n",
              ".list-inline>li {display: inline-block}\n",
              ".list-inline>li:not(:last-child)::after {content: \"\\00b7\"; padding: 0 .5ex}\n",
              "</style>\n",
              "<ol class=list-inline><li>2010</li><li>2010</li><li>2010</li><li>2010</li><li>2011</li><li>2011</li><li>2011</li><li>2011</li><li>2012</li><li>2012</li><li>2012</li><li>2012</li><li>2013</li><li>2013</li><li>2013</li><li>2013</li><li>2014</li><li>2014</li><li>2014</li><li>2014</li><li>2015</li><li>2015</li><li>2015</li><li>2015</li><li>2017</li><li>2017</li><li>2017</li><li>2017</li></ol>\n"
            ],
            "text/markdown": "1. 2010\n2. 2010\n3. 2010\n4. 2010\n5. 2011\n6. 2011\n7. 2011\n8. 2011\n9. 2012\n10. 2012\n11. 2012\n12. 2012\n13. 2013\n14. 2013\n15. 2013\n16. 2013\n17. 2014\n18. 2014\n19. 2014\n20. 2014\n21. 2015\n22. 2015\n23. 2015\n24. 2015\n25. 2017\n26. 2017\n27. 2017\n28. 2017\n\n\n",
            "text/latex": "\\begin{enumerate*}\n\\item 2010\n\\item 2010\n\\item 2010\n\\item 2010\n\\item 2011\n\\item 2011\n\\item 2011\n\\item 2011\n\\item 2012\n\\item 2012\n\\item 2012\n\\item 2012\n\\item 2013\n\\item 2013\n\\item 2013\n\\item 2013\n\\item 2014\n\\item 2014\n\\item 2014\n\\item 2014\n\\item 2015\n\\item 2015\n\\item 2015\n\\item 2015\n\\item 2017\n\\item 2017\n\\item 2017\n\\item 2017\n\\end{enumerate*}\n",
            "text/plain": [
              " [1] 2010 2010 2010 2010 2011 2011 2011 2011 2012 2012 2012 2012 2013 2013 2013\n",
              "[16] 2013 2014 2014 2014 2014 2015 2015 2015 2015 2017 2017 2017 2017"
            ]
          },
          "metadata": {}
        }
      ]
    },
    {
      "cell_type": "code",
      "source": [
        "rep(c(2016, 2017), c(4,3))"
      ],
      "metadata": {
        "colab": {
          "base_uri": "https://localhost:8080/",
          "height": 34
        },
        "id": "gkdrT0KF9Kxs",
        "outputId": "78f58069-255e-4bab-a4e4-eaf6ea17176f"
      },
      "execution_count": 25,
      "outputs": [
        {
          "output_type": "display_data",
          "data": {
            "text/html": [
              "<style>\n",
              ".list-inline {list-style: none; margin:0; padding: 0}\n",
              ".list-inline>li {display: inline-block}\n",
              ".list-inline>li:not(:last-child)::after {content: \"\\00b7\"; padding: 0 .5ex}\n",
              "</style>\n",
              "<ol class=list-inline><li>2016</li><li>2016</li><li>2016</li><li>2016</li><li>2017</li><li>2017</li><li>2017</li></ol>\n"
            ],
            "text/markdown": "1. 2016\n2. 2016\n3. 2016\n4. 2016\n5. 2017\n6. 2017\n7. 2017\n\n\n",
            "text/latex": "\\begin{enumerate*}\n\\item 2016\n\\item 2016\n\\item 2016\n\\item 2016\n\\item 2017\n\\item 2017\n\\item 2017\n\\end{enumerate*}\n",
            "text/plain": [
              "[1] 2016 2016 2016 2016 2017 2017 2017"
            ]
          },
          "metadata": {}
        }
      ]
    },
    {
      "cell_type": "code",
      "source": [
        "seq(50,100, by= 2.5)"
      ],
      "metadata": {
        "colab": {
          "base_uri": "https://localhost:8080/",
          "height": 34
        },
        "id": "dzLsqwVV5myC",
        "outputId": "25875386-201e-4125-8c62-249785ae8f2b"
      },
      "execution_count": 19,
      "outputs": [
        {
          "output_type": "display_data",
          "data": {
            "text/html": [
              "<style>\n",
              ".list-inline {list-style: none; margin:0; padding: 0}\n",
              ".list-inline>li {display: inline-block}\n",
              ".list-inline>li:not(:last-child)::after {content: \"\\00b7\"; padding: 0 .5ex}\n",
              "</style>\n",
              "<ol class=list-inline><li>50</li><li>52.5</li><li>55</li><li>57.5</li><li>60</li><li>62.5</li><li>65</li><li>67.5</li><li>70</li><li>72.5</li><li>75</li><li>77.5</li><li>80</li><li>82.5</li><li>85</li><li>87.5</li><li>90</li><li>92.5</li><li>95</li><li>97.5</li><li>100</li></ol>\n"
            ],
            "text/markdown": "1. 50\n2. 52.5\n3. 55\n4. 57.5\n5. 60\n6. 62.5\n7. 65\n8. 67.5\n9. 70\n10. 72.5\n11. 75\n12. 77.5\n13. 80\n14. 82.5\n15. 85\n16. 87.5\n17. 90\n18. 92.5\n19. 95\n20. 97.5\n21. 100\n\n\n",
            "text/latex": "\\begin{enumerate*}\n\\item 50\n\\item 52.5\n\\item 55\n\\item 57.5\n\\item 60\n\\item 62.5\n\\item 65\n\\item 67.5\n\\item 70\n\\item 72.5\n\\item 75\n\\item 77.5\n\\item 80\n\\item 82.5\n\\item 85\n\\item 87.5\n\\item 90\n\\item 92.5\n\\item 95\n\\item 97.5\n\\item 100\n\\end{enumerate*}\n",
            "text/plain": [
              " [1]  50.0  52.5  55.0  57.5  60.0  62.5  65.0  67.5  70.0  72.5  75.0  77.5\n",
              "[13]  80.0  82.5  85.0  87.5  90.0  92.5  95.0  97.5 100.0"
            ]
          },
          "metadata": {}
        }
      ]
    },
    {
      "cell_type": "code",
      "source": [
        "seq(1295, 1290, by= -1)"
      ],
      "metadata": {
        "colab": {
          "base_uri": "https://localhost:8080/",
          "height": 34
        },
        "id": "crcFHFf29LAq",
        "outputId": "01689068-dc4b-4091-cf89-6a10fd1e77f8"
      },
      "execution_count": 27,
      "outputs": [
        {
          "output_type": "display_data",
          "data": {
            "text/html": [
              "<style>\n",
              ".list-inline {list-style: none; margin:0; padding: 0}\n",
              ".list-inline>li {display: inline-block}\n",
              ".list-inline>li:not(:last-child)::after {content: \"\\00b7\"; padding: 0 .5ex}\n",
              "</style>\n",
              "<ol class=list-inline><li>1295</li><li>1294</li><li>1293</li><li>1292</li><li>1291</li><li>1290</li></ol>\n"
            ],
            "text/markdown": "1. 1295\n2. 1294\n3. 1293\n4. 1292\n5. 1291\n6. 1290\n\n\n",
            "text/latex": "\\begin{enumerate*}\n\\item 1295\n\\item 1294\n\\item 1293\n\\item 1292\n\\item 1291\n\\item 1290\n\\end{enumerate*}\n",
            "text/plain": [
              "[1] 1295 1294 1293 1292 1291 1290"
            ]
          },
          "metadata": {}
        }
      ]
    }
  ]
}